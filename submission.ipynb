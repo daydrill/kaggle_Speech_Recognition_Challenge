{
 "cells": [
  {
   "cell_type": "code",
   "execution_count": null,
   "metadata": {
    "collapsed": true
   },
   "outputs": [],
   "source": []
  },
  {
   "cell_type": "code",
   "execution_count": 1,
   "metadata": {},
   "outputs": [
    {
     "name": "stderr",
     "output_type": "stream",
     "text": [
      "Using TensorFlow backend.\n"
     ]
    }
   ],
   "source": [
    "from glob import glob\n",
    "import re\n",
    "import os\n",
    "import numpy as np\n",
    "import pandas as pd\n",
    "from scipy.fftpack import fft\n",
    "from scipy.io import wavfile\n",
    "from scipy import signal\n",
    "import IPython.display as ipd\n",
    "\n",
    "from keras.models import load_model\n",
    "from sklearn.preprocessing import LabelEncoder"
   ]
  },
  {
   "cell_type": "code",
   "execution_count": 2,
   "metadata": {
    "collapsed": true
   },
   "outputs": [],
   "source": [
    "TEST_PATH = './input/test/audio/'\n",
    "OUTPUT_PATH = './output/'\n",
    "EXT = 'wav'\n",
    "L = 16000\n",
    "new_sample_rate = 8000\n",
    "LABELS = ['_silence', '_unknown', 'down', 'go', 'left', 'no', 'off', 'on', 'right', 'stop', 'up', 'yes']"
   ]
  },
  {
   "cell_type": "code",
   "execution_count": 3,
   "metadata": {
    "collapsed": true
   },
   "outputs": [],
   "source": [
    "def pad_audio(samples):\n",
    "    '''\n",
    "    pad audios that are less than 16000(1 second) with 0s to make them all have the same length.\n",
    "    '''\n",
    "    if len(samples) >= L: \n",
    "        return samples\n",
    "    else: \n",
    "        return np.pad(samples, pad_width=(L - len(samples), 0), mode='constant', constant_values=(0, 0)) \n",
    "        # sample 앞뒤로 constant_values[0]과 constant_values[1]을 각각 pad_width 갯수 만큼 패딩\n",
    "        # 총길이는 len(samples) + 2*pad_width\n",
    "\n",
    "def chop_audio(samples, L=16000, num=20):\n",
    "    '''\n",
    "    \n",
    "    chop audios that are larger than 16000(eg. wav files in background noises folder) to 16000 in length.\n",
    "    create several chunks out of one large wav files given the parameter 'num'.\n",
    "    '''\n",
    "    for i in range(num):\n",
    "        beg = np.random.randint(0, len(samples) - L)\n",
    "        yield samples[beg: beg + L]\n",
    "\n",
    "def label_transform(labels):\n",
    "    '''\n",
    "    레이블 정규화 및 one-hot벡터화 (더미화)\n",
    "    '''\n",
    "    nlabels = []\n",
    "    for label in labels:\n",
    "        if label == '_background_noise_':\n",
    "            nlabels.append('silence')\n",
    "        elif label not in legal_labels:\n",
    "            nlabels.append('unknown')\n",
    "        else:\n",
    "            nlabels.append(label)\n",
    "    return pd.get_dummies(pd.Series(nlabels))\n",
    "\n",
    "\n",
    "## custom_fft and log_specgram functions written by DavidS.\n",
    "def custom_fft(y, fs):\n",
    "    T = 1.0 / fs\n",
    "    N = y.shape[0]\n",
    "    yf = fft(y)\n",
    "    xf = np.linspace(0.0, 1.0/(2.0*T), N//2)\n",
    "    # FFT 는 대칭(simmetrical)이므로 반쪽만 얻음.\n",
    "    # FFT 는 복소수이므로 실수값만 취하기 위해 abs()\n",
    "    vals = 2.0/N * np.abs(yf[0:N//2])\n",
    "    return xf, vals\n",
    "\n",
    "def log_specgram(audio, sample_rate, window_size=20, step_size=10, eps=1e-10):\n",
    "    nperseg = int(round(window_size * sample_rate / 1e3))\n",
    "    noverlap = int(round(step_size * sample_rate / 1e3))\n",
    "    freqs, times, spec = signal.spectrogram(audio,\n",
    "                                    fs=sample_rate,\n",
    "                                    window='hann',\n",
    "                                    nperseg=nperseg,\n",
    "                                    noverlap=noverlap,\n",
    "                                    detrend=False)\n",
    "    return freqs, times, np.log(spec.T.astype(np.float32) + eps)\n"
   ]
  },
  {
   "cell_type": "code",
   "execution_count": 4,
   "metadata": {},
   "outputs": [],
   "source": [
    "submission_fpaths = glob(os.path.join(TEST_PATH, r'*' + EXT))"
   ]
  },
  {
   "cell_type": "code",
   "execution_count": 5,
   "metadata": {},
   "outputs": [
    {
     "data": {
      "text/plain": [
       "['./input/test/audio/clip_000044442.wav',\n",
       " './input/test/audio/clip_0000adecb.wav',\n",
       " './input/test/audio/clip_0000d4322.wav',\n",
       " './input/test/audio/clip_0000fb6fe.wav',\n",
       " './input/test/audio/clip_0001d1559.wav',\n",
       " './input/test/audio/clip_0002256ed.wav',\n",
       " './input/test/audio/clip_0002a4a1f.wav',\n",
       " './input/test/audio/clip_0002d9b83.wav',\n",
       " './input/test/audio/clip_000373a5b.wav',\n",
       " './input/test/audio/clip_0003c7122.wav']"
      ]
     },
     "execution_count": 5,
     "metadata": {},
     "output_type": "execute_result"
    }
   ],
   "source": [
    "submission_fpaths[:10]"
   ]
  },
  {
   "cell_type": "code",
   "execution_count": 6,
   "metadata": {},
   "outputs": [],
   "source": [
    "pat = r'.+/(\\w+\\.' + EXT + ')$'\n",
    "r = re.match(pat, submission_fpaths[0])"
   ]
  },
  {
   "cell_type": "code",
   "execution_count": 7,
   "metadata": {},
   "outputs": [
    {
     "data": {
      "text/plain": [
       "'clip_000044442.wav'"
      ]
     },
     "execution_count": 7,
     "metadata": {},
     "output_type": "execute_result"
    }
   ],
   "source": [
    "r.group(1)"
   ]
  },
  {
   "cell_type": "code",
   "execution_count": null,
   "metadata": {
    "collapsed": true
   },
   "outputs": [],
   "source": []
  },
  {
   "cell_type": "code",
   "execution_count": null,
   "metadata": {
    "collapsed": true
   },
   "outputs": [],
   "source": []
  },
  {
   "cell_type": "code",
   "execution_count": 46,
   "metadata": {},
   "outputs": [
    {
     "name": "stdout",
     "output_type": "stream",
     "text": [
      "CPU times: user 2min 29s, sys: 33.4 s, total: 3min 3s\n",
      "Wall time: 3min 34s\n"
     ]
    }
   ],
   "source": [
    "%%time\n",
    "X = []\n",
    "for fpath in submission_fpaths:\n",
    "    sample_rate, samples = wavfile.read(fpath)\n",
    "    samples = pad_audio(samples)\n",
    "    if len(samples) > 16000:\n",
    "        n_samples = chop_audio(samples)\n",
    "    else: \n",
    "        n_samples = [samples]\n",
    "    for samples in n_samples:\n",
    "        resampled = signal.resample(samples, int(new_sample_rate / sample_rate * samples.shape[0]))\n",
    "        _, _, specgram = log_specgram(resampled, sample_rate=new_sample_rate)\n",
    "        X.append(specgram)"
   ]
  },
  {
   "cell_type": "code",
   "execution_count": 47,
   "metadata": {},
   "outputs": [],
   "source": [
    "X = np.array(X)\n",
    "X = X.reshape(tuple(list(X.shape) + [1]))"
   ]
  },
  {
   "cell_type": "code",
   "execution_count": 48,
   "metadata": {},
   "outputs": [
    {
     "name": "stdout",
     "output_type": "stream",
     "text": [
      "158538/158538 [==============================] - 228s   \n"
     ]
    }
   ],
   "source": [
    "preds_proba = model.predict(X, batch_size=1024, verbose=1)"
   ]
  },
  {
   "cell_type": "code",
   "execution_count": 58,
   "metadata": {
    "collapsed": true
   },
   "outputs": [],
   "source": [
    "preds = [LABELS[i] for i in np.argmax(preds_proba, axis=1)]"
   ]
  },
  {
   "cell_type": "code",
   "execution_count": 8,
   "metadata": {},
   "outputs": [
    {
     "data": {
      "text/plain": [
       "['_silence',\n",
       " '_unknown',\n",
       " 'down',\n",
       " 'go',\n",
       " 'left',\n",
       " 'no',\n",
       " 'off',\n",
       " 'on',\n",
       " 'right',\n",
       " 'stop',\n",
       " 'up',\n",
       " 'yes']"
      ]
     },
     "execution_count": 8,
     "metadata": {},
     "output_type": "execute_result"
    }
   ],
   "source": [
    "LABELS"
   ]
  },
  {
   "cell_type": "code",
   "execution_count": 71,
   "metadata": {},
   "outputs": [
    {
     "data": {
      "text/html": [
       "\n",
       "                <audio controls=\"controls\" >\n",
       "                    <source src=\"data:audio/wav;base64,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\" type=\"audio/wav\" />\n",
       "                    Your browser does not support the audio element.\n",
       "                </audio>\n",
       "              "
      ],
      "text/plain": [
       "<IPython.lib.display.Audio object>"
      ]
     },
     "execution_count": 71,
     "metadata": {},
     "output_type": "execute_result"
    }
   ],
   "source": [
    "i = 1225\n",
    "sample_rate, samples = wavfile.read(submission_fpaths[i])\n",
    "ipd.Audio(samples, rate=sample_rate)"
   ]
  },
  {
   "cell_type": "code",
   "execution_count": 72,
   "metadata": {},
   "outputs": [
    {
     "data": {
      "text/plain": [
       "[0.0069095492,\n",
       " 0.82243466,\n",
       " 0.0035084886,\n",
       " 0.0068927505,\n",
       " 1.5634483e-05,\n",
       " 0.0002596408,\n",
       " 0.003939827,\n",
       " 0.0019416556,\n",
       " 8.4403746e-06,\n",
       " 0.099022947,\n",
       " 0.055015635,\n",
       " 5.087009e-05]"
      ]
     },
     "execution_count": 72,
     "metadata": {},
     "output_type": "execute_result"
    }
   ],
   "source": [
    "list(preds_proba[i])"
   ]
  },
  {
   "cell_type": "code",
   "execution_count": null,
   "metadata": {
    "collapsed": true
   },
   "outputs": [],
   "source": []
  },
  {
   "cell_type": "code",
   "execution_count": 62,
   "metadata": {},
   "outputs": [
    {
     "data": {
      "text/plain": [
       "_unknown    99781\n",
       "no           6897\n",
       "off          6196\n",
       "up           6076\n",
       "stop         5737\n",
       "yes          5473\n",
       "on           5360\n",
       "left         5051\n",
       "right        4652\n",
       "_silence     4535\n",
       "go           4442\n",
       "down         4338\n",
       "dtype: int64"
      ]
     },
     "execution_count": 62,
     "metadata": {},
     "output_type": "execute_result"
    }
   ],
   "source": [
    "pd.Series(preds).value_counts()"
   ]
  },
  {
   "cell_type": "code",
   "execution_count": null,
   "metadata": {
    "collapsed": true
   },
   "outputs": [],
   "source": []
  },
  {
   "cell_type": "code",
   "execution_count": null,
   "metadata": {
    "collapsed": true
   },
   "outputs": [],
   "source": []
  },
  {
   "cell_type": "code",
   "execution_count": 109,
   "metadata": {},
   "outputs": [
    {
     "data": {
      "text/html": [
       "<div>\n",
       "<style>\n",
       "    .dataframe thead tr:only-child th {\n",
       "        text-align: right;\n",
       "    }\n",
       "\n",
       "    .dataframe thead th {\n",
       "        text-align: left;\n",
       "    }\n",
       "\n",
       "    .dataframe tbody tr th {\n",
       "        vertical-align: top;\n",
       "    }\n",
       "</style>\n",
       "<table border=\"1\" class=\"dataframe\">\n",
       "  <thead>\n",
       "    <tr style=\"text-align: right;\">\n",
       "      <th></th>\n",
       "      <th>0</th>\n",
       "      <th>1</th>\n",
       "      <th>2</th>\n",
       "      <th>3</th>\n",
       "      <th>4</th>\n",
       "      <th>5</th>\n",
       "      <th>6</th>\n",
       "      <th>7</th>\n",
       "      <th>8</th>\n",
       "      <th>9</th>\n",
       "      <th>10</th>\n",
       "      <th>11</th>\n",
       "    </tr>\n",
       "  </thead>\n",
       "  <tbody>\n",
       "    <tr>\n",
       "      <th>0</th>\n",
       "      <td>0.004886</td>\n",
       "      <td>0.334909</td>\n",
       "      <td>0.003579</td>\n",
       "      <td>0.267606</td>\n",
       "      <td>0.007844</td>\n",
       "      <td>0.005214</td>\n",
       "      <td>0.011782</td>\n",
       "      <td>0.003972</td>\n",
       "      <td>0.004569</td>\n",
       "      <td>0.332921</td>\n",
       "      <td>0.003513</td>\n",
       "      <td>0.019205</td>\n",
       "    </tr>\n",
       "    <tr>\n",
       "      <th>1</th>\n",
       "      <td>0.000262</td>\n",
       "      <td>0.000053</td>\n",
       "      <td>0.000056</td>\n",
       "      <td>0.000018</td>\n",
       "      <td>0.000091</td>\n",
       "      <td>0.000465</td>\n",
       "      <td>0.000095</td>\n",
       "      <td>0.000043</td>\n",
       "      <td>0.000032</td>\n",
       "      <td>0.998098</td>\n",
       "      <td>0.000741</td>\n",
       "      <td>0.000046</td>\n",
       "    </tr>\n",
       "    <tr>\n",
       "      <th>2</th>\n",
       "      <td>0.035625</td>\n",
       "      <td>0.065441</td>\n",
       "      <td>0.000036</td>\n",
       "      <td>0.007289</td>\n",
       "      <td>0.003101</td>\n",
       "      <td>0.018397</td>\n",
       "      <td>0.000180</td>\n",
       "      <td>0.000233</td>\n",
       "      <td>0.012770</td>\n",
       "      <td>0.851233</td>\n",
       "      <td>0.005168</td>\n",
       "      <td>0.000529</td>\n",
       "    </tr>\n",
       "    <tr>\n",
       "      <th>3</th>\n",
       "      <td>0.047504</td>\n",
       "      <td>0.012185</td>\n",
       "      <td>0.042488</td>\n",
       "      <td>0.004929</td>\n",
       "      <td>0.026152</td>\n",
       "      <td>0.017004</td>\n",
       "      <td>0.073481</td>\n",
       "      <td>0.022707</td>\n",
       "      <td>0.014550</td>\n",
       "      <td>0.548025</td>\n",
       "      <td>0.168084</td>\n",
       "      <td>0.022891</td>\n",
       "    </tr>\n",
       "    <tr>\n",
       "      <th>4</th>\n",
       "      <td>0.000011</td>\n",
       "      <td>0.000044</td>\n",
       "      <td>0.000020</td>\n",
       "      <td>0.000029</td>\n",
       "      <td>0.000004</td>\n",
       "      <td>0.000082</td>\n",
       "      <td>0.000489</td>\n",
       "      <td>0.000009</td>\n",
       "      <td>0.000007</td>\n",
       "      <td>0.999253</td>\n",
       "      <td>0.000009</td>\n",
       "      <td>0.000043</td>\n",
       "    </tr>\n",
       "    <tr>\n",
       "      <th>5</th>\n",
       "      <td>0.000894</td>\n",
       "      <td>0.000281</td>\n",
       "      <td>0.000276</td>\n",
       "      <td>0.000255</td>\n",
       "      <td>0.000270</td>\n",
       "      <td>0.001979</td>\n",
       "      <td>0.000335</td>\n",
       "      <td>0.000111</td>\n",
       "      <td>0.000186</td>\n",
       "      <td>0.994502</td>\n",
       "      <td>0.000401</td>\n",
       "      <td>0.000510</td>\n",
       "    </tr>\n",
       "    <tr>\n",
       "      <th>6</th>\n",
       "      <td>0.000495</td>\n",
       "      <td>0.000170</td>\n",
       "      <td>0.000137</td>\n",
       "      <td>0.000059</td>\n",
       "      <td>0.007666</td>\n",
       "      <td>0.255696</td>\n",
       "      <td>0.000648</td>\n",
       "      <td>0.000136</td>\n",
       "      <td>0.000306</td>\n",
       "      <td>0.731618</td>\n",
       "      <td>0.002158</td>\n",
       "      <td>0.000911</td>\n",
       "    </tr>\n",
       "    <tr>\n",
       "      <th>7</th>\n",
       "      <td>0.000189</td>\n",
       "      <td>0.000207</td>\n",
       "      <td>0.000085</td>\n",
       "      <td>0.000082</td>\n",
       "      <td>0.000007</td>\n",
       "      <td>0.000042</td>\n",
       "      <td>0.001039</td>\n",
       "      <td>0.000050</td>\n",
       "      <td>0.000075</td>\n",
       "      <td>0.998051</td>\n",
       "      <td>0.000116</td>\n",
       "      <td>0.000057</td>\n",
       "    </tr>\n",
       "    <tr>\n",
       "      <th>8</th>\n",
       "      <td>0.005667</td>\n",
       "      <td>0.409791</td>\n",
       "      <td>0.000664</td>\n",
       "      <td>0.289382</td>\n",
       "      <td>0.009465</td>\n",
       "      <td>0.001195</td>\n",
       "      <td>0.001793</td>\n",
       "      <td>0.002747</td>\n",
       "      <td>0.010495</td>\n",
       "      <td>0.263403</td>\n",
       "      <td>0.002170</td>\n",
       "      <td>0.003227</td>\n",
       "    </tr>\n",
       "    <tr>\n",
       "      <th>9</th>\n",
       "      <td>0.027107</td>\n",
       "      <td>0.006739</td>\n",
       "      <td>0.011709</td>\n",
       "      <td>0.003565</td>\n",
       "      <td>0.018217</td>\n",
       "      <td>0.034465</td>\n",
       "      <td>0.034676</td>\n",
       "      <td>0.003737</td>\n",
       "      <td>0.003390</td>\n",
       "      <td>0.826866</td>\n",
       "      <td>0.016317</td>\n",
       "      <td>0.013211</td>\n",
       "    </tr>\n",
       "  </tbody>\n",
       "</table>\n",
       "</div>"
      ],
      "text/plain": [
       "         0         1         2         3         4         5         6   \\\n",
       "0  0.004886  0.334909  0.003579  0.267606  0.007844  0.005214  0.011782   \n",
       "1  0.000262  0.000053  0.000056  0.000018  0.000091  0.000465  0.000095   \n",
       "2  0.035625  0.065441  0.000036  0.007289  0.003101  0.018397  0.000180   \n",
       "3  0.047504  0.012185  0.042488  0.004929  0.026152  0.017004  0.073481   \n",
       "4  0.000011  0.000044  0.000020  0.000029  0.000004  0.000082  0.000489   \n",
       "5  0.000894  0.000281  0.000276  0.000255  0.000270  0.001979  0.000335   \n",
       "6  0.000495  0.000170  0.000137  0.000059  0.007666  0.255696  0.000648   \n",
       "7  0.000189  0.000207  0.000085  0.000082  0.000007  0.000042  0.001039   \n",
       "8  0.005667  0.409791  0.000664  0.289382  0.009465  0.001195  0.001793   \n",
       "9  0.027107  0.006739  0.011709  0.003565  0.018217  0.034465  0.034676   \n",
       "\n",
       "         7         8         9         10        11  \n",
       "0  0.003972  0.004569  0.332921  0.003513  0.019205  \n",
       "1  0.000043  0.000032  0.998098  0.000741  0.000046  \n",
       "2  0.000233  0.012770  0.851233  0.005168  0.000529  \n",
       "3  0.022707  0.014550  0.548025  0.168084  0.022891  \n",
       "4  0.000009  0.000007  0.999253  0.000009  0.000043  \n",
       "5  0.000111  0.000186  0.994502  0.000401  0.000510  \n",
       "6  0.000136  0.000306  0.731618  0.002158  0.000911  \n",
       "7  0.000050  0.000075  0.998051  0.000116  0.000057  \n",
       "8  0.002747  0.010495  0.263403  0.002170  0.003227  \n",
       "9  0.003737  0.003390  0.826866  0.016317  0.013211  "
      ]
     },
     "execution_count": 109,
     "metadata": {},
     "output_type": "execute_result"
    }
   ],
   "source": [
    "df_res = pd.DataFrame(res)\n",
    "df_res[:10]"
   ]
  },
  {
   "cell_type": "code",
   "execution_count": 36,
   "metadata": {
    "collapsed": true
   },
   "outputs": [],
   "source": []
  },
  {
   "cell_type": "code",
   "execution_count": 9,
   "metadata": {
    "collapsed": true
   },
   "outputs": [],
   "source": [
    "model = load_model(os.path.join(OUTPUT_PATH, 'cnn_baseline_epoch20.h5'))"
   ]
  },
  {
   "cell_type": "code",
   "execution_count": 10,
   "metadata": {
    "collapsed": true
   },
   "outputs": [],
   "source": [
    "def test_data_generator(batch=16):\n",
    "    fpaths = glob(os.path.join(TEST_PATH, '*wav'))\n",
    "    i = 0\n",
    "    for path in fpaths:\n",
    "        if i == 0:\n",
    "            imgs = []\n",
    "            fnames = []\n",
    "        i += 1\n",
    "        rate, samples = wavfile.read(path)\n",
    "        samples = pad_audio(samples)\n",
    "        resampled = signal.resample(samples, int(new_sample_rate / rate * samples.shape[0]))\n",
    "        _, _, specgram = log_specgram(resampled, sample_rate=new_sample_rate)\n",
    "        imgs.append(specgram)\n",
    "        fnames.append(path.split('/')[-1])\n",
    "        if i == batch:\n",
    "            i = 0\n",
    "            imgs = np.array(imgs)\n",
    "            imgs = imgs.reshape(tuple(list(imgs.shape) + [1]))\n",
    "            yield fnames, imgs\n",
    "    if i < batch:\n",
    "        imgs = np.array(imgs)\n",
    "        imgs = imgs.reshape(tuple(list(imgs.shape) + [1]))\n",
    "        yield fnames, imgs\n",
    "    raise StopIteration()"
   ]
  },
  {
   "cell_type": "code",
   "execution_count": 11,
   "metadata": {},
   "outputs": [
    {
     "name": "stderr",
     "output_type": "stream",
     "text": [
      "/Users/chad/anaconda3/lib/python3.6/site-packages/ipykernel_launcher.py:4: DeprecationWarning: generator 'test_data_generator' raised StopIteration\n",
      "  after removing the cwd from sys.path.\n"
     ]
    },
    {
     "name": "stdout",
     "output_type": "stream",
     "text": [
      "CPU times: user 14min 33s, sys: 1min 55s, total: 16min 29s\n",
      "Wall time: 6min 43s\n"
     ]
    }
   ],
   "source": [
    "%%time \n",
    "\n",
    "index = []\n",
    "results = []\n",
    "for fnames, imgs in test_data_generator(batch=32):\n",
    "    predicts = model.predict(imgs)\n",
    "    predicts = np.argmax(predicts, axis=1)\n",
    "    predicts = [LABELS[p] for p in predicts]\n",
    "    index.extend(fnames)\n",
    "    results.extend(predicts)\n",
    "\n",
    "df = pd.DataFrame(columns=['fname', 'label'])\n",
    "df['fname'] = index\n",
    "df['label'] = results\n",
    "df.to_csv(os.path.join(OUTPUT_PATH, 'sub2.csv'), index=False)"
   ]
  },
  {
   "cell_type": "code",
   "execution_count": 39,
   "metadata": {},
   "outputs": [],
   "source": [
    "df2 = df.copy()"
   ]
  },
  {
   "cell_type": "code",
   "execution_count": null,
   "metadata": {
    "collapsed": true
   },
   "outputs": [],
   "source": []
  },
  {
   "cell_type": "code",
   "execution_count": null,
   "metadata": {
    "collapsed": true
   },
   "outputs": [],
   "source": []
  }
 ],
 "metadata": {
  "kernelspec": {
   "display_name": "Python 3",
   "language": "python",
   "name": "python3"
  },
  "language_info": {
   "codemirror_mode": {
    "name": "ipython",
    "version": 3
   },
   "file_extension": ".py",
   "mimetype": "text/x-python",
   "name": "python",
   "nbconvert_exporter": "python",
   "pygments_lexer": "ipython3",
   "version": "3.6.1"
  }
 },
 "nbformat": 4,
 "nbformat_minor": 2
}
