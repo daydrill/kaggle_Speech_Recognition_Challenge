{
 "cells": [
  {
   "cell_type": "code",
   "execution_count": null,
   "metadata": {
    "collapsed": true
   },
   "outputs": [],
   "source": []
  },
  {
   "cell_type": "code",
   "execution_count": 113,
   "metadata": {},
   "outputs": [],
   "source": [
    "from glob import glob\n",
    "import re\n",
    "import os\n",
    "import numpy as np\n",
    "import pandas as pd\n",
    "from scipy.fftpack import fft\n",
    "from scipy.io import wavfile\n",
    "from scipy import signal\n",
    "import IPython.display as ipd\n",
    "\n",
    "from keras.models import load_model\n",
    "from sklearn.preprocessing import LabelEncoder"
   ]
  },
  {
   "cell_type": "code",
   "execution_count": 59,
   "metadata": {
    "collapsed": true
   },
   "outputs": [],
   "source": [
    "TEST_PATH = './input/test/audio/'\n",
    "OUTPUT_PATH = './output/'\n",
    "EXT = 'wav'\n",
    "L = 16000\n",
    "new_sample_rate = 8000"
   ]
  },
  {
   "cell_type": "code",
   "execution_count": 62,
   "metadata": {
    "collapsed": true
   },
   "outputs": [],
   "source": [
    "def pad_audio(samples):\n",
    "    '''\n",
    "    pad audios that are less than 16000(1 second) with 0s to make them all have the same length.\n",
    "    '''\n",
    "    if len(samples) >= L: \n",
    "        return samples\n",
    "    else: \n",
    "        return np.pad(samples, pad_width=(L - len(samples), 0), mode='constant', constant_values=(0, 0)) \n",
    "        # sample 앞뒤로 constant_values[0]과 constant_values[1]을 각각 pad_width 갯수 만큼 패딩\n",
    "        # 총길이는 len(samples) + 2*pad_width\n",
    "\n",
    "def chop_audio(samples, L=16000, num=20):\n",
    "    '''\n",
    "    \n",
    "    chop audios that are larger than 16000(eg. wav files in background noises folder) to 16000 in length.\n",
    "    create several chunks out of one large wav files given the parameter 'num'.\n",
    "    '''\n",
    "    for i in range(num):\n",
    "        beg = np.random.randint(0, len(samples) - L)\n",
    "        yield samples[beg: beg + L]\n",
    "\n",
    "def label_transform(labels):\n",
    "    '''\n",
    "    레이블 정규화 및 one-hot벡터화 (더미화)\n",
    "    '''\n",
    "    nlabels = []\n",
    "    for label in labels:\n",
    "        if label == '_background_noise_':\n",
    "            nlabels.append('silence')\n",
    "        elif label not in legal_labels:\n",
    "            nlabels.append('unknown')\n",
    "        else:\n",
    "            nlabels.append(label)\n",
    "    return pd.get_dummies(pd.Series(nlabels))\n",
    "\n",
    "\n",
    "## custom_fft and log_specgram functions written by DavidS.\n",
    "def custom_fft(y, fs):\n",
    "    T = 1.0 / fs\n",
    "    N = y.shape[0]\n",
    "    yf = fft(y)\n",
    "    xf = np.linspace(0.0, 1.0/(2.0*T), N//2)\n",
    "    # FFT 는 대칭(simmetrical)이므로 반쪽만 얻음.\n",
    "    # FFT 는 복소수이므로 실수값만 취하기 위해 abs()\n",
    "    vals = 2.0/N * np.abs(yf[0:N//2])\n",
    "    return xf, vals\n",
    "\n",
    "def log_specgram(audio, sample_rate, window_size=20, step_size=10, eps=1e-10):\n",
    "    nperseg = int(round(window_size * sample_rate / 1e3))\n",
    "    noverlap = int(round(step_size * sample_rate / 1e3))\n",
    "    freqs, times, spec = signal.spectrogram(audio,\n",
    "                                    fs=sample_rate,\n",
    "                                    window='hann',\n",
    "                                    nperseg=nperseg,\n",
    "                                    noverlap=noverlap,\n",
    "                                    detrend=False)\n",
    "    return freqs, times, np.log(spec.T.astype(np.float32) + eps)\n"
   ]
  },
  {
   "cell_type": "code",
   "execution_count": 21,
   "metadata": {},
   "outputs": [],
   "source": [
    "submission_fpaths = glob(os.path.join(TEST_PATH, r'*' + EXT))"
   ]
  },
  {
   "cell_type": "code",
   "execution_count": 22,
   "metadata": {},
   "outputs": [
    {
     "data": {
      "text/plain": [
       "['./input/test/audio/clip_000044442.wav',\n",
       " './input/test/audio/clip_0000adecb.wav',\n",
       " './input/test/audio/clip_0000d4322.wav',\n",
       " './input/test/audio/clip_0000fb6fe.wav',\n",
       " './input/test/audio/clip_0001d1559.wav',\n",
       " './input/test/audio/clip_0002256ed.wav',\n",
       " './input/test/audio/clip_0002a4a1f.wav',\n",
       " './input/test/audio/clip_0002d9b83.wav',\n",
       " './input/test/audio/clip_000373a5b.wav',\n",
       " './input/test/audio/clip_0003c7122.wav']"
      ]
     },
     "execution_count": 22,
     "metadata": {},
     "output_type": "execute_result"
    }
   ],
   "source": [
    "submission_fpaths[:10]"
   ]
  },
  {
   "cell_type": "code",
   "execution_count": 36,
   "metadata": {},
   "outputs": [],
   "source": [
    "pat = r'.+/(\\w+\\.' + EXT + ')$'\n",
    "r = re.match(pat, submission_fpaths[0])"
   ]
  },
  {
   "cell_type": "code",
   "execution_count": 37,
   "metadata": {},
   "outputs": [
    {
     "data": {
      "text/plain": [
       "'clip_000044442.wav'"
      ]
     },
     "execution_count": 37,
     "metadata": {},
     "output_type": "execute_result"
    }
   ],
   "source": [
    "r.group(1)"
   ]
  },
  {
   "cell_type": "code",
   "execution_count": null,
   "metadata": {
    "collapsed": true
   },
   "outputs": [],
   "source": []
  },
  {
   "cell_type": "code",
   "execution_count": null,
   "metadata": {
    "collapsed": true
   },
   "outputs": [],
   "source": []
  },
  {
   "cell_type": "code",
   "execution_count": 45,
   "metadata": {},
   "outputs": [],
   "source": [
    "model = load_model(os.path.join(OUTPUT_PATH, 'cnn_model.h5'))"
   ]
  },
  {
   "cell_type": "code",
   "execution_count": 63,
   "metadata": {},
   "outputs": [
    {
     "name": "stdout",
     "output_type": "stream",
     "text": [
      "CPU times: user 2min 34s, sys: 45.6 s, total: 3min 19s\n",
      "Wall time: 3min 51s\n"
     ]
    }
   ],
   "source": [
    "%%time\n",
    "X = []\n",
    "for fpath in submission_fpaths:\n",
    "    sample_rate, samples = wavfile.read(fpath)\n",
    "    samples = pad_audio(samples)\n",
    "    if len(samples) > 16000:\n",
    "        n_samples = chop_audio(samples)\n",
    "    else: \n",
    "        n_samples = [samples]\n",
    "    for samples in n_samples:\n",
    "        resampled = signal.resample(samples, int(new_sample_rate / sample_rate * samples.shape[0]))\n",
    "        _, _, specgram = log_specgram(resampled, sample_rate=new_sample_rate)\n",
    "        X.append(specgram)"
   ]
  },
  {
   "cell_type": "code",
   "execution_count": 72,
   "metadata": {},
   "outputs": [],
   "source": [
    "X = np.array(X)\n",
    "X = X.reshape(tuple(list(X.shape) + [1]))"
   ]
  },
  {
   "cell_type": "code",
   "execution_count": 75,
   "metadata": {
    "collapsed": true
   },
   "outputs": [],
   "source": [
    "label_index = ['down', 'go', 'left', 'no', 'off', 'on', 'right', 'silence', 'stop', 'unknown', 'up', 'yes']"
   ]
  },
  {
   "cell_type": "code",
   "execution_count": 102,
   "metadata": {},
   "outputs": [
    {
     "name": "stdout",
     "output_type": "stream",
     "text": [
      "158538/158538 [==============================] - 242s   \n"
     ]
    }
   ],
   "source": [
    "res = model.predict(X, verbose=1, batch_size=1024)"
   ]
  },
  {
   "cell_type": "code",
   "execution_count": 100,
   "metadata": {},
   "outputs": [
    {
     "data": {
      "text/plain": [
       "[0.0056673065,\n",
       " 0.40979102,\n",
       " 0.00066408748,\n",
       " 0.28938183,\n",
       " 0.0094650043,\n",
       " 0.001195048,\n",
       " 0.0017926361,\n",
       " 0.0027474468,\n",
       " 0.010494744,\n",
       " 0.26340336,\n",
       " 0.0021704782,\n",
       " 0.0032271452]"
      ]
     },
     "execution_count": 100,
     "metadata": {},
     "output_type": "execute_result"
    }
   ],
   "source": [
    "list(res[8])"
   ]
  },
  {
   "cell_type": "code",
   "execution_count": 97,
   "metadata": {},
   "outputs": [
    {
     "data": {
      "text/plain": [
       "['down',\n",
       " 'go',\n",
       " 'left',\n",
       " 'no',\n",
       " 'off',\n",
       " 'on',\n",
       " 'right',\n",
       " 'silence',\n",
       " 'stop',\n",
       " 'unknown',\n",
       " 'up',\n",
       " 'yes']"
      ]
     },
     "execution_count": 97,
     "metadata": {},
     "output_type": "execute_result"
    }
   ],
   "source": [
    "label_index"
   ]
  },
  {
   "cell_type": "code",
   "execution_count": 101,
   "metadata": {},
   "outputs": [
    {
     "data": {
      "text/html": [
       "\n",
       "                <audio controls=\"controls\" >\n",
       "                    <source src=\"data:audio/wav;base64,UklGRiR9AABXQVZFZm10IBAAAAABAAEAgD4AAAB9AAACABAAZGF0YQB9AACHAJEAZQBd/0D/uwCj/4H/uwCZAJb/8f9I/38ASv/NAKsAdwAFAKkAjv9lACQAz/9yAM//5v9gAKX/zQBx/10A6f9F/7D/q/9Q/03/NABS/7gAd/+4/w0ALgCg/5wAsv80AGr/ggBtAEj/uwChALD/fwBi/8oAMP+eAO7/Ef9i/98AsP8NACkAuv+jAAAAlABX/8AA9/6RAMAAZ/87AGz/sADSANf/zP9oAAn94AT1/ij91Qf69/gDLwQB9kAKevoaABEFa/m8BjD7rwHJAYL8TwGcABv92AJ8/778XANd/BsBkQDM/wn/SgG9/4H/ygAc/04ANP4aAgP+3wDKABX+1QAH/2T/NADU/6f+mAFi/zUBmP+HAEMA7v3bAZj/Yv8nAMP+rwEJ/20Ayv93/4wAXf8+AAIALAAHAGT/aABGADP/mQCy/zsAz/8aAFr/z/96AGL/+f+CAI8AGgC1/2IADwCE/4cAoP85AC7/QQBTAAL/ZQC9/1AAWwBX/6YA6f9GAA0AsP9+/6X/EgBv/3UAtf/U/4QAfwDDAB7/dQCJAPH/CgCE/xoArgCj/w0AJwBK/ycAsv+JAH7/3/+HAMX/v//QAGz/5wAFAKv/fv9F/54AJwCe/5QAQwBv/zP/BAFF/z0BUAD6/iEAvv7u/9L/uP+EADD/GgC7ANL/5v9K/10A1QC1//7/vQB+/3oACgDf/2f/aAC4AJf+kwEL/jkABwCH/toAH/4YAb8Ba/6uAIH/Yv/7Aer+I/+QAUX/swCR/0YAtgBK/2EB1/3VAO7/Uf5ZAZz+agC+/q4A6f8W/wQB0f3vAFL/4f87AD3/dgEPANcAM/9GABIAlv+uAIb/hP+ZADkA4P5tAF//YgB3AHH/sgFN/+QAwAAh/5ABO/9LAAcA1P9gAP/+MgG9/7//lgCA/i0BAADX/y0BGf/fADj/xQA2/3H/+v6b/47/2f+mAHz//v8SAB8AIQAPADsArf+rAP/+uwDK/5H/aABQ/5j/HP+e/ycAIQBYAPv/EgBd/47/qwA5AJQA/P69ABQAnv80ANn/TgBOAOn/Uv91AHIAI//U/xwAvf87AEsAQwBq/9L/OwCrAGL/q//AAHoAWwCEAIb/z//f/0YAKQDAACv/ZP/F/20A9ACR/10A7P+PANoAqP/C/1sAZ/+4AF0ANACZANf/lv9yACwAcgBX/7X/WABIAFr/egB5/1QBEgAu/10A4f93AIH/pf/h/5YAxf87AIkAuP/S/zP/SP8nAB8AjACMAGL/Ef8sABb/hAC9AM7+PwFD/+H/4f99/mwBJv+jAIQAYv+w/+L+KwE0ALL/FwBIAHcAJv+RAN//+/9YADj/Rf/KAML/fADQAEEAYADaABH/zQBA/9n/NgASAIcAMP8pADYAfP8SADj/hADx/4T/7P9D/2z/uACUAFMAdQAkAAoAfwBk/7D/D/+JAIcAsv+R/9L/hP+uAGAAbwA9/zkASgGp/qEATf/KADkAKQAAACv/3/9LAMMAh/6wAKT+fP/XAB8AZAHt/o8Ab/8KAM0AZP8PAFgAnv9IAIIA3P9dAOz/cf/FAOb/DgFx/8oAswDK/zEA8/9yAGf/uAD5/5kAKf9vAJ4AYgCeAFMAkQAFAHcAqQBbAH8AmQCl/4b/m//K/5H/xf+B/wIAd/9GAGz/v//M/8f/d/+hAFr/cf9BACwA9v/c/+7/av8gAWT/8/95/wf/egAz/ycA3/+ZAPn/AgA2APP/5v/X/6sAngDk/3n/PgA7ACb/bQCWALgAmP9n/54AqP+g/9UASAAcAAAA8/+2ABn/jwCHAIT/WwBGAEMAoP+UAGoA2f9VAFMAjwBvAFL/uv84/3z/xf9k/1X/5P9A/3oAngCO/2gACgBf/5QAtgAKAFsA8//p/1gAmP8nAKEAowCpAM0AAgAR/8r/xf9DAKEALgBi/2//kf/p/48A/v/aAG8AowDqAJEA4f+HAOj+ggBD//7/owAp/1gAhAASACP/hv8FAGUAuwCo/4T/ggA5AAcAKf/DAJb/Kf+eABn/yAAsAJH/2f/5/wcAxQA7ANf/4gCR//7/QQAsAI8AygBiAGgAJwAXAGf/5v9DAKYA5wDM/5EAAAC6/2gArgA+AJb/QP80AGz/sAAe/yEAHP+b/8MAd/+MAKsASP/IAOn/XQC9AJH/+/9Q/4v/4f/FAKkAhP/+/03/k/+hAL0ARgBlAPP/UP/k/xz/rf8aAI7/egAsAEgArgB8ALj/SwBvAFUAI//AAAAAVQAxAGL/6f8sAF//AAD2/w8AzP8u/z4ARgCJ/3z/X/9qAE3/FACB/z4Aq/+jALL/UP/XAHoA5v9Q/2//0v9QAO8AdwCRAAUAv/84/5j/aADfAE3/wACMALMAUP+Y/7sAjADU/20ASwCO/z3/WwAAAPP/nv+6/28Akf8AAGIAjv9K/3n/Yv9bAPP/GgAfAF3/mP+Y/6j/pf8nAEr/agA7/1r/CgCEAKX/KQBf/0X/jv9OAJj/o/84/2L/Pf9QAFf/Rf+B/xwASwCMAOT/PgCpAIIA1//AALYAcf87AEr/mQAaAEsAx//5/x8ARgCy/7j/kf9LAHcAx//S/8MAUv9BADv/NABk/w8Auv95/2T/uv8SAKEALv/H/2f/SP9K/1f/kQBGAML/1//fAPv/QQDk/1L/QP9d/1gAIQCE/8X/gf+B/8f/BwBLAMf/8f/aALAAO/9bADEAhv9dANz/o/9s/1f/SP87AK3/0gBX/10AqQA5AOz/uAAsAFD/UwCG/2//OwAsANAAkQDf/xoAjADAAGL/YgC9AKkAQQBA/1//oQA9/0D/AACjACH/1wAcAL3/ngBvAD4AUwCpALX/jAC2ABQATgD+/2T/nv95/13/q/+1/9T/7v8xAGAANv+EAMUAWwBDAFr/MP9vAOT/sACR/5P/QQBF/8//kQDAAGgAXf9x/1L/WACpAEj/8f/M/47/SACJAG0Az//S/9L/lACj/80A3//AAG//ZP9D/9f/xf+eAIT/X/+MAPb/6f9/AM//JwBBAIQAnABa/zD/swCCAD4AowANAFr/lgCR/zv/aACMAKYA7P+ZAOn/swANALr/gf8FAHwAUP9+//7/z//Z/1D/qP9IAFr/1wCwAMUAEgCr/3n/MQDs/1X/AAA5AM//k/+cAAoATf9d/x8AYACG/6D/hP+Y/9AAWv+JAGr/0ACeAIT/hADSADQAQwAsABwAav/DAC7/vQCcAGz/sP+L/37/zP9iAGf/tgDQAKX/OQA2AEMAhwCT/03/Wv9+/y7/fv9bAMz/kf9X/4n/lAAfAJ7/hv+MALYASwBN/1L/9v9QADkAsv9TAKYANgDu/5QA1//XAKMA3/93AL0AUv/K/7D/6f9x/6MAoQAm/y4AowCB/zQA0v8SAKYAV/+9/+7/OwBA/5H//v/h/8r/Yv+MAEX/lACg/z4ALgDfAP7/bP8CAGz/FwCL/2AAbQA+AOT/9/51ALgAyAC9/2z/Uv9D/+7/vf85AGz/wAAcAPH/cgCJAOQAVf8FAN0Auv+PAJYABP+b/18BLv8R/7D/UADH/7D/MP+MAHIA6/1uAYsBNvx0/zUInPMUAwgLcO7iCeQDyvMCCRH9Of7EATD9QAVT+gEDYgDL/AICpQG+/EMCeQFP+zYFqv26/zsDZv5a/0ECtP7y/l0C3P09/+7/PQE//g8C6gDX/foCIQB6/qIBKQAi/mYB4v7F/48A9AAkACP/swCw/8AAtgD6/p4Acf9LAJb/5wD+/5YANACW/0EA4f/t/lr/JADD/r///v+EAPH/6f/H/2f/BQBq/3IANAAKAOr++QBVAOb/CwGy/2T/Wv9F/2r/1P8FABwANv/K/wIA8//u/zb/OQBTAOoAuv82AIb/JwCB/1//5AC4/2IAOQBk/3oAHv8PALYAb/8nAEr/NACHAFMAV/9TACcARgDSAGoAAQG4/2AAcf8w//kASAAXAMf/fABa/zD/qQD+/8z/v/+6/8AAav8RAa3/IQA0AF3/JACx/icAb/+o/zYAd/+Y/13/nACHAG0AYv/K/+b/vf/Z/xQA7ADG/oABk/9z/nACaP4TAQIAIf97AX79TAFQACb9vwGuAF/9GwNQ/4795gGr/5f+HgFlAEH+5v8kAiz+bgE2AHj+qwApABIAqP+0ATj/wAAsAJL+LwLp/c0ALgDK/ygBuf4tAVD/FgGmAJYAGgCO/ysBxf8nAMMAowAr/1cBZP+U/hMBu/56AJP/D//+AGUAwwBiAK3/dP8kAGwBjf6pAOcA4P5HAa3/SAApADb/oQBN/x4BHv/8AFsAmP+rAGf/5P/z/zABTf/2/3wAnABd/28Alv9iANn/+/9/AKsALgCRAML/6f+y/+n/tgAkAPv/SwCw/9L/DQCT/54AQwB3/5EANACg/6YAAv+JAI8Agf+W/5kAfP+o/8z/M//dAMf/nP7z/13/BAEh/8f/zQCr/+wAOQAuAEr/qP8J/6kAdwDt/m0Akf/H/yEAHACRADYAtv6o/wUASv+o/7L/CwFi/+IAHACx/lUAfwDt/gQBqP+0/lAAV/9yADsAJv+j/2//HwD5AGT/UwDk/7MAnv+wAKEAMP/dAJj/HADfAAQBcf/Z/8//sP8XAGUAJwBN/yMBhv9F/9n/8f+o/7L/lv+UANT/UABF/w8A1/+j/7YAq/+WAGgAiQBvAPH/bP/1/oQAcf+L/2gA7wDK/1//hABd/xIA1P9qAPP/Nv/X/wcAk/9i/5EAbQBd/2UAef/7/ykAagAR/1MAmP/S/6v/8f/fABoAkf8EATsADQD5/13/BAHx/9L/oQCy/3oAiQBGAE4AEgC6/5EA6f8/Aaf+CwHF/6MA0ADK/yEAnACHAGL/JADp/9L/ygBgAIIAX/8+AOwAHwA5AA8AUAAR/3oAvv7dADEApf9q/7X/fwApAIIAWwCZALsAQwBoAFgAWAAXAK4ARgA2//v/3wDk/6kADgEnAEEAXQC4/1D/oQB8AGoA5P+jAG8AqQASACb/zP+cAI8Aef93/x7/swBQAGL/TgCt/1MAFwA+AFMAGAHf/5j/QQB8AMoA0v98/z3/BQBbABIAVf8SAI7/Uv+MAJ7/WAD5/0sAyACHADb/Xf+t/3wArf+PADsAFABoAA8A0gAsAHcA4gAPAFf/xf8cAG//BwBQAKX/fv/2/xwAfv/S/9n/VQB3/7YAzP8lAXf/fwCpAKkAbQBqAIb/HwBVAFsAuv9q/48AhwCr//7/wv87/yEABwBLAMf/MQAXAOb/nv9Q/+b/1/+6/yH/OwCl/zb/NgBI//f+fwC4/8r/OQCZACQAjv8w/6EA+/+e/3IAZ/9iAGoAngCL/3wA5v8sANIAyv9DAA0Arf/S/wUA8//vADP/Jv+T/4wArf91APn/OwBiABwA0gDIAJwAZQAsAGf/6f9LAEMAegCR/57/FAAxANL/sP8+AFUAYACo/6kAZ/+hAH7/swBN/5kArgBd/47/swAHAJQAjAAp/90AEf+t/10AXQDz/6MAaACt/woAtf9/AFD/uv+uAL3/kf87/z4AV/82ANz/jv9+/7D/uABgALsAfP/c/4H/0v8KAKYAFABS/0gAhwCrAOb/ggCMAKMAygB3AF//FwAcAK4A4f8uAEsAOQCJ/wAAngDh/8L/8/9YAMr/fP+pANz/IQB3/xoAYAACANn/NAC4ANz/LgBoAJb/bwDS/wcA3wCe/+H/6f8PANf/X/+Y/5P/ZP89/6sAjwCuALr/7P+T/9n/hP+WAK4AlABIADsAuv9V/3T/lgCL/8UAMQASAG//bwCb/20ANgBlAI7/jv9vAO7/Rf+jACv/Yv8FAC4AdP+4ADv/x//FAKj/SP9v/7X/GgBLAJQAyACMADb/b/8UAGf/WwCcAAUAWv9I/zEA5v8CAMoAXf+6/3cAgf+zAA8Aq/8z/3oAPgBTACQACgB/APv/JwBiAIv/jwAcACQAJwDh/47/vf/X/0sAtf/M/7YAlACRACEALAAhAO7/jwCj/2z/BQBQAJ4AWACl/8//oP+R/5H/Xf+w/04AbP9lAG8AmP/Z/1MAgf87/4H/oP8r/7D/DwCHAP7/GgDK/+z/WwDZ/7sAPf8cAGgAegA0AEgAoP/F/y7/KQBA/9//BQCw/w8ARf/c/28AMQBq/7MAYv/2/6j/ygCJ/3wAZQBbAJEA8/+mAAAAV/82AMAA5v+4/7AApf9D/6MAngC4ANL/LgAKAEP/QP+B//v/nAD5/2//ggAw/z4AhwDh/63/lv9IAFL/owChAJ4AK/+ZAJb/Sv98/yb/mP9gAHT/tgA+AHwAGf9F/0X/hwBK/wcAZP+b/zYAXf+HAKYAowDc/xQAcf/K/zsAHP8nADP/if9dAJb/0v8m/+n/JwCY/3wANACw/3z/+//F/+n/ef+RAK4AdQAsACUBaADH/ysB8QBuAYwAEgD+/zABcgAlAWQBmAH+AIwApgDvAGAAaAA7AB4BcQEUAAYBLQHS/wsBygCpAK4AwwBOAJP/Fv8PAHcAFv/b/h8Ayv/m/73/+v6l//H/l/6b/4b/xv71/oH/aP77/Un+eP73/mz/0P71/nX+MP+//xH/v/+7/gAACf87/+D+9/44/xwAVf/7/4v/ZQA7AN0A4gDAAPv/UgElAfEAUgH4AZABQQLMAYMBEwGgATECXwFXAaoBIgKnAZkCswLWAdYBoQLYAiQChwKCAg4BvQARATUB0AA+AOn/1P/P/ykAJv/2/5r+m/9T/lv+FP8s/oX+sv0Z/df9P/4f/rf94f3n/Fz9Cf0i/Az9Evzd/Cv9pvw1/RH9hv1l/Lv8IvxJ/KD9wv0j/Wb+dP1M/pT+6P44/8z/7/4aABb/fv/iAAcATgBhAQ8C5gGpAvICrAJYAuACtgLxA4YDqQRTBAIFfQQwBQMECARIBakEQQRMBAQFuQRTBNcDQQT0AnQDVgLQAkUDLgNLAjECMgGgAT0B8QBGAMAA5AAuAMz/rgDnAFAAzP+CAF//Yv/V/vz+tf/l/l//O/+h/hv9zP1d/GL92vwp/ID7FvvX+v35b/oU+kL5bvk4+PT4hvi9+H33b/j39/74IPmI+Yj52/n/+cj6bPvF+kr7/Pxy/PP9Rf+f/tn/MAHUAdgCngLmA5cE5AXuBfAG1gYgCEIIpwhPCNIJwAlBCWwKFQkFCRIJtgkGCu4IHwmiCLIISAdIBygGXgZfBa0F1QRcA6gDbwNOAkkCMQKdAWkBkf8W/xcAav/X/8j+Xv5Q/yX+4P6H/sj+h/5i/T/+4f1w/r39wf7e/UT+VP3L/H79Ov2U/JT8Dfz5+pn6Yvrq+tP5/vgg+e/35fdZ9+L3Tvc09333Jvbx9lf2i/YQ9yL37/fi92D3Avjf+GH5LvrE+877F/y//cz9BQAHAOsB1QIbA1oDGQULBmUHzgZ6B3MI0AmiClcK9AkoCnsKPQpXClwKYAuBCncJVgnbCLcIdwfaBzoGGAbgBHoEgQNfA3ACuwLOAWgA7P+9AKP/Kf/K/2AAbQA7/5YAxQCjALMAtwElAccBIAFMAWQB/wI+AmgC5wKqAd4B1AHaADIB7v9I/0P/mP10/e/85vuu+ln5TPnC+On2Rvc99oj0ZvQl9OvyQvLS8fbxp/CK8G/x5PGw8THxpPIU87bzMvSG9J32W/eB+Gv5b/ox/OH9z/1VAIMBQgM7A/4FLwYPB0UIHwkvCxoLTAsIDZ4Mzg3yDeMNgA2hDlkNfQ2wDFIMxQwLC6oKXgskCUMJtAhlB1MHYQZzBooEbAPuA0gDAQN9Ak4AFAB5/2oADP98/8r9B/9+/WP+eP6l/fH9iv5N/dH9Hf56/or+6P5a/4T/Z/+X/oT/7f7Y/g0Au/5j/gf/v/38/pz+3v1a/dn7C/tp+1L7N/l2+VD4HPik94f3bfVc9nn06/QC9ev0k/Qe9GH0kPT19E71xPQ49rX2z/bT98X49fkh+oj7zvuP/LT+m/+MADIBIgIuA/oE1QRmBksHnQh7CKsJogrMCiULzAoMDBwM5AzXDEgMrAvtC8cKKgv2Cr4JQAo/CJ4H+AbGBiIGGwZMBMEE5wJJApEC3gFcASEAiQBYACEAMQCW/8X/oP9a//P/LgBx/4cAvQDKAIMBfQKxAg8CRgK3AXIC4QGxAogB3gHrAcUAbAEPAJEAnv/2/Tn+Bv1u+036o/rF+K34VfaW9pP0O/Od8pHx5PF58YjwRe9B8HruV+/a7vzuVPDh7zHxwfBC8pnzavPV9Qv3JPg1+Zb6Af1b/un/yQGPAk0FBQeMB7oI3QlGC9QMYg4yDxAPTA82EOoQ3RAZEdEP0w9bEFAQiQ6HDrcNhAxfDHEKeQrlCfgIUAe0BvYFYAQBA6IBHgHfAAAAQP/p/SD9sv0X/Cv9iPtb/P37jPq9+nf6efsB+377Cf1p/aD9Sf6P/p7/of5i/1cBfgHJAfwCDgMvApcCxwO7ApEC0QOXAkoDegI8AjQAX//B/qX9rf2Z/C37GPuS+U34H/e/9ub0a/XM9IPyXPLc8Snx8PC+8NvwNPAT8GXx9PGo8cLx0/JM9Lr05fVG95H4xPmv+eb7Cf18/3wAjwK2As4EnQZLB1IIXAqOCqcLqg2oDtMNzw5xDzIPKg+sDxIQaw8HDi4OYg5QDIYMcwuyCtoJ3QlUCNYG/wYOBpsFnQOYA8AC3QI/AdcAEgAsAC4ApP58/7b+ff7U/Wz9R/3F/LL9q/yL/Qj++fxw/tn9nf0V/lv+QP8U/3cAbQD0AA8CBgGTAd0C+gK5Ai4D4gLvAh4D0ALEARsBsADM/77+iv4S/tD8F/yl+w/6FPoH+PP2lvaH9ef1S/Xi8znzYvPw8mHyVPKq8lzyjvHp8RjyRvPd86vztvVa9hb26vc4+Lb67vsO/Qz9qP96AAoCKAMPBc0F0walCD4JcAn8CR8L5QtnDJcNvQx7DaMMLQ2RDFYNIA2xC/4KgQowCikJswnJCHQHZgafBggG6QVfBU4EfAOMAuACbQLJAW4Bq/9OACcAtP42/xL+M/9K/yX+C/6b/ej+9/7K/XP+nv+F/q3/YgBbACEAogGUAjECUgNsA7oDHQQHAzcEMAP+AyIExwN8A2UCCQE5APP/M/8q/n79YPwJ+3/6CPkG+Xj3c/c99mH0P/Tq85LyKfO48fDw7fBN8dzxtPAH8WzxWPGn8mvyJPMR9An2lvah96b4Gfo5+uP7Jv1v//QA8wHyArsEMgZTB+wHoAj/CT8L9gqFCyMMNw3KDDwNCw3KDJINZg2hCzwLIQx2Ct4KIwovCUoIUggKBwcH0gVJBikFVQUMBSoEuQJWAtsBtAFsAQkBx/+WAMf/K/+c/or+D/8P/+H9j/54/hH/8f2B//H/9v9oAIQACwHmAe4BKAODA04EZAOsBFUDMwOKBIsDiQMoA8MCJwKUAOX+Xf8Q/jn8GvwZ+ib6jvi592T2NfYO9t/zbfNr8kfyjPGt8XzxGPBB8ODw++/18HTx5/Eh8Xjy/PMf9aT1PPd3+I35p/kX/Jz8tv7f/z0ByAKlAz0FIAZPCJMINQqNCz0MXQyKC3cMBg1nDDoNGA2kDbENUQ1QDP8LMgttC5EJwQh2CGEI7wfoBtMGdgbOCPUGaASYARYDCgKHAFUAYwZBC5AKIAicBFkBEfsG8j/tSu+58iD01PgGAR8JJwnhBZQCQwDN+lL0dfPR+fv97gFnBb4J3gqdCCIEAgI2AAP+0f1QAOkFtAazBZoGBgasBNz/Yv33/Pf87vtc+9T9JADC/13/5P0P/PH4IfYU84zxB/Gn8DDvQPEn83n0LPPf8yHzSfJI8UnwfO9a75/wb/NO96r2OPhA+or3uPwdBGUJ0QjYBp8Lpgk5AEv80fbw9Bru4+v89YL+RQX1C5kOUAxfCFwB/v9lAAj+cATdCY0PAhP/EvoSZRLDC20JVAoeCoALWwksEH0b6SHRFhwJmQDS+Frt8+TP70b8PgCd/egEZgu4BYf87vjM+171ivDU72b38PlS/5AGxQwVDVsJeAu3CL0Fnv/ZAQQDMQIJ/dv+OAPTAh7/7f5aA6sAXv6R+uj7Avwg+RX8uf5uATkAQvuq+en4DfeI9K/5wfdJ9eHxA/J29j71JfTI7N7r1/jM/TH6ZP0HBXkMAv8x8UL06u5P5jbhn+QD7ij0cfaJBRwHA/7F8+Tsr+s06W7r1vl/AGD8BwWmBZoNLwuJB4QJ8wMoAQX+DgNZD3kYXhvsHiYajQ+XDeoX6hvZGB4cQiH1IrcW/RFRFCgRMAwKAv4FTgRZAdP+2ALCCtYGmQBs/aD7jvrA87H31QDVACgG9wloEKcPrwiyDKQLFQnpA1kGRwqvBokHeATxBZ4Cd/pj+b/0qe5+7aPqyuwy7QPrfOjy4tLhLtyo3FXaft274K/fPei86XbrZexB6ZLw0+5i8RH2Efj9+2T7YP6AAVH+df7FAKYH6wbhCA0Q9hHYEBgNKBHGEpkOvQdGCwAQrg46D9sSQBiEFTsVTBQ6FnEPtQXrAaX7mfUN7qLrqfD49v76HADcBYcHAgWp/pn4vPKq7Rfxt/JV+M4EtwqlEXgUdRDlC0AK1P8D/tcAtwE4CM4LRROiFowScxTgFBkVlxKHFe0dOh/ZHzYlRyTXIUIdURt1GYAUSg86D2sNTwar/1r9LPoS8z7sj+cY4mzYhdQK0wjQ1s1cyMnLf8kixBDGE8iEzpXNwNA51TDY+tvu3zrrifZm+Zv/JAdLCbEJzAzlEvMWCRhpGqcfOSk8J2kmLihhJHsdGRXzEakSlgzeCPsFKQeHAur6U/xo9yryt+u/60/yxPJi8VXvwu+I68nk5eV86pbxi/Rx9Hf6zv5IAG8DkQniC4MIhAmsDfkMmxFiEzQUoxxSGrYZIR5aGgcXXRVOENkPOwzSDrQSxRMrGEoYHB68JFkiLiEdIBYajxThEUkQdBOfFOkRuBDVDrgHzv6w+r/2Me4S7H7o8+Hb3ZvYxdX/1E7QdcuEx+PEwcIPwxfFoMg6zfnO09Da1bXYdNhs3WHkb+rP8az3vvwKB2gQZBbQHvYjDCX2KKMqfihrKQgu/C7ULRoubChbJfwewxfkE5wQRQi7/iv7hfWO7T/ru+fz4UPjjN7/2yzcFdcu2q3dodzh36bc0t5M4qXmnPBo93kBVgkbCP4KpwsOCvUP0hDyEnAbFxx1HvcgNB66I60hoSCAHaMcQh+rHNcauh8gJp80BD2GP2FEVT9BN2Mw5yP7H3Ic4BvNF1QPAQpKAwME0P517jLpd+GO07bC5LWksh6zS7IDrZWx4LaMsDevE6+kssu5Qb3zv6nEi8/I1dvdEu5U9LD9owMwCjcNKRNYHDIiazCyOF897UkyS5lIA0eyQiVC0zlJMIYqsSRCIcQWaw/mDIoE3vug7VDlSt/N1bPOWsXBxqDD5cJhxLXIDNHHzFzNn9JO0FDVWdki4PHq8e8R/dwHvQ7+E9kT+hntGdQY4RgDG7of6SHfJdwoHTLqMAkv2iewHtocBxddHNcjbzhZSbFQQVclUkdQe0nxOCkupCS5IMIVmwpoCX0LBhSNC+T/KPmB6gvZ7b36rzWqsabJocCbw6Imp1Cn66gbrGyx5bRGtAi2bLgZwZbF1NNr5PnxAgC7CY4TohjXGsYdNiW+K2UzWzkbRi5RDVPJVJhS80+FSf44TDAeKEoaghBSBUwBF/ov8sPu4urf6A/eytWf0EXIesDovZC/DsHJxLLGaMvl1GrXB9xE4hTqVPA/8mb3af1qBfgK7AyZFREcZxzyGxcZox7yG64XGRiYGPAf6iLKJXQqTSpjK6Ys5DynTr1Wzl4tWddWLU1/Pmk7cTiEOhMvAh4pFQMPZRKnCBEBb/147kbgyMXcs0youKASnQCUBpp1neCd16CyoWaqE7GOtcO54LbwvY2/JsyQ29jlS/waCSkXpR9II14rwi92NmE2mTqfQn9F5ksdUtpTqFhXVN5JUj9+L7ofJhFbBIT4gu7053Tj9eBj4HrcE9sE1nnP4scXwPa+pL3wv4TDhcm30RHWd9r+4ZnqH/Ov+Rn6Ov1/AGkGBAysD9wYyhzKIdceaxtXHeYaZBbZE5QQLxLfF1gXzBpHH1AnYCwaPAxPMVq6ZvVgFVyvV/NEOD1IOs82sTD7H4EcRBRFGpwSOwcoCEbzPuVUyJq0vqbkmX+UZox8jruSvJO4nh+k66g2tWG4Xb4Wurm7G8HPyKTb3uT++AYK9BfdJQcqaTazPnBCVESVQIRBW0BAQSNEkESDS0hKwUcdPko0MCrdG34Piv6p7mzhC9Q+znHKycs8zSjPh9AczKXN2swoypHHG8iByPXLGs7H1l3hU+7l90oBYAdHCukO5QmdDYYTvhK4F9YWiRUNF58WYBfXF74ZRBblFNkWghfQG9kagSFPJDEzm0YGUkFltWI9YB1eIU+MSKU/XjncL+UbixOsC0EQEg7cAyEFCfag5uHPV7zqrVmdbZKriWuK7omCi3WUEp1XpXazTb64yqPMo8rL0B/XfuTT68z28AaaFDwgMyyFOS5GA074ULFQXEtiRpQ+hTvpNkQwey0hKr8ohiM/H1MZ6BLHCNf2z+jP2tzTnsy7x7vFxMYdy2bNzM+o06DY39742w7bo9zW3XXid+Mh6i3yPftiAysFIQzbDSoSDhiRF08WgROSD0sOdwwIDR0NCxT+FSgPfRJzCN0LiA+ZDi8UaBSmF7gXLye8O6BLQmAcYdBj6GBIT1JGcT95NqgseRjrDxYFNwR8AIv7if088C3ilM60vaisv5zikheLZIVQgqqDOoyqmFelcbjix1XY0NlG3vDkiezH9v35xgSmDuMYlyfAM4lDxU99V8haPVmNUJFIVz1lNRArwyDgG9AX7hMcDEYJ8QegAwT/BPYY64Di99VdzrXIecNOwn/AAseHyQ7Puth+4Ynqb+rx7E3xLPPw8tby6vW0+9X8QQBDBzMOXRWYFk0Y8xhoFCwSThCMEKoPbQ4YD2IMFgxpCPoGXQlMCDgI7AndCVENtw11Ev4jhjoATEdZJVmIXp9celHdTANJDUXrNvIgjhOjBQICNADZ+wT7R+tT3uDQVsKysyilVJxplRCKAYATgaeKdpjqpLq14MYE2PTe9Och7136XANHBuYPLRSQHbomWzKOPdBFbE0qUrBRHU74RlFAiDlQMdIjUhVfCuX+1Pbj8CHv3e4l7fjtB+zv57fkpd8U3NrX8c5FzDvOJc/20+Db6eM38I74DwAWBYgKRA33C0kJYAdbBG0EGwGt/bn+IAGRBwQKvwoMDJcQGhAdD4YM9QY/BtEB3vs6+8D4iPkE+6v66PuIAV4E7AekCzMOXhKAIh8z80JvT05TaVl4XqxVG1TmTRBH8zgkI9kWcwtZCJMBAf0095jond35zrHCwba9p4WfX5UljNCGzYaZksmcA6jYts7GStpn5uvyWwAVCQYRDBOUFRQXrRhlHmkmTy9SOEo/BEaqSaRFE0DmO8k2fSnoFgsIBPtW7pLko+Eq4mrlpuM+5+brw+zk7HTt9+x/6qvhft0d4OPdMd5V4XXsIfar+kEEngxZFqEXsxWNFD8PzwcPAmn9U/yH95T3l/k8/kwBowOnC/YKTQraByIE+wPT/o79h/p3+Dv4W/W/9C72Evqt/Ur/WwIwCA8H3wkwD5EcNDKxQMpPXlfDV5BbR1SDVNJPtEdkPaQkCRbeCCUBFwJV+vr5I+2s4CDU8MYavVSvxqanmrqT8YuTh3CPspp7qim50Mnd2Q/oFu/j+XIAEQpVDnEPWBJ0E20ZIRyNJKIrPDBnNoI1ITUsM1QtsyqTI2ca+Q6YA9H76vO+7gnrAevV7DLrYuza7i/wlfKD9LH3g/k4+Iz1uvYU+Lv6Ov0SAkYENwS9BeMGnQpJC+4KfwkYBiH/CPn+8wbwkvCW73Xw9PE78a/0NvXn+Lv8VP04/xL8BPs2+Af2GPlU+93+u/6p/pABYgBiA1AJdw7fE6QUMBbFHGYkPTY9RgxU1FvgXGhexllAUfpQSUm2QPYsORn8CzYA+Pn58Q3su+Oc14DNScIFu0+vZKX3n/qWko98iZKNG5jTn3asv7qdyqvaEOe89EMCJw0uF/gYuByHGV8aNR0OITklwCfCLAgyXzYmNkg10DV7Nlkr7iOIFkkNeQPI9+Dy3+zY6broLur37CDtjPG79zD72vqU+qX76Pvj+Zb2tfbx+M734PWk9+H4JPrf+n79Df5Y/Pj56PdM98HyN/C97/Hs0uoK6n7rL/DR8pj2S/qS/pUBXQV7CmMNhw5GEhAS2ROoEcQPxRADD8QPrA9ODQIOgA3mDEoKqAzQEosadig3N5M/C0mtSyFRtU/pSINEtjkiLp8ZXQd//L7wzusl5CfghNrq0qfNecjzwb+64rAfq/qhgpvQlpeYsJ5BpjCxzcAY0rDhRPBJ/psMtxhpIcglXSe7JfsjZiJFIxIlWyczKuwsFTBbMkI2EzkfPIU3JC43JOMYowxs/6f05+yS5A/ci9hI2nfcFeC/5i3t2PCx8MrvkvDr7Snq2egz6lHrweky8NHyB/o0ANIFYwtcCssJoggpBQACef26+2f48PRY9VH37Pq0/hQFQwnTCzEOZQ5XD8kPdg+lDzwQtA8HDn8OIhAIEnsWIRcRFSoSOg8gCrMCnf15+5n41fUt9PT4hwCgCh4YSSfSMeY4bDpCO1Q2azB6J10cUw4x/NruseWI30DfZ9xb3jHcG9sO29DZx9gl1qzSusoUw3G8QLrQuw6/scRzz5bcTOur+qUI3hYrIWko9CrPLBUpeSNyHOgU6A9DDmwMGQ60Ej8WZxzGIN8lXScYJEEeExRMCO/6Re064vLZgdG9zL/NJNCW1QHbgOR/7Ab02PVr+YD7I/uV+6L51Pt2+zn+/gCABB4MNxJnGD0hJiNFJhQlGiIHHFITxwzBBEX9lvb78TvxRPJ29q76hf4OA3oEbQdcBvYFoQRSAaT+P/v/91D1f/P79BH2TPke+9r8Tf8CAM//L/44+5L33vQX8yTzK/RU+wAEGA12Gtgk2DIXOhlB2UazRQ1D4zuoMysqIh2hEpQJ8gJk+zL3v/T48nvwGvBW7jfrjuZW4HjZy9D0xxPBQ77zvNi7Jr6KxIbMIdUJ30zpofOT+xwAwAKLA20EjQGg/+z/KQDk/8QB+gbtC/ISdhizHmwhfiGkIO0dARqbEVgJtwFN+lL0te3e673sg+3k7370B/i7+mb+iwHdBM4EIwOOA3MEywS+BpcJFg+PEuIXihtDHlUh/iF2IXUeQRkAEA8HlP4U9sLvYesV56Xkd+P543jkC+lV7FzvdPFl82Xz3PGO72Xukus66QbpDemr6sTtTvCA94L+3ANKCuYRsxcJGpIZLBf9FNERbg/FDmMSehU3HTklCDBqOn9Dq0x7UJtPp0s4RJo5xSz4HYoQywJS9ijtqubr4tnfSeDJ3bfdc9u41+HTOM/0yf/CBr0pt2C0dLMctTi4/b8RyBvR0dvz5s/xC/u6AzoKMg+iEdgS8xNXE18TsRJBFP4VpBleHbsgbCPoJmsptSi+J14kFSA+GQUS5grdAjj7tvMR79nrDem25zrpM+rq7LztSfAy8kf0dPbT91/42/mg+5z8ZP+jA+kFBgo3DaURSxWlGC8bZh2/HWwclBlYFdgQuAm3A/79uvgP80bsDemD5j3mf+de6SPryuyf7nPwz/Ep823zZvSh8wLzsPHx8ebyxPRD+L39wQHcBZUK7w42E7sVaBd1FygWVBSCEAMNQwy3DXsRjRQyGxUi8yhrMFw2eDtVPzQ+bDriM8osSCMQGc4PTQUl+zvxvulo4rvc8dhu1iPWptNv0dvNNszYyVvH3cQNxCDBWb89v4bB2MQEzPLUYd2x59bylfsLBHEMjxTUGPobWRsrGjIWQRS5EkoRGREFEpsTYBeYGp0dLiHEJK4lOiTUIX4dxhZEDxsIRQEP+nDyEu6S6yXpa+l+62vw/fSH9xz6rvy9/Z/+X/8Y/kX9Lfv5+lj6MPvK/dn/CwQxCcIMcw+XEuASThKEEIoNPAmPBL3/evq/9Njw6uxK66LpBOqM6iHsCO5E8NbwVfOc9bv3z/h/+lL7xfq6+3r8C/7QAOsDvAbWCC0N3hEpFc8Y3RtuH/sfzSDaIH0gkB1aGm8VHBC1DFAM1wwqD5ETahV2GD8bFxy2G60c5BqjFQ4PvAb8/s737u+16tPkbd6x2cTWwtNg0nzT/tPW1r/WZ9jC2GbZWtqW3Kfdl+CB4bfij+XG6WztOfN9+Yv/LQa3Cn8QURabGgkfSiGjITMhwx6GHJ8ZLRapEn0QQw45CxwJfwegCFMJgQowCmwIWgWIARb9B/rP9jzyI++P7KjowOdF6HHrjO7o8sL28fio/R7/IwNoBKQGrwZEBrIDIgIRAS0BFAC8AXcCCQMFBEYExwXPBwoJxQftBr4GrgTjAfcAsv2W/d36Ofrb+TP64/lH+9H7eP7Z/0wBJQE+AlIB4QERAbYA3QDvALgAVgI0BAIFSAdCCkEL2A1/Ds0QPRG6EwQTZhT3ErsSPhImEUsSeBJ3EyYTDBG7ECkO0gwqC9kI1wV7ARz8uvim9cfx2u6B7f/ptuf/5eviguKn4EXhN+BO4OXgCeF94HHhu+P15OfnEeqW7NHv2/K/9ub7MP8VBJsHDQvxDMoO0w+1EdQRcBBYEDwQ+Q6fDQcOJg6fDRsP/Q3PDjkOVA2XDbAMgAuUC9UJRwjeBjcELAJA/979O/pi+JD0WfKQ73XsT+tu6Yno/+dD6HXpt+vp7VHw2fLj9JL30vgz+sX8Wf4nAG0APwGPAq4EzgQzB7EJfgp7DdsNpQ/GD0oRQhGTEd0Q8A8xEKEOig3UDI8LJws+CQQI9QYBBuIEVwOjA8EEdgbaB/kJzwxkD0URCBLBEqsTlxS7EnQRYw1aCiIGwAKu/nD56/bS8Qzvr+007PbqpuoX6orpfuiJ6BzoXehn6L7neOcN52XnoecK55HoHevP7fXw9/MK+CD7Wv9iA20HRAuIDS8Q4RFZFLAVYRaVFncVVRVSE3wTDBEcEHgPzQ6ODP8LIgtyCdsGSQRKAe7/uPzG+aj2u/OT8czvaO4B7cztLO7Q7lzvsO8t8CDy/fLS8532HffV9435KPku+sX6Z/1o/jYAZgFdAiEDPwRUBhcHXAgWCmkKlAukC5EM1AzJDRgPmA8XDo4OYw3bC8QKvwhlByEFwAJzAcX/7Pz3/M77LPqV+cT5sPjT+W363frS+m38dP1v/W//Ef95AdoAAQN0A+4D/AQvBhkH0gdtB/gI1Ql2Cr0KZAreCr4LCAsTCrsJ3Af7BSMFDwIyAYb/Yv2G+0z5hvZj9UHzOPGg8ffwN/D/7h7vlu9B8D/wE/JY85LyLvP086PzCvVg9bf2Kvls+6T8Z/9OAisFSwfYCW8Mvww/DT4Okg1MDQQMsQsiCfAGcgWOA5MDWwLfADsAcgCt/3H9Iv7x/TX9M/3Q/Bb9evyP/Cn8T/2M/PP9cP6J/U/9UPw9+/j7C/tm+437e/t9/Cn8E/0W/Uj/oQArAZECbQKzAiYDvQMjBcIHNQgoCiILEA1mDW4PzBGBEy0UnBQgFAcTARHeD8QN+gv0B/4D3wBd/A75QfV78kzw8O1p63/q7el16cbpC+uV66zrYuzv7Ijt0O6+7ubvOPH+8evyFfUj9kD47flv/XYBwgMoBhUJxQw/DxMRKxPNFU0VMxWjFSoUihLWEV0QNw+lDDQLVAiMBy4FdQTcA1wB3P9G/g79bPtG+rT52vg39632YPVM9KT1lPX39Qz2sPZx9hn4Y/ld+kf7pf22/kP/cwGGAfICqQSsBFkG1AV2BhQHCgeBB0oItQdlB10HEwb8BLgFjwTLBMIDsgOVAZgBCQHS/6YAbP9F/0/9v/16/Mr68Pmq+TH6LvhZ+Xv5qPjw+YD5Nvo1+yD9Jv2//QT/eP4h/04Alv+w/x8Aif/S/4cAd/9CAcoAXQKTA5IE3gMzBc0FVQWUBDYFqgNkA9gCRQFlAGj+Kf/T/k39k/1A/Tz+9/yk/Or8w/xN/Zz8bvsf/Iv7BfrD+kv69fnJ+Zb6nvoc+kr72/sR+zb84/tn/QD+Zv4c/wUA3QC8AVsCMwMrBXwFeAbkB0cIoQnhCrAKDQviCScLMAr4CEEJsghCCMsG1gYVBugE0QNzBDUDdAMsAnsBPQFYAL3/JwBn/8P+x/0e/Xn9Xfx9/Pn6E/tY+nb5gfpG+lP68Plp+W75Ufmk+eP55fky+3r6MPuB+lz7X/s6+2z7vPv0/JP9Wv32/bX9Hf6s/mb+TP6A/sX/Tf89/9UAdQB6ACsBXwEJAZ4AkwGZACQAZQDfAEYAGf9x/3D+vf9d/xb/n/64/x8AFwBA/54AqwA6ATEAyABdADoB/gCPADYATwFvAKIB2AKhAk8DrQPvBA4GNwYZB3wHwAcuBxEIsQa0BkQGYQasBE0FAAR2A5wCaQEoAVAABQDS/7v+if8A/k39vvzl/F/77PqE+h/66Pl8+rz5Kfpw+cT5Dvtk+136Vfrv+vX72/tQ/A38YPyi+9j8uvvD/OH79/zN/Kr9s/zR/f/8lv0s/mv+LgCG/ycAZAFtAswBEgI2AjUD/AKXBMEELgUfBDcEjAWeBYQFAQb6BNMELwT3BMID5QREBNwDpQPzAxkDSAOuBJYDWQRfAzUDPwT/AgkDIwOcAgkDYwJzAUsAlABK/3f/M/2u/K37p/ti+hz6yvgq+cj3yvgx+GP3xvc399P3efiF9w/4BvmE+JX5afly+tH51PuT+/P7Bv0a/Lr9x/2N/nD+jf6J/3r+SP9gAHwA4QEhAwwDygNBBAQF2ATlBE0FiQVZBpYFHgVtBHwFAgVoBCUEAAT8BLcDGAToBFsE/gNyBcEEAwS+BIoE7gMFBEIDzQKuAjQCUAI9AbwBXAHwAZoB2QGIAeYBKAFpAXYBXQL3ALQBqQANAAIAIf/8/sf9EP5T/P37V/vo+3/6Cvqn+fX5z/iV+Wv5Rfhm+R359vgl+VP6zvkS+sX63fq4+kr7/vok+p/5iPkB+9b5sPoI/Gb7pvzk/dH9lP7k/1gAJQF6AhoCnQPxA1ID3gMNBNgECQUsBIoEowNtBPYDUwSpBHwDPwS+BKcE1wMVBC4FKQWTBWYEHgW0BHkDxgI1A5cC3QJdAtkBtAEhAz0DJgNcAzwEbwNVA7ID5gMUA+cC+gK1A7oByQH3AOsBkQDk/0sA7/5Z/tH93/x+/Qn9gPv3+hv7NfuZ+hH7xvl6+vX5O/oB+/z6T/ul+6D7I/tY/Gb7tPsi/HP7JPy0+9X8Rf22/Gr8jv1p/XX+Kv4r/wz/aAAyAQ4BXAFkAccBYwKUApgBKAF+Ae4B1wDAAJQAXAFCAaoBpAIFAgQD2wHAAp4C5gHeAaQCDQIVAskBKQJbAm0ClQF3AlUDjgNFA4YDEASqAygDBAPZA10CQAMsAmoC/wKIAS8CJAKQAQACRgCEACMBCgC1/0n+W/6y/eb9Pvxj/Fb8Rvxm+yv7Mfwg++L6g/uY+/P7eft1/Jj7Kfyd+9b7jPrJ+8j6zfoE+1b8XPsX/KT8Gv7+/bT+/P4Q/sH+wf6W/4kABAECAFcBjAB+AZoBJwLTAjMDcgL8ApQC6gJZBH0EAARvAwUElwQ0BNsE0QN+A+sDCAQdBGQDfgN+AwMEnASbA2wDUgOUAmkDMwNTArECzQJLAnsBTgK6ARoCdwCvARMBMAGWACUBxf8e/37/6v7b/rr9gv4w/Sj90PyM/Lr7gPtm+4/8aPxM+3X8aPzR+z78zPve+x79+fwJ/ZH8h/zy/F385fzq/A79cPxq/HX8Ov02/Fz9sfzY/BL+pf3+/R/+Wv9T/m//Q//V/ib/IQDKAOH/wADKAA0APwFyAIkAaQFzATABJwIXAqQCKQIPAkECPAIEA+oC7gN5A/YDbQROBEkETgTiBAcFIgSsBOoE7gOJAwMEkgQhA/QCwgOPAl8DHgP/AtACKwFpAbYArgAnAJYAlADC/1L/dwAe/6X/DP+C/nn/xv5S/+r+aP7x/bb+Jv1e/mj+Df4f/gX+Af22/DT+1/3Q/Ov9Wv3F/Nj8ofwn/oP9Gv6m/Of8mfyJ/ef8f/xX/fL8uPzX/Vr9af3a/CX+Of6O/T39ef3q/tP+Wv/4/Yb/sv+T/7r/k/+6/7//WwA5AEsATwHeASsBQQJTApECPQOMAjgDGwOPBMsEgwNpA40EeASwAw0EEQWoA/cEeQNmBLYE0AQdBGgEZgS6AzcEvgLrA/cCxgIpAt0CMwMiAscBAgLyAgACLALbAYYB9v9X/+L+3/zu+9v7RvoU+pv4l/d+9gf2NPc99tf26fYA9/T4qPhd+lj6Uvso/Vz95f6g/5YAAQGZAJECXQLDApsDLwKmAp4CUgPCAy8EpwRjBGYEuQRBBHMErgSABFsEnQPlAj0DjAInAhoADQBA/wj+W/6u/FL99PxB/Lj8Kfwj/Vv8jPwj/Wn9Jf7L/sj+Ev4c/5f+Wv+4/37/xQDQABEB5P8cAM//VQD3AIQA9wC2ANoAXAE6AfoC3gFQAigD1wNkA6kCVQMhA94BwQGAAfcAwv9K/5b//P6x/tv+sf7r/Tn+aP7c/e79Bf6K/kn+I/8w/z3/Gf9n/1n+N/5v/8L/1/9+/7r/Z/8aADYAvf+R/1f/o/+E/9//CgCEAP7/egB3//wAgf98ACsBpf+rALAAFv9DAIT/fv9w/kz+Mv78/ln+7v3r/Yn9Jf7i/v796/2u/gf/D/+X/ov/q/8UABT/kQCPAD4A0v+4//wAyQGnAfABdQL9ATQCzgGvARYDXQJKAxkDZAOCAqkCiQPdAnUCIwMWAzQC6gLrAaECwwDDAMgAAAC9/9UAQP/8/mz/OP+H/kj/dP9O/kT+Of6F/ir+sP2U/tn9bP3d/KX9fv3l/Bb9RP7X/eL+Qf6o/yb/HABI/yQAd//k//H/HwCJAIT/Kf9VACkAHwB/AEP/WAAxAJ4A7P96ADYAvf+g//QAMQCpAAf/FP9+/xQAUP/I/mIASADf/xb/8v71/s//iQA2AEr/NAA5ALX/kQDU/+7/4f/X/5b/uv8LAe7/swBGALgAIwFVAN//1P+uALj/7AAcAHz/xf9QAGoAav9GALYAKAGe/1UAEgATAScAEgAEAUsAHgGO/5YAdQANAPP/x/8UAAAAef9YADYABQANAEwBkQA+AKIBIQCRACEAdgG//yABYgD3AEgAUwBLAGIASv8uAC4ADQB8/37/cf/F/x7/OP8u/wz/sf7o/qj/Ef+S/sP+6v7p/7T+Jv+o/2v+FADO/mr/uv8E/wcApf8PABz/jwCJAAcABwDF/4wAKQCmAKkA1/+WADoBaACMALr/dwA+AN//zP9K//L+z//p/7b+vf/f/3D+jv/g/qX/bf4J/xj+AP5v/979+P0m/8H+aP65/sH+//4p/+X+B/8sAJkANgCT/yQA0v8XADABsgFqALYA5wCMAN0AXwG9AMAAhgFKAbgAXwEPApQAtgCRAP4AngD3ABEBAQFgAAsBqP8nAGUA0gBq/2L/x//dAPH/wwDZ/8r//P5qAHf/Sv9tACb/BwCT/0MA0v+HAO8A0gDNABwA6f9mASMBYgDS/8AArgAFALAAvf9S/2gAsv+4/0MAAgCl/6D/UP9O/in/Ff6s/rb+Pf/d/gT/Rf90/xb/5P9z/lD/lv95/8v+7f5R/nH/HAD3/tz/tf8sAF0A3wC7AI8AEwGjAHoAfgHUAWQB5wBUAWEBbgFfARoAfwBZATUBSAB+/0sAm/8xAMoAegA2AJj/B//b/i4A+v5N/wcAM/9g/q7+yP7m/yP/HP+t/2//NADT/i4A3P90/y7/lgBa/5wACgCMAPkAbQCeAOz/wABfASABlAAuAJ4A+/+HABgB9wDxAMgA3wDxAMX/5P8FAGz/Uv9tAIv/AgC4/0X/O/9Q/wL/Sv/l/ib/6v6x/g8Auf42AEgAuwB8//QAHgFzAT8BuwCiAWYB4wHvAMgAIwHwATIBwwCNAdAAcQFTADkAQQC4/4n/RgA+AML/rf8hAKz+If/G/rX/iv6l/x3+tP4P/1r/1f5x/6P/lP4H/xX+6P6j/+H/q/+//3n/HwDz/yn/9v/5/3f/lAAcAEwBnAA2ABgBSgEEAZ0BiAFiALIB7wAuAGIAwwCzAO8AsP/s/4QAqQByAGf/X/8uAP7/KQAHAIX+CgD+/7b+av+2/pj/q/9F/2f/1//k/+j+BwASANX+WwBI/4T/Av9N/6MAQwD0AKD/k/8kACsB8QCg/20AEgAKAKD/nADm/9UALgC//wkBz/8lAd//HAC4APkAAgCo/9cA6gCw/6EAggBd/8X/lgDAAOz/lgAuALMAhwDkANUAcf+zAIH/YACUALgAi/+cAIT/x/8nACcAk//x//L+MP9f/6D/3/+O/xH/O/8p/2f/uP+W/20A7P/K/0YA+f9DAIT/ef9f/zj/8f8xAMAAjABlALj/mQBDALL/EgALAfP/3wDfAMUA4f/7/ycAJADk/8X/EQEhAN//6f/iAAoAm//u/+z/VQBoAOr+b/9Q/8r/LADG/lX/V/+7/o/+iv5v/0P/h/54/pj/qP+y/10AuP9YAOb/2f+E/0X/UAAAAIT/uADs/0MAGwG9ALD/AgDSAOwA1wDSANT/8//+/8r/1//AAFAA7wAGAd0AjwCHAIkAhABYAKP/2f9QAK3/tgCUAFL/4f/k/6kAWACuAH8AVQCJ/+T/tgBbAH7/UP9TAL3/NgAPAIIACQHfAGoALADDADQAggB/ALMAq/9q//v/8QC//38AuP+t/0EAyv+w//v/fwA2//z+QP9gAGL/hv9q/9f/JACR/+b/JwDO/or+rP7U/zEA3/93/9n/RgA2AHIAJwDDAJj/ef/K/54AIAEnAPQAGwGYAYMBNAC9ABoAhgEkAPkATgDm/6kAlACt/zkA+f/7/4QAPf/U//v/5f7O/vz+Ef/U/6z+mv5d/7H+fP+H/rH+hv+S/vn/FwA0AMz/PgAr/zj/z/8kANn/yv8XAN8AlgDKANf/JAD7/zgBBgE1AYQALgBFATQAz/+rAEYAegACALMA8QCzALj/9v9a/6EATgCW/+n/b//x/xz/ef+B/2f/7v+T/2f/+//X/8X/sP9VAHT/HACrAIQAQwAUAAUA7v/c/yQAcgB+/6X/SAAsAPb/jwCZAJ7/1P+6//EAaABBAOIAmP9qAH8Az//m/3oA6f89/2//Rf9V/yb/hv8M/37/Hv+g/wf/nv+PAJj/uP/h/9L/Gf8aAJ4AQwAaAAAAcf9YADEAdP8PAJv/uADf/7gADwDC/+T/RgABAakA+/9dAKD/3QB3/+z/LAC6/7X/OP82/5wAYv9LAF//gf8m/3IANgBqAMf/HAACAEEADwCcANf/Jv+eAKkAQQCo/xcAqP+9/5j/wABq/6MAz//P/2T/0v/c/7D/OQDqAN0AMQACAKEAfP/C//P/z/87AIb/VQCB/5EAVQD7/4QAQwBBAFX/TgA7/yQAO/+hAEgADwCB/6P/TgDVAM0A0ACt/9//lv8hADYA/v/SAH7/5wDSAOQA/v+cAJP/YABV/13/hv9V/yb/aAAfAIcAngBV/3cAcgCCAOb/gf/K/5QAQP+EAJP/TgC2AE4AfP8HAOH/5P+4ANL/wwAhAAUAWACr/0j/fP8CAB8A1P91ADEAOP9S/2oAqP8fABoALv9n/xn/Rf95/y7/ngC//zD/iQAUAOT/jwBS/yv/WABK/2f/AACeAG8AwAD7/6EA5v9V/3f/kf8uAEMA/ACL/7j/3/+mAKj/qP/5/04APgALAfwAaACR/6YASwBX/98AtgCuAL//xQA0AAIAXQDZ/7D/bP8CADEAV/98AIkAIQBBADv/agAE/3UAef+MACkADQBTAFL/Nv9k/w//q//S/0YAggA0ADEArf+rAHIAbP8FALX/UwDDAFf/tgDh/7r/q//p/7YAyv8uAGIA4f+W/3n/mQAhANf/5P/X//n/rgCwAL3/lv/k/0j/SwBOAJv/fADX/yP/PgBqAKD/BQAfAAAAngC4/zj/tf/P/0YAuwB1APH/V//Z/z3/1wBn/4wAygCMAEr/x/8PAA0AQP/IAG0Ao/+eANoAbwCEAGoAhwCCAFUAMQDX/9T/SP+W/5v/OP/7/1gAFwCt/xwAqQCrAOz/egCo/8L/hAAxAF//v//c/0r/cf+T//P/agB+/xcA+/9f/6D/uv9Q/4IA/v85ALD/jv9q/xcAq/+CANn/fv+WAAAAcf80ADj/K/9+/3n/jv/F/73/tf9qACb/hwDu/+n/WwDM/1gAQQBv/3n/LAAXAGoASP/M/4T/v//F/yEAv/+MAEsAPgCg/4kAqwAz/1r/xQAPAAUAuv+b/xQATgC4ACwAUwDx/4QAk/9X/70AngDkAFD/9v/p/64AmQAHAGz/iQDqACcAvQCj/6kAbQA4/3IAlgDk/zD/bP/f/7YAlv8+AFD/QP+HAGAA9v/X/38AOwBQADkAhP9Q/y7/qQCjADEAtgAUAG//rf9N/9oAtf8z/1L/wABDAMX/NAAAAKP/0v/aAFL/8f82AM//4gDiANIA+/9d/9AAMQCL/x8ABQCPACwA2f/h/4H/QQBn/3cAq//5/zEAi/8cAH8ADQBv/+b/0v82/7D/fAAhALsAqwCL/7YAAgDM/57/fP+eAOH/uP98AKj/fv9k/yv/cf8sACQAyACT/64AOQBBAEMAx/+RAGoAkf+w/6j/HADh/1sA4f/u/4cAwABvAEEAjwB3/+oA/v+PAG//sP85ADkAOP93AOz/0gB/AIb/UP+Y/1AAWwBoAKkASv98ANf/uwAaAHT/7v/P/7j/swBYAEr/WwDh/6X/UABLAG0Aq/9tAIcAi/8xALL/3QDiAE3/X/9X/+b/SwBD/0MA3P+PAIIASv+RAEP/nABv/5H/v/9IAHz/pgBS/8L/NAB1AJQA0v8c//P/AADP/yH/yAB0/zb/oP/NAOb/vQBk/4n/hABa/+b/Rf/XAJwAYADVAOb/1wA5AFsAUwApALgAbwB3AI7/Sv9GAF0A5P/IAGIAfAB5/54Aav/QAF//2f84/3n/uP9DAKX/OP+9/7r/8f87/03/9v8KAB8Atf+B/10AQP9d/w8AKQBd/7L/FACj/1sA5v9F/8f/nv9/AIwA0gCO/04AHACMAGAAfAAFAK4A+f8PAMz/Wv/U/03/BwAw/+b/SP8sAI8AQ/+uADP/Z/8hAGf/QP+UAMAAfv/z/8AAoP9Q/z3/cgCjAF//wAB1AOT/wwBBAKYAmQCZAMUAsABYABIAOQBi/04AhP+6/xIAQP+JALgAiQA7/5b/WwA4/zv/3QCj/2AAxQC6/zv/nv/P/7AA1P+4AKX/UwAFAF0AbQDf/4H/o/9A/0EAlAAr/8AArgAFADb/cf9k/9AAwv+4/zEANv8aAGoA3P+MANAAIQAFAHwAyv/K/+b/z/9gAJwAJwDK/w8AQP+eACcAUwB8/13/5v9A/1L/6f9TAKMAav9LAGr/sv/X/8AAhADnAIIABQD+/5EA7P84/6sAwv/H/57/+//+/+QAfP8w/+b/3P87/wf/AACUAPX+MP8JASABhv/f/3cAOAG1/2D+aQF2AR7/bf7AAJ0Buf6u/qkAjQEhAKf+OQDQAL//Uv98AH8Avf9e/gUAVwF3AMz/tgCzACkA/v+B/wYBd/9v/1r/pgBa/7D/d/8BAXz/Rf98/9cA4f91AJEA7v/X/xz/ngBx/ykAxf9A/4IAuAAUAFUAbP+G/yP/lADC/5QAX/9S/ywAi/8AAOb/Q/9IAJ4Ax/+MAEEArf9QAG0A4f/K/3UALAB0/5kAlv/VALsA3/9K/+z/uAAkANT/z//xAD3/QP+R/+n/LACl/+T/X//nABcAOQCg//b/YADK/7L/hwDX/3oAvf8PAFUAQwBN/6v/oP/Z/w0AQP+W/63/dwD+/1MAngBx/wcAfP+E/9n/av9D/2IAdwBq/0EAggAP/yQAlgCEAD4AqwAuAN//z/9Q/yQA7v9bANn/oP/C/63/SwDu/3UA6f9+//P/UABS/0j/7v+eAPb/YgAcAGz/wv9yAEgAAgC7AJj/TgBYAMX/UwCJANcAO/9vADj/pgB6ADD/bQCMAN//Z//IAHUARf9LAKYANgDx/zP/+/8SAKX/rf+O/7YASP/h/1sAAgBgACEA1//h/2f/Q//QAA0A1QBi/8oAb/9d/2T/jwAaAKj/qwBQ/1L/tgDIANn/mQBF/47/q//S/3IASP+O/73/1P9DAPP/WAA2AIQAAgBoAP7/if/IAJj/KQBv/xwASv+b//n/3//s/7sAagBQ/zQAm/+o/4T/YgBx/3z/6f/m/70Ab//S/2L/QQCo//P/8f9X/5YAuwBf/xwAm//z/9n/Tf8PAMX/if/X/8AACgDm/4n/jwBQAB8AUAAxALD/Q/+//9T/fv9qAGT/Pf9YAIkA5P+wAE4AmP/P/wUAaAC6/z3/lv/H/7MAVQApAG//IQBv/6kAUv/AAA8AUv9YAHH/lAC7AKv/Sv/7/1D/SwAKAJwAzQA2ANUAuwB1ALD/jADFAIcALv/F/6EARf9VAEsAyv9N/4H/qQC9/4wARf/DAD3/cf+jAHIAkQDf/2gAUABbAEX/DQDc/5wA/v+CACQAjwDz/5kAOwAhAIkA5AC9AGIApf/c/03/YACR/10ACgCE/0YAhP9lADj/YAB/ANAAuP91AFUAfv+r/2//MQDx/47/HwCe/6YAnv+uAJj/hwCO/8r/BwBTANz/pf9LAF0AGgAz/xoAswCo/2AAggC//0sAsv8w/4QAoP+wAKYAX/84/wIAqQACAFgAFACuAOn/SwD5/6EAoQDf/7MAjAA7AFD/SP/Z/3wAjwBtAIb/x/+MACQAswC//zv/zQBqAL//FwC4AO7/qP9DAMX/aACl/3UAGgACANz/mQDAAG0Afv82/w0AxQB1AJ7/i/82ADb/WwCrAJj/ZQBa/4n/jwBqAP7/q//K/8gAwv+g/0EAkf9k/8oARgBBAKsAswCWAH7/1wC//ykA+f+jANcAiQBOAFf/oP8KAPv/uwDC/zQAlAC2ALL/jv/+/ykAEgCpAEEAb/9qAL3/dQCpAHn/X//H/7sAwv8sAH8ANgCJ/80Aif8+AHf//v96AHn/qwDP/4n/mP9YAGIAk//NAFgA1wDm/7j/3//FADQAxf8p/x8ALACy/0YA5P+WAHT/5v/2/70AuwBqAEsAQQBgAKX/Yv+w/8z/sP/p/xQAUwBqAGAAnAChAIT/+f9yAMMA3/+JACcA3QDz//7/wwBiAPP/0gBDAPv/aABn/4QAIQCPAGAAYAA5AGz/cf9v/w8ArgCR/20AvQB/AN//BwD5/8z/v/84/1//kQB8/ywAd//m/+n/EgAfANL/jv/z/1AA5P9IAEsA+//QANT/jACuAEEARgB3/xoA8/82AGIAfwD5/47/+f+L/zv/lADS/8oAfwAp/6P/7v/7/9AAbQDm/0D/jv8xAEX/0gCUADkAxQDIAEMAmQBdAIn/XQBf/zb/sP/u/woAsv/2/yb/wv/P/9z/b/84/6P/CgCUAOH/av+9/w8AfABqAKD/oP+RANn/Pf9S/7MAgf/f/1AAUP/H/6X/hAB8AIcADwBX/yEAcf/k/zEAz/9N//b/0ADVAMf/jwD2/xQAzP9S/8z/uwAsAN//SP+uAGoAZ/89/zEAV/8PAFgASADS/2oAHwCw/38Arf/K/8L/dwDKAIIALACCAM0AQwBA/3z/WACUABwAMQA4/64AhwDQADD/hAAhAIkAZP/s/0EAk/9VAMgASv+b/2gAQwDZ/1f/Wv/U/1X/dP+RANf/6f9OAPP/8f8SAD3/M/+W/13/1P+b/ykAz/9Q/7MA1wBf/6kAOP9qADEA8/82/zb/FwCeAF0Awv9V/wIAEgCrAKYAsACeANAAygCY/8MAQ/9qALr/IQDf/5H/RgAKAHn/1P+b//H/3P+ZACQA3/+R/2L/LAAu/0YAnACEAIQAUP/k/5P/z/9x/2f/UP9IANn/Sv9s/+H/tgDVAAoAFwD7/3UASwCHAPv/pgB1AJ4Av//DAGUAwwBF/8X/zP/x/y4ASv/h/1MAggDk/2z/5P+CAKEAyABTAH7/nv87AKv/tf8SAJQASv80ADv/IQDS/1MA5P9oADb/LgCy/xwAswDFAJEAHwDf/10ANgBdAFgAuwD+/6MArgCmALr/k/+hAEgAowCUADv/mP+JALL/6f+PAJH/cgCW/7MAV/+zAPb/m/82AJ7/uP9iABoANAC4/3UASwCRAGf/Tf+G/0gAq//p/9AAif+rAEj/MP+2AHcAMQBBAE3/oP9n/4wALv+9/ykAyv/z/4v/QwC9/6v/8/8NAA0ASwBK//b/JADC/+T/fP+hAHcAUwAUAAoA1QAFAG//lv8uAJj/uwCW/0gA8f8nAJYA8f9V/8r/hv/XAEsASwB1AF3/wACB/3wAwACeALr/YACPAFsAzP/2/1UA0gCWAHz/xf9N/wIAqQCeAGAAoQCzAMoArgBiAEgA1/9tADD/5P+HADQAM/82/47/bP8w/wAAQP+G/4H/kf+2AEP/vf9D/2T/Sv8hADD/PgBVAEsAif9d/28ALgDh/90AqwAnAE3/sP/2/zP/OP82/w0ARf9i//P/+f8sAJ7/Uv9YAPn/hwAxAF3/i//U/3T/oQDIAA0Axf9VAMMAv/+EABQAOwBiALsABQBD/73/3P98/7D/OQAKAE3/q//m/+n/4f8UADj/4f+MALL/bQCpABQANgD+/0EASv8xABwAFwANAF0AdwA4/47/fv9s/wcANv8z/3oAQP/Z/7YALgBDAJEAmQAFAEj/if8m/73/k/+UAIT/WACG/2//IQC4/xoANv9iAHf/dQCZAMX/1/9oAKYAAAAHALD/Z/+B/9UAef9X/6P/egC4AEX/Xf+O/5wAYgA4/1AAaACr/38Ai/+RAPb/VQCo/5j/OP9DADkA4f+w/04ACgCHALMAfwCjAE3/FAA7ACEAoP8NAJYASP8aAMoAif82/63/O/95/64A5wBYAEP/vQD7/2L/1QCr/6P/lAC9/yQAWAAPAPP/swA9/7MAmP9s/5b/AgA2/6v/fP95/y4ASP+l/3oAZQCJ/6P/hACY/63/i/+zACEAnv/DAFMAowDK/6D/agCrAGgAyv+R/ycAx/+9AM//zQBd/6kAiQDAAMz/MQC1/wcA5v9OAKv/zP9+/63/zQCl/9f/1/82/1MAGgDP/wcAqQDZ/0X/oQDf/6v/oP9n/+7/if9yAF//3P9v//n/gf/c/1MAJAChAOT/VQC4/4T/yv89/y4AVQBVAF0Ab/+eAIn/Rf93ABwAiQBIAFf/0v+WAKP/oP+G/9n/qQASAKv/DQBIALX/YgC7AAcAlgCy/2gAzP9dAAAAegDP/3n/fwA0AFX/YACl/0P/DwBn/47/ygDc/3UAxQBGAGIAagDk/6MAzQBGAKX//v9QAKj/5P9bAHH/Lv8u/+b/Tf/U/+b/qwA4/4QA7v9TAPb/Nv/k/5P/PgDKAHn/O//AAA8ACgAPADEAUP+y/2f/ZQDNAL//fP89/9AAQwAz/5b/fP9D/64AQwASAE4AHAD7/57/o/8CAB8ALgDm/5kAcgBYACQAGgA+AFsAowAp/zsATf/h/w0Agf+J/04AQwCr/5P/vQDp/y7/bP82/20AygCJ/zYAXf8HACQAV//m/5b/3P9gAD3/2f+L/+T/LACZAFsADQBGABoAz/9s/3H/LABvAAAA1/+T//P/nABbAMUAk//QAFD/KQCzAO7/cgASALD/Yv9a/woAX/9vAGIAm/+UAIT/0gCMAMr/wwBs/+z/gf9a/x8AVQCcAHIAtgBdAN//qP9qAOn/aAD7/wUAOwCT/8UAkQAnALj/nACj/3f/v//+/+n/qP98/4cATf9n/+z/yv+hAD3/FACJAOb/X/+9ALj/X/87AAcAd/+y/xcASAAxAN//UAAkAJv/RgDz/z3/Uv8PAEX/wwC4/0D/ngCzAJ4Afv/QAHH/o/+l/9T/RgBi/xwAoP8pAHf/3/+b/63/+//DAKkAef8xAMf/pf8PAIH/cf+mANoAnADVAJEAk/+1//H/LgB8/54AwwCy/wUAHAB0/4b/PgBK/5EAJwCY/zb/MQANAEP/Kf90/8//wv8nAG8AbP9OABcAJABi/+b/5P8SADb/GgACAGL/0AB8/7MAuv8p/8X/kf/p//H/Vf+JADQAgf+JAIkAdP+2ADb/cgD7/2f/PgAaALX/mQBQ/2L/5v9YANUAFwB6AF//xf+G/2r/xQBOAJkAiQBGAGAA9v9f/ywAXQCEAFgABwCCADEAZQA7ABQASwDH/0j/Lv+o/1D/i/96ADQAV/9lAAcAlABK/9oANADdAK3/vQDu/2AAuP9yACcAM//S/2z/swBGABoAjv+R/zkAcgBVAOT/tgDc/7//jAA0AB8A2f9Q/8UAYv+CAKj/8f/QADj/ygDC/wUAdwDFAIQAWv/f//n/Vf/+/4b/WACrAIT/WwBF/2L/9v+J/4IAxQAm/13/0v+G/8AAegBA/9AAfAAXAMz/kf+uAEP/Nv+rAMUAmP8FABoALAANAFL/qwCb/zj/ngAw/5H/sACZAHT/yv+y/zEAlAAKAMgAuP9K/8X/dP90/7D/bQBv/wcAuv/H/1r/sADZ/w8AqQBGAG8Ad//s/7L/nABQAKkAngCT/8MAmQCPAEYA9v93/20AUP9a//b/hv8uAL//fACwAOn/Kf+CANz/1P+b/z4AggACANIAiQCJ/80AtgB6AMz/5P+y/2T/Nv9F/6EAngDSAGr/hP+2AG8Alv/DADv/sv/NAHoAWwB1AEj//v+4AFf/1wAhAI8AfwB3AMoA9v8SANT/tf/FAFr/SP/Z/5P/xQCo/yEANv/u/8//nAC9AMr/sAC9ACQA7P+9/57/7v+E/5kA2f+O/zEASAChAJYAQ//IAL0ADwByAG//X/9+/0YAvf/FAIH/xf+g//b/zQDp/yQAowA+AMgAlgCl/3oAygAuALAAPgBGAIv/VQCe/+n/DQA2ACkAUwACAFUApf+O/9AAlACjAKkAq/9N/2AAOwBiAOz/QwBOAI8AWABa/9n/KQCG/2gAz/9s/zYAYv93ACcAxQDF/+b/jACw/6EA0gBBAO7/x/+uAJQAOP+4APn/q/8CADkAfAC7AGz/pf8cAKEAV/82//H/QP9DADj/UwBX/4kAxf/c/9f/NgCuAL3/VQB8ALYAJADS/0sAGgCg/zEAv/+R/9f/BQCJALYAVQACAKD/Nv9X/2UAzQCEAB8Am/+r/0YAoQA7/4IASP+PAIb/OwCZACQAEgDh/6YAygDP/xcABQAaAPb/7v/F/5v/rf90/57/qQBi/2oAHwDs/10AowCZAHH/nv8uAIcAm/+L/wcAsv+PALsAUwCL/1//JwCpALgAb/+r/4T/DwBbAIkAoQBV/1gAUv9d/w8AswDC/5P/qwC6/13/qP+r//P/EgCJAA0AkQDS/7sAqP/SAB8A9v8KAFf/Z/+pAKD/ggA2ANf/wwC7AEsAgf9X/4v/v/+Y/1//qP9I/9//b/+r/0YA3//S/2z/7P/S/0MAif+RAPP/EgCeAOz/RgChAKD/oQDX/13/m//KAJ7/Nv/M/8L/hv8hAFD/8/8CAGT/Xf+L/8r/i/98/6X/ZQAUAP7/DQAxAMMAfP8aALX/8/9N/3oAtf+PAG0AVf/S/x7/aABS/+n/2f+w/6kAWv+Y/zj/x/9x/5kAx/9tAL//Vf+pAKYAbwBn/xwAxf+T/+IA/v/M/xwADQBi//n/O/+o/3wAMP+rACkAfACcAD4AHAAPAKX/gf/C/0gAnABDAFAAX//z/7AAPgCG/yn/OP+EAPn/gf+pAGz/ygCO/3z/yABf//n/4f+L/80Aav+UADYAfv+rAC4AMQAFAIkAoP/aAFUA2f8xALsAFAA0AHf/sP82AED/k/8z/4cArgCO/ywAo//X/6j/MP+w/47/Kf9dABwAjwBs/8L/3P8+AAIAVQD2/20AsP/h/wUALgC4/4b/q/+O/0D/Vf+G/8oA5P+cAOT/QP9x/4b/mP+1/1D/SP9oAMgAdwBIAHwAmQBn/zj/yv/K/3T/9v+//4v/Pf/K/6X/Xf9LABIAo/+zACv/FACl/5QAUwCt/6sAwwCr/3n/+f/x/0YAXf+7ADkABwA4/xcA1wCE/w0AkQBI/z3/0gDF/2AAef+4//v/BwC6/5YAqP91AEr/3//p/9T/MQBGAED/aABv/woAjwD5/6v/hP89/9oAsAA2AJQA0v9TAGf/1P/IAKv/uP8uALX/NgCpAM//kQD7/8AAegDH/6P/+/8UAGUAUv/2/10AjAC4AFr/0v+2ALsAhv84/zD/owAKAPn/GgBiAA0AuACW/6v/nv+y/1UAPgAm/8oA0v+6/0EADwD5/7D/YADU/9z/fv9VAMUAdwDX/9L/Xf/x/13/WADFAIb/jwCUAHT/fv9iAEgA5P+E/+7/uABoAML/dP9IAAUATgCe/5EAlgB6ABoAvQAnAHoA/v/M//P/SwCJ/1gASv+E/04AyACB/z3/ef+wADkA7P+7ABwAZQB8AEEAbQBi/5YAif+t/x8AYgBOAE3/bwD2/04AUv/s/3f/OQDX/7L/YABk/1UA8/+CADD/O/8CAKMA4f93//n/YgB3/3wAbP+//0r/JAC4/yH/Yv/z/0EAdwBqAGgAz/+B/7//3P/h/70AxQCJAJwAZQB3ABcA4f8KAI8AYAA7AFX/qwA7AFgAFACcAKX/FAAnAEgAswBx/y7/dQB8/+H/5P98ALMAVf9BAPP/tgD5/5EAWwBoAF3/sP+RAJb/wv/DAFf/8/9yAMX/wAA2AGgA8/+wAHn/TgBDAFD/LAA+AIn/zQC7ALX/OQC2AF0AwAANAMX/1P90/5QAbQAHAMUAif+eANz/JwBbAF0ARf/NAD4ACgCt/6v/NACB/ywAsADh/9T/Vf9i/8z/jv9dAJH/Tf9Q/8r/XQCjAMgALAAaALD/OQB+/ykAm/+J/5EAKQCY/37/DwBiAGr/zQCt/1X/DwBA/3UAYACo/3T//v9oAMoA3/+cAEEAQQC4/3n/k/+o/w8Az//K/0YAyv+w/xoAJABTAMr/1/93AAUAnv+pABQA8f8z/+H/+/9d//b/V/8xAGAAQP+j//n/SABx/4kAPgDNAD3/7v9a/2UAKQC7AJwAWwDx/7D/4f+T/w8AxQB0/10AQQCHAFf/5P98/y4ASwAcABwAfwCg/7X/Wv93/ykAV/9Q/1gAqwBVAKEAyv/u/80AOQBQ/4n/WwAcAHUAFADF/2f/8f/AAFr/0ABgAHwA7v9D/7AAXf+RAD3/2gC4APb/X/9d/zv/7v+4/5wAkQCt/9cARf96AKsAlv9gAOz/3/85AFf/QwChAHn/zP9OAJYA5v+7AOH/rgB5/5EAmQBa/8X/VQCt/48AwABdAAIA1P93AFX/qQChALsAQP+Y/w0AKf9OAHoAtf9X/6MAcf+9/5wAswA4/1MADQCO/8//WwCmAHwA9v8+AJQAegBq/2L/BwCuAIkAfP8SAC7/qwCCAJwAkf8+AGIAI/+9AFf/1/8sAPP/xQDS/5P/8f+eAKP/o/8xAMMAhv+zAG//uv+L/48ALgBV/wUAuP9IAMUAswAfAFL/BQCj/2z/egA2AHIAuP/aAIwAaACt/7MABQAcADP/jABi/3oAWv/C/4wAAgAXACn/0v9GAJYAdwC6/3UAqQCR/1X/KQDu/ykA+/9gAAcAlv9n/9T/QwAnAIcAOQB0/+IAdP/X/9f/7P80AMgAvQCCAIH/av82AA0AyADU/5wAFAAhABcAx/8hAF3/bP+y/6sAb/8sAF3/JAAu/1f/3P+mAKsANADf/wIAzP95/zb/nABBAHf/vQC1/5EANAAXAL3/tf+4/2AAlgAUABQAjACG/7L/dwCPAMgA4gDC/w8AMQDx/5b/k/8sAN//wv8hAKD/vQByAH7/Q/82/8z/o/8XANAAb/87AE3/Vf8FAKj/pgCR/9T/jv+w/8gAfADX/8UAXf+T/7j/+f/2/0D/OP9x/8MAagBQADv/YgBQAGgAyAByALgAQP+9/3T/bQDP/yEAZP8XAPH/EgA4/54AbP/P/zEAmQAXAKEAtgDH/+H/bwC1//n/DQBvACv/tf/m/y4AfACY/4kAMP9d/48AVQCb/5v/nv+uAFX/HAB5/6P/Yv9d/4wAFwAxALgAef+WAHoAmQAhAIH/HADz/ywAUwB3AGf/WADKAED/JAASALr/jwD2/1X/FwAkAG0AMP9k/1AAegBVAJEAtgB1ANn/EgDz/zYAdwAKAB8Ad/93/7D/SwANAMr/kf8uAE3/DQDU/04AhwBiAHwAz/+w/2f/dQByACwAngBa/xwAswDaAE3/qwBs/5b/tgCjAK4Avf+4AHoABwCO/8f/mP+Y/+n/bP9yACcASP/K/0MAyv9tAIkAPf+j/8z/YAAFAGUAsABd/zYAjv+l/3f/9v+wAJkArgBlAEEATf+E/03/uwBF/57/swAsANT/SABVAJkAWABvAAAA+f9d/4T/k/93AF//GgCzAM0A/v8CAHT/Rf87/3z/gf9i/73/uP/X/6sAVf/p/8r/kQCW/8z/CgB+/7D/YgCE/0EAZQA4/zkAbwBLACQAdQCzAJwAaACEAKkAWwA2AGr/Yv/M/+7/V/9V/7L/UwBq/1UAvf9bAEj/rf+6/w8Auv82/ywA8/+ZAJv/AADh/zQAZQDh/7sAvQC1/3n/CgAFAAcAYv90/6X/+/8CAGr/ngCuAGoAtf9x/4kAd/9bAJH/YACzALMAJwBq/0gAQwBgADQAWAB6AGT/Nv+g/03/+f9D/+H/0gAAAGL/zP9s/2UA2f9YAJb/BwCMACkA6f+6/y4AFwAhAHoAfP9+/8oAlADKAKX/tf+JAHT/z/9k/8//zP+PAOb/dwCB/4kAxf9tAEEApgBq/4wAav9F/20Avf8KAKj/agCwANT/fP+y/w0ALgB8/1//qP8CAML/d/8uAI8ARgDAANn/oQAhAPb/v/+Y/0X/swAKAMoAyv+T/8gA0gAKACcAaABtAEsAiQCUACcANgBq/4IA4f80AAUAhABqAEr/0AB0/wIACgAKAG8Ao/+y/1L/O/+R/8gAhP9I/9n/7P9+/9z/q/9gAHUAAgCt/zD/cgDC/3cA0gA2/zQAWv+PAIwAdP/c//b/RgB3AED/QP8aAD4A4f91AHwAfABD/3n/YgAhAKv/CgB/AM0AJwB5/8oAM/9d/9IA1P+9AJQAKQCRALAASv+y/6P/oQB+/4kAPgAHAAUAZ/9BAIv/swC9/2f/ZP+uAFr/EgCO//n/UP9A/zkA+//+/9AAjwBgAH8Asv/M/03/tgDVAIb/dQBBAJ7/fACE/13/sP9yANcAHAAKAAIAAgBGANAAygDc/zb/hwDNABwAzQCHAL3/k/8UANf/bwC9AGz/FADX/0P/HwAhAML/JABI/5wAhAC2AEX/aADM/+n/rf+j//7/Uv8SAAAAVQAnANn/VQCUAIwAggC9/6EA7P/QANIAuABqAE3/z/9X/wcAO/+L/zb/qP+zAGIApgCR/4T/YABgACQA1/93ALr/tf+G/zD/PgA7AHz/ef9TAKP/nv/2/3IAegCPAIkAZQCt//b/uwBi/+z/0ADH/z4A7P8nAMUAuv+//3cApgDS/47/AgDSAOn/dwCR/1f/bwDC/8oA5v8xAP7/hwAPALYAmQDU/47/yAApAHIA0v/u/0gAJAA7AOz/OP+uALr/Wv+J/1AA9v+WAE3/X/9F/7YAEgBN//H/agAPAJj/NgCE/28Awv9n/0EAiQBdADsAaABQAPv/fwA9/2UA7v+e/2oAmQCcAED/egCR/5QAUv/f/54AAgDF/13/hwAuACcAvQAw/7D/m/+Y/6sAlgBoAFL/gf/h/w0AHwB6AJ7/Yv/U/5b/BQDAAHT/fABn/1D/swDh/57/Z/+y/1MAPgDz/wIAuv+wAD3/d/8hAGr/7P9VAHn/ZQCe/4b/yAAFAMAAVf9f/2oAgf90/03/DQDDAOb/v//M/zv/FwBtAMr/OwA7/7gAav8HAHoAxf93/6v/wwDu/y4ACgBqAJP/FABS/2AAbwBk/+T/OP+g/6v/HADh/64AlADx/2gAwABd/03/QwBDAEgA+f9qACwA1//AAIkAd//S/1L/OQA4/0j/7v89/9IAbQBK/3z/1//z/04ARgDH/04AMP+y/xoAzP9F/7D/nAAFANL/WADh/8gAlAD7/8z/sP+4AL0AzQAw/9T/agCo/4v/gf95/7X/rgBX/9n/dP/NAA8A/v+J/zD/5v+wAB8Avf8AACwAqQCZAAUAOQCO/0sAhP/K/13/DwAsAMX/MQA0ABIASAAxAGL/7P9+/2gAaAAu/yP/fABD/+H/cf+o/5j/MQDf/4QAagDM/7r/OP+eAL//rf+RAHz/1//Z/zkAVQBVAB8ApgASAAAAUv9bAGf/cgC1/zkAswB6AHIAgf+zANT/sP+HAG//fwDFAFf/b/+jAGAAdQA2AOb/cf/m//n/bwBtAMr/fv9oANz/LAB0/3H/8/+e/2//OQCW/8gA/v9S/xoA3P+l/2f/0v+hAMAAOQCl/7YAngCUALYAjwBdAFMA1P+W/zD/kQC9AHz/Kf+JAIb/NgBTACcAMP+rADkAYgAnAK4AYv9GAIIAhAAhABIAlv8+AHf/hv9qAF//FwBD/1gA+/8kAI7/ngCL/2oANACUAMUAMQBiANL/nAAaACn/M//m/wUARgCPAAcA6f+RABQAJABQ/y4AXQCL/2AAfv9i/7MAzP/u/20ANAAcADkA5P+ZANz/LAA5ALD/1QC6/w0AMP/IAKj//v87AMUAtgBtAG0A0v8NAFsALADk/03/cf9s/w0AowD5/5j/KQA9/xQAi/9bAGr/ggCW/2f/hADQAM//cgBgAF//qwAKAMz/Rf/p/2r/qQAPAL//0v/p//7/QQDFAK4A3/9q/yn/q//p/4v/5P91AKEAm/9VAI7/v/9v/8oAM/8CAEj/FADDAKD/o/8xAF//iQA4/5YARgCzAFMA1P+ZAJ7/5v/NAE3/Uv/+/48A1/93ABwAJv9s/38AlAD5/6j/mQBX/woAbQDAAK3/AgBV/5P/wAA0ALYA5P/m/7j/QP+J/6j/egCe/zj/tgDK/9T/sP+uAHoAggA2AGIAngANAF0AvQCuALsAd/9yAC4AXf+O/6kAxQDaAGL/ggDFAEsAUADAAB8AnADm/1AAdwDu/0X/LAC1/zv/fP+cAPH/UADXACcAZP+cAFAAqP8w/6YAXf93/zQA2f95/xQAo/+zACwAYgAnAG//ZP+y/zv/lgApABcA2f8FAEj/hv/c/0YAUP95/1sAhP+uAJYAb/9OAHH/dQDAANL/MP+o/0r/vQCW/z3/V/8nADYAXQDm/7D/3/+l/9T/HADIABcAPgDH/04AvQB8/3UAtgBoAFUAd/8UAJ7/fwCmAHz/+/+pAKEAtf/h/9n/qwBD/13/GgDKAJkAowBq/5b/dQACAJEANADDAGz/V/8sANn/LAAPAAAApf9bAPP/AgCt/8X/1QBdAJwAzP9lAJwAWv/FAF3/3P9N/7gAtgCO/8X/1//C/2f/v/9d/7AAmQA0AKP/hwBs/57/cgCJACEAav/SAO7/9v+4/xcA2f8xAI7/dP+L/1AAlv9bAEEAM/+9ACQA5v9VAIQAq/+O/yv/LABn/0D/k/+6/3IAif90/10AsP9d/1r/HwBYAGIA3P/p/64Ahv+o/8r/0ABQAFMAYABV/zv/0gA7AIT/OQBIAMMAYgCwAI7/fv8NACcAMP9F/03/HAASAJwANgBF/2UA5v9TAE4Ajv+4/2//wwBv/2//mQCmADYABwDp/1UATgCrADP/5P9D/+7/8f+4/xoA2f+RAG//NgCEAH7/ZQCo/w0Ax/8AAJwAuwB8/5QAsABiAB8A9v+B/wAAQQA2/0X/uP+J/3wAUP8cAB8Avf+4AFr/Lv8z/3T/3P+4/1X/swBGAFX/cgBV/54ALgCr/4b/cf+PAED/jv9D/ycAhv9N/3cArgAPAG//qwDk/z3/K/9IAHUANv+2AF3/V/8FAGoA6f/C/64Agf9QAA8AYAA4/5v/M/9BAJ7/Rf9N/70AZP/p/0P/7P8xAHIAfP/f/7X/dQCe/54AQQBVADEA3/9F/2r/1QAcAC7/mQBGAGT/Lv/NAL3/QP9VAGoAK/+PAKYAV/+JABoAb/+t/ycAuABq/2T/q/+9ANUAx/9F/3z/v/80AHH/SwBQAGAAnv/IAAoA8/+jAIcAwwBvAMz/HwCO/5P/lgB5/9UAFADDABoA6f9tADsA7v8sAFMAVQCg/63/0v+//9//wAAXAIH/jv8sALMA8/+b/8z/Xf+G/4QAZP+wAM0AoQB8AOn/Z/96AJQANAByALX/MP9BAJ4ASv+PADEAuP+b/64A6f+eANn/O/9qAI8A+f+g/47/SwCe/64AmQDx/wcAOwCHADsAPgBvANIAVf+w/3oAMQAw/03/Q/9a/6D/tgBn/+7/rf8SAKj/8/8FALL/swC7AMoAQwDNAPb/kQB3/2T/3P8FAEYAk/+E/4IAowDm/7r/QwBlAJj/uv9BANf/WwD7/1L/dP8PAG8AlADS/wIA6f/c/1MAPf96ANIAk/+W/4IAv/+hAEr/agC2AKD/x//IALX/HADFALr/kf+9AFL/v//M/7r/OwDh/0D/Vf+G/63/vf9q/7YA2f9k/8L/9v8KAMf/nABbAJP/qP8PAMgAOP9VADj/pgCeAGr/Q/+O/10AqwAuAHz/0v9X/xIAZ/8HAH7/YABbAEYAdQDS/1sAtgC1/0MAuP/s/ycA1/8pAO7/DQBLAMAAqP+MABIAAgCJ/9UASv/z/3wAoQBTAM//7v8SAJ7/SAD2/4cAFwC9/7r/LgCrAJEAqP/F/+7/FAAcADQANv+b/ywAWv/m/4IArf8XALj/7P+JAEP/hv/AAKMAxQAPAJ7/5P/k/5j/gf+wAHH/SwCEAIkAqwAw/1L/Sv+eADEAbP/5/zv/UP/U/7//Q//+/4cAlgBX/w0AjwDAAF3/uv90/2UAZP98/xQAXQDz/zEADQCG/9T/Xf/U/0X/k/84/2r/d/9N/zv/O/8nAA0AhP/KANz/zP+eAMAAfv9/APP/oP+e/3oAuP9k/04AOwCUAM0AhACJAEEANgA4/3wAlADKADYAzQBs/7sAhv8+ACkAMP9n/zP/fv98/x8AlACJAD4AAAASALMAZP9IALX/OP+jAE3/Lv98/7sAlgA5AEEAIQDZ/48AFAB8AJb/IQC9/2IAjAAz/6D/3P/X/2//i/8sAC4AwADp/4T/5v+EAL//OQBBADEAZ/+9/4QAK/9N/1D/aABK/y4ATgA0AGz/LAAxAOH/fv8pAMf/0v9iAAoALAC//38ARgDX/yEAowDu/7D/lv9X/zQAowAcAHH/WACMAOz/3//FAHf/ZP9TAFL/ngDIAG//3/+JADYAOwA2ALX/Z/+b/ycAqP8xAMUAHwBbAHcAfAASAAcAbP/z/4v/xf9A/8gACgCt/wcAd//VANz/WwDk/4kA9v87AEP/5v9YAD3/jwAXAKEAyABF/+T/0v+l/4QAJwB3/zj/zP+l/+b/SwBd//n/FADP/1r/SP+UANUAoP8nAMgAsP9+/6EAggB1AL3/Vf8nAL0AWACR/wUAuABa/3n/agA2/9L/FwDNAEr/LACe/4cAhv8kAAoA+/+w/4kAqP+uAKsAuv+ZALgASACuADj/wv9TAD3/bQAz/z3/+/8NAED/xf9f/1MAdP9IAPH/JwAAAM//qP9k/73/pf84/5v/kQBS/64Auv8pAFsAMP/p/woAuP96AJb/AABD/xoALgCWAEEAkf/u/73/BwBa/9//5v9+//b/b/9n/1sASwApAKX/wwC9/5v/AgAHAOz/WwCpAIIAjv/7/63/JAB1AGr/rgCuAPn/EgBI/7j/lv/VAK4AdwAu/9n/qP8FAMz/d/9gALYAhP8+ACEAyv/S/+7/ZQDSAJv/cgDm/8z/2f87AK4ACgBVAEsAUP/c/7MAjwBBAIb/m/9v/7gAWwAaADkAEgCUAFf/8f+pAHH/k/8SAHUAOwC6/64AOQCg/xoAyv/2/6P/fwA2ANL/bwAAAE4AnADm/5H/jv+eABIAAADC/2L/vQBiAFgAggDk/4cAZP93/9L/7v+R/7L/uv9s/8L/kf/C/2oAb/9i/9AATgAnAIH/qP8FAMoASwC4/6P/AAB3AJQAnADk/4QA0v+E/0EAEgBqAJb/IQAxAE4AwwDP/1sAsv85AED/TgC9/wIAlgBlAAUAhP+O/w0AHACWADP/fAAkAMr/QQA+AI8AowB3ANAAd/+rALD/yv9GABcAO//Z/1//JwBX/y4AXQC1/0P/Pf9YAFf/zP/f/5QAuwA0ANf/DQB8/+7/jv+e/ywA8f8z/8oAef+r/2L/SwDH/zsAfABf/5EAZP9bAE4AfwDVAF//yv/p/6D/vQC7AF3/XQBqAP7/q/+pAEsAbQDz/6sAJwC4/9//swBX/63/MQCg/57/Rf9GAMMAwADM/80AfADh/7MAav+4//P/bQCEABwAMP9DAH8AQ/+//1D/owA0AIH/yv8SAFL/o/+l/9n/hAB5/0j/+f/s/wUAPgB5/4IAngBBAEEA6f9A/73/k/9x/57/KQCcAD3/bQA5ADQAtf9QAEP/Pf+R/6X//v8nAJ4AngA+AF0A6f98ALsAUP9OAI8AYAAw/0X/2f+hAPn/mP8UAKD/agDSADsA4f93AED/2f+e/9UApf/2/6YAwACRACcAYgCzAJEAyv/H/0sAqP9d/5H/jwBd/zj/SADf/8r/lABD/2oAMP/AAGT/aAA9/2//dQBK/1AAqQBGANUApgAUACwASwACAED/QQCl/38A0gBi/7L/Tf89/4T/cgCCAF3/SACo/6D/iQBF/5v/pgB8/47/AADZ/7D/Sv9k/7YAuwDKAFgAyv+CAH7/HwA2AHz/m/+L/64AsP9I/1D/JwCW/6P/kQC4AC4AdP/S/8L/fP9+/03/uwB3/xIAHwA7AKMAswBvAML/lgAu/wIA+f+jAMz/swBa/9n/Nv9qAB8AWv/S/8MAfP+cAEr/GgAXALj/Vf+E/6D/RgBDAL///v/s/64AUADS/ycAbwDZ/7L/WABa/7X/SwAnALsAvQCy//7/uwCg/4n/vf/NAOz/fwCB/5v/kQCzADkAWv+1/1gAUACEAOH/3/82AGoAqwC//2UA0gC4AGL/jwCWAGAAfP90/47/BwCO/80AbwBi/1UAnACwABQAswBBAGgAgf+T/x8AngDDAOz/bQCwAMAARf8KAN//jwAHAH8AsAC7ALD/lADAAO7/+//DALsA0ABk/5QAd//m/4IAMP8XAAUAngBA/28AzP/p/zP/nACjAIn/O/9bAF0Az/+jAPH/nv8UAHz/if/NAHz/OQBLAF0Akf9a/zb/hP87AEYAQwApAFf/K//5/4wA1/8pAIcAo/+PAGUASv+CAIIAYv+zAJH/GgCEAP7/O/80AB8AbwDH/9z/SP/K/2z/MP+r/7r/OwCJ/6X/+/8fAML/uAAxAFr/hP8HABwArgDF/73/pgB+/28Apf9BADkASP8SADYApf+4/ycA0gBa/9IArf/SADsAoP9QACQArgCy/zQAegA7AJwAYAB8/+T/av/VAFL/sP+4/2z/wACmAHwABQDH/3n/rgA2/xQADwCB/28AdP/u/0X/yADKAIn/xf8CAPb/+/87AGz/hAC//3cAo//U/x8Agf+hAEP/yABi/0MASABI/8X/Xf85AOH/cgDs/x8AYgB5/4wApf8p/w0AMQDz/yQALgBK/3n/hv/X/1X/iQCMAF3/pgAz/3n/zP/P/7gApf9x/2L/SADS/7j/pgA9/8oAwwC4APH/egCzAHf/gf9+/2L/d/+9AG//PgA4/woAZQAFACEAkf+EAKMAi/9d/wUAM/9dADP/JAAz/4v/BQAAAAIAowCuAIH/KQAsAGAAqQB8AD4APgCmAE4Ayv91AG0ARgCg/ycAq/8w/y7/oQByALsAQP+wAHUADQDU/1//6f9dAJb/3P/KAGAAHAB1ADYAAABK/2UAWAB5/2L/OP+L/xcAoP+T/2T/X/9TAAIAyv98/1MA+f+e/zv/Lv9k/4IAhv8UAF3/mQDM/54ASAAxAM//EgAFAPP/vf/SAJEAnv/IAIkAiQChACkA+/+uANAAqP9YAGUA0gCW/7r/sADK/9z/k/8cAGgAaAAkAOn/7P+jABwAfv8sAKEA0v/AAKEA7v9f/7//hv+UAHcAQwAsAED/KQAfANf/zP/Z/zD/fwD2/3IAVQASAMMAvQBQADb/NABn/5kAav8r/9f/fP+EALD/sP90/4wAoP9s/7sACgD7/6P/hAAfAGz/swBS/wcAwv/7/54Apf95/9f/UwAfAB8AQwAXAFgA8f+ZABQAaAApAPv/Uv8cALL/6f80AOn/yACB/2r/b/+RAKv/1QCUAGIAagCCAE3/NAAsAMz/RgC9ADb/X//p/wcAo/95/1L/dP9iAJ7/rf/h/zQAcf+g/0j/d/9d/8X/d/9BAEEApgBV/4kAKQBV/w==\" type=\"audio/wav\" />\n",
       "                    Your browser does not support the audio element.\n",
       "                </audio>\n",
       "              "
      ],
      "text/plain": [
       "<IPython.lib.display.Audio object>"
      ]
     },
     "execution_count": 101,
     "metadata": {},
     "output_type": "execute_result"
    }
   ],
   "source": [
    "sample_rate, samples = wavfile.read(submission_fpaths[8])\n",
    "ipd.Audio(samples, rate=sample_rate)"
   ]
  },
  {
   "cell_type": "code",
   "execution_count": null,
   "metadata": {
    "collapsed": true
   },
   "outputs": [],
   "source": []
  },
  {
   "cell_type": "code",
   "execution_count": null,
   "metadata": {
    "collapsed": true
   },
   "outputs": [],
   "source": []
  },
  {
   "cell_type": "code",
   "execution_count": null,
   "metadata": {
    "collapsed": true
   },
   "outputs": [],
   "source": []
  },
  {
   "cell_type": "code",
   "execution_count": 109,
   "metadata": {},
   "outputs": [
    {
     "data": {
      "text/html": [
       "<div>\n",
       "<style>\n",
       "    .dataframe thead tr:only-child th {\n",
       "        text-align: right;\n",
       "    }\n",
       "\n",
       "    .dataframe thead th {\n",
       "        text-align: left;\n",
       "    }\n",
       "\n",
       "    .dataframe tbody tr th {\n",
       "        vertical-align: top;\n",
       "    }\n",
       "</style>\n",
       "<table border=\"1\" class=\"dataframe\">\n",
       "  <thead>\n",
       "    <tr style=\"text-align: right;\">\n",
       "      <th></th>\n",
       "      <th>0</th>\n",
       "      <th>1</th>\n",
       "      <th>2</th>\n",
       "      <th>3</th>\n",
       "      <th>4</th>\n",
       "      <th>5</th>\n",
       "      <th>6</th>\n",
       "      <th>7</th>\n",
       "      <th>8</th>\n",
       "      <th>9</th>\n",
       "      <th>10</th>\n",
       "      <th>11</th>\n",
       "    </tr>\n",
       "  </thead>\n",
       "  <tbody>\n",
       "    <tr>\n",
       "      <th>0</th>\n",
       "      <td>0.004886</td>\n",
       "      <td>0.334909</td>\n",
       "      <td>0.003579</td>\n",
       "      <td>0.267606</td>\n",
       "      <td>0.007844</td>\n",
       "      <td>0.005214</td>\n",
       "      <td>0.011782</td>\n",
       "      <td>0.003972</td>\n",
       "      <td>0.004569</td>\n",
       "      <td>0.332921</td>\n",
       "      <td>0.003513</td>\n",
       "      <td>0.019205</td>\n",
       "    </tr>\n",
       "    <tr>\n",
       "      <th>1</th>\n",
       "      <td>0.000262</td>\n",
       "      <td>0.000053</td>\n",
       "      <td>0.000056</td>\n",
       "      <td>0.000018</td>\n",
       "      <td>0.000091</td>\n",
       "      <td>0.000465</td>\n",
       "      <td>0.000095</td>\n",
       "      <td>0.000043</td>\n",
       "      <td>0.000032</td>\n",
       "      <td>0.998098</td>\n",
       "      <td>0.000741</td>\n",
       "      <td>0.000046</td>\n",
       "    </tr>\n",
       "    <tr>\n",
       "      <th>2</th>\n",
       "      <td>0.035625</td>\n",
       "      <td>0.065441</td>\n",
       "      <td>0.000036</td>\n",
       "      <td>0.007289</td>\n",
       "      <td>0.003101</td>\n",
       "      <td>0.018397</td>\n",
       "      <td>0.000180</td>\n",
       "      <td>0.000233</td>\n",
       "      <td>0.012770</td>\n",
       "      <td>0.851233</td>\n",
       "      <td>0.005168</td>\n",
       "      <td>0.000529</td>\n",
       "    </tr>\n",
       "    <tr>\n",
       "      <th>3</th>\n",
       "      <td>0.047504</td>\n",
       "      <td>0.012185</td>\n",
       "      <td>0.042488</td>\n",
       "      <td>0.004929</td>\n",
       "      <td>0.026152</td>\n",
       "      <td>0.017004</td>\n",
       "      <td>0.073481</td>\n",
       "      <td>0.022707</td>\n",
       "      <td>0.014550</td>\n",
       "      <td>0.548025</td>\n",
       "      <td>0.168084</td>\n",
       "      <td>0.022891</td>\n",
       "    </tr>\n",
       "    <tr>\n",
       "      <th>4</th>\n",
       "      <td>0.000011</td>\n",
       "      <td>0.000044</td>\n",
       "      <td>0.000020</td>\n",
       "      <td>0.000029</td>\n",
       "      <td>0.000004</td>\n",
       "      <td>0.000082</td>\n",
       "      <td>0.000489</td>\n",
       "      <td>0.000009</td>\n",
       "      <td>0.000007</td>\n",
       "      <td>0.999253</td>\n",
       "      <td>0.000009</td>\n",
       "      <td>0.000043</td>\n",
       "    </tr>\n",
       "    <tr>\n",
       "      <th>5</th>\n",
       "      <td>0.000894</td>\n",
       "      <td>0.000281</td>\n",
       "      <td>0.000276</td>\n",
       "      <td>0.000255</td>\n",
       "      <td>0.000270</td>\n",
       "      <td>0.001979</td>\n",
       "      <td>0.000335</td>\n",
       "      <td>0.000111</td>\n",
       "      <td>0.000186</td>\n",
       "      <td>0.994502</td>\n",
       "      <td>0.000401</td>\n",
       "      <td>0.000510</td>\n",
       "    </tr>\n",
       "    <tr>\n",
       "      <th>6</th>\n",
       "      <td>0.000495</td>\n",
       "      <td>0.000170</td>\n",
       "      <td>0.000137</td>\n",
       "      <td>0.000059</td>\n",
       "      <td>0.007666</td>\n",
       "      <td>0.255696</td>\n",
       "      <td>0.000648</td>\n",
       "      <td>0.000136</td>\n",
       "      <td>0.000306</td>\n",
       "      <td>0.731618</td>\n",
       "      <td>0.002158</td>\n",
       "      <td>0.000911</td>\n",
       "    </tr>\n",
       "    <tr>\n",
       "      <th>7</th>\n",
       "      <td>0.000189</td>\n",
       "      <td>0.000207</td>\n",
       "      <td>0.000085</td>\n",
       "      <td>0.000082</td>\n",
       "      <td>0.000007</td>\n",
       "      <td>0.000042</td>\n",
       "      <td>0.001039</td>\n",
       "      <td>0.000050</td>\n",
       "      <td>0.000075</td>\n",
       "      <td>0.998051</td>\n",
       "      <td>0.000116</td>\n",
       "      <td>0.000057</td>\n",
       "    </tr>\n",
       "    <tr>\n",
       "      <th>8</th>\n",
       "      <td>0.005667</td>\n",
       "      <td>0.409791</td>\n",
       "      <td>0.000664</td>\n",
       "      <td>0.289382</td>\n",
       "      <td>0.009465</td>\n",
       "      <td>0.001195</td>\n",
       "      <td>0.001793</td>\n",
       "      <td>0.002747</td>\n",
       "      <td>0.010495</td>\n",
       "      <td>0.263403</td>\n",
       "      <td>0.002170</td>\n",
       "      <td>0.003227</td>\n",
       "    </tr>\n",
       "    <tr>\n",
       "      <th>9</th>\n",
       "      <td>0.027107</td>\n",
       "      <td>0.006739</td>\n",
       "      <td>0.011709</td>\n",
       "      <td>0.003565</td>\n",
       "      <td>0.018217</td>\n",
       "      <td>0.034465</td>\n",
       "      <td>0.034676</td>\n",
       "      <td>0.003737</td>\n",
       "      <td>0.003390</td>\n",
       "      <td>0.826866</td>\n",
       "      <td>0.016317</td>\n",
       "      <td>0.013211</td>\n",
       "    </tr>\n",
       "  </tbody>\n",
       "</table>\n",
       "</div>"
      ],
      "text/plain": [
       "         0         1         2         3         4         5         6   \\\n",
       "0  0.004886  0.334909  0.003579  0.267606  0.007844  0.005214  0.011782   \n",
       "1  0.000262  0.000053  0.000056  0.000018  0.000091  0.000465  0.000095   \n",
       "2  0.035625  0.065441  0.000036  0.007289  0.003101  0.018397  0.000180   \n",
       "3  0.047504  0.012185  0.042488  0.004929  0.026152  0.017004  0.073481   \n",
       "4  0.000011  0.000044  0.000020  0.000029  0.000004  0.000082  0.000489   \n",
       "5  0.000894  0.000281  0.000276  0.000255  0.000270  0.001979  0.000335   \n",
       "6  0.000495  0.000170  0.000137  0.000059  0.007666  0.255696  0.000648   \n",
       "7  0.000189  0.000207  0.000085  0.000082  0.000007  0.000042  0.001039   \n",
       "8  0.005667  0.409791  0.000664  0.289382  0.009465  0.001195  0.001793   \n",
       "9  0.027107  0.006739  0.011709  0.003565  0.018217  0.034465  0.034676   \n",
       "\n",
       "         7         8         9         10        11  \n",
       "0  0.003972  0.004569  0.332921  0.003513  0.019205  \n",
       "1  0.000043  0.000032  0.998098  0.000741  0.000046  \n",
       "2  0.000233  0.012770  0.851233  0.005168  0.000529  \n",
       "3  0.022707  0.014550  0.548025  0.168084  0.022891  \n",
       "4  0.000009  0.000007  0.999253  0.000009  0.000043  \n",
       "5  0.000111  0.000186  0.994502  0.000401  0.000510  \n",
       "6  0.000136  0.000306  0.731618  0.002158  0.000911  \n",
       "7  0.000050  0.000075  0.998051  0.000116  0.000057  \n",
       "8  0.002747  0.010495  0.263403  0.002170  0.003227  \n",
       "9  0.003737  0.003390  0.826866  0.016317  0.013211  "
      ]
     },
     "execution_count": 109,
     "metadata": {},
     "output_type": "execute_result"
    }
   ],
   "source": [
    "df_res = pd.DataFrame(res)\n",
    "df_res[:10]"
   ]
  },
  {
   "cell_type": "code",
   "execution_count": 120,
   "metadata": {},
   "outputs": [
    {
     "data": {
      "text/plain": [
       "array([  2.61632405e-04,   5.29042154e-05,   5.62077512e-05,\n",
       "         1.84988130e-05,   9.08158690e-05,   4.65118239e-04,\n",
       "         9.53488197e-05,   4.28705243e-05,   3.18779057e-05,\n",
       "         9.98097599e-01,   7.40932999e-04,   4.61786112e-05], dtype=float32)"
      ]
     },
     "execution_count": 120,
     "metadata": {},
     "output_type": "execute_result"
    }
   ],
   "source": []
  },
  {
   "cell_type": "code",
   "execution_count": null,
   "metadata": {
    "collapsed": true
   },
   "outputs": [],
   "source": [
    "# encode class values as integers\n",
    "encoder= LabelEncoder()\n",
    "encoder.fit(Y)\n",
    "encoded_Y = encoder.transform(Y)\n",
    "# convert integers to dummy variables (i.e. one hot encoded)\n",
    "dummy_y = np_utils.to_categorical(encoded_Y)"
   ]
  },
  {
   "cell_type": "code",
   "execution_count": 114,
   "metadata": {
    "collapsed": true
   },
   "outputs": [],
   "source": [
    "encoder= LabelEncoder()"
   ]
  },
  {
   "cell_type": "code",
   "execution_count": 118,
   "metadata": {},
   "outputs": [
    {
     "data": {
      "text/plain": [
       "LabelEncoder()"
      ]
     },
     "execution_count": 118,
     "metadata": {},
     "output_type": "execute_result"
    }
   ],
   "source": [
    "encoder.fit(['down', 'go', 'left', 'no', 'off', 'on', 'right', 'silence', 'stop', 'unknown', 'up', 'yes'])"
   ]
  },
  {
   "cell_type": "code",
   "execution_count": 121,
   "metadata": {},
   "outputs": [
    {
     "name": "stderr",
     "output_type": "stream",
     "text": [
      "/Users/chad/anaconda3/lib/python3.6/site-packages/numpy/lib/arraysetops.py:459: FutureWarning: elementwise comparison failed; returning scalar instead, but in the future will perform elementwise comparison\n",
      "  mask &= (ar1 != a)\n"
     ]
    },
    {
     "ename": "ValueError",
     "evalue": "y contains new labels: [  1.84988130e-05   3.18779057e-05   4.28705243e-05   4.61786112e-05\n   5.29042154e-05   5.62077512e-05   9.08158690e-05   9.53488197e-05\n   2.61632405e-04   4.65118239e-04   7.40932999e-04   9.98097599e-01]",
     "output_type": "error",
     "traceback": [
      "\u001b[0;31m---------------------------------------------------------------------------\u001b[0m",
      "\u001b[0;31mValueError\u001b[0m                                Traceback (most recent call last)",
      "\u001b[0;32m<ipython-input-121-9fc8727b615a>\u001b[0m in \u001b[0;36m<module>\u001b[0;34m()\u001b[0m\n\u001b[0;32m----> 1\u001b[0;31m \u001b[0mencoder\u001b[0m\u001b[0;34m.\u001b[0m\u001b[0mtransform\u001b[0m\u001b[0;34m(\u001b[0m\u001b[0mres\u001b[0m\u001b[0;34m[\u001b[0m\u001b[0;36m1\u001b[0m\u001b[0;34m]\u001b[0m\u001b[0;34m)\u001b[0m\u001b[0;34m\u001b[0m\u001b[0m\n\u001b[0m",
      "\u001b[0;32m/Users/chad/anaconda3/lib/python3.6/site-packages/sklearn/preprocessing/label.py\u001b[0m in \u001b[0;36mtransform\u001b[0;34m(self, y)\u001b[0m\n\u001b[1;32m    131\u001b[0m         \u001b[0;32mif\u001b[0m \u001b[0mlen\u001b[0m\u001b[0;34m(\u001b[0m\u001b[0mnp\u001b[0m\u001b[0;34m.\u001b[0m\u001b[0mintersect1d\u001b[0m\u001b[0;34m(\u001b[0m\u001b[0mclasses\u001b[0m\u001b[0;34m,\u001b[0m \u001b[0mself\u001b[0m\u001b[0;34m.\u001b[0m\u001b[0mclasses_\u001b[0m\u001b[0;34m)\u001b[0m\u001b[0;34m)\u001b[0m \u001b[0;34m<\u001b[0m \u001b[0mlen\u001b[0m\u001b[0;34m(\u001b[0m\u001b[0mclasses\u001b[0m\u001b[0;34m)\u001b[0m\u001b[0;34m:\u001b[0m\u001b[0;34m\u001b[0m\u001b[0m\n\u001b[1;32m    132\u001b[0m             \u001b[0mdiff\u001b[0m \u001b[0;34m=\u001b[0m \u001b[0mnp\u001b[0m\u001b[0;34m.\u001b[0m\u001b[0msetdiff1d\u001b[0m\u001b[0;34m(\u001b[0m\u001b[0mclasses\u001b[0m\u001b[0;34m,\u001b[0m \u001b[0mself\u001b[0m\u001b[0;34m.\u001b[0m\u001b[0mclasses_\u001b[0m\u001b[0;34m)\u001b[0m\u001b[0;34m\u001b[0m\u001b[0m\n\u001b[0;32m--> 133\u001b[0;31m             \u001b[0;32mraise\u001b[0m \u001b[0mValueError\u001b[0m\u001b[0;34m(\u001b[0m\u001b[0;34m\"y contains new labels: %s\"\u001b[0m \u001b[0;34m%\u001b[0m \u001b[0mstr\u001b[0m\u001b[0;34m(\u001b[0m\u001b[0mdiff\u001b[0m\u001b[0;34m)\u001b[0m\u001b[0;34m)\u001b[0m\u001b[0;34m\u001b[0m\u001b[0m\n\u001b[0m\u001b[1;32m    134\u001b[0m         \u001b[0;32mreturn\u001b[0m \u001b[0mnp\u001b[0m\u001b[0;34m.\u001b[0m\u001b[0msearchsorted\u001b[0m\u001b[0;34m(\u001b[0m\u001b[0mself\u001b[0m\u001b[0;34m.\u001b[0m\u001b[0mclasses_\u001b[0m\u001b[0;34m,\u001b[0m \u001b[0my\u001b[0m\u001b[0;34m)\u001b[0m\u001b[0;34m\u001b[0m\u001b[0m\n\u001b[1;32m    135\u001b[0m \u001b[0;34m\u001b[0m\u001b[0m\n",
      "\u001b[0;31mValueError\u001b[0m: y contains new labels: [  1.84988130e-05   3.18779057e-05   4.28705243e-05   4.61786112e-05\n   5.29042154e-05   5.62077512e-05   9.08158690e-05   9.53488197e-05\n   2.61632405e-04   4.65118239e-04   7.40932999e-04   9.98097599e-01]"
     ]
    }
   ],
   "source": [
    "encoder.transform(res[1])"
   ]
  },
  {
   "cell_type": "code",
   "execution_count": null,
   "metadata": {
    "collapsed": true
   },
   "outputs": [],
   "source": []
  },
  {
   "cell_type": "code",
   "execution_count": null,
   "metadata": {
    "collapsed": true
   },
   "outputs": [],
   "source": []
  },
  {
   "cell_type": "code",
   "execution_count": 124,
   "metadata": {
    "collapsed": true
   },
   "outputs": [],
   "source": [
    "def test_data_generator(batch=16):\n",
    "    fpaths = glob(os.path.join(TEST_PATH, '*wav'))\n",
    "    i = 0\n",
    "    for path in fpaths:\n",
    "        if i == 0:\n",
    "            imgs = []\n",
    "            fnames = []\n",
    "        i += 1\n",
    "        rate, samples = wavfile.read(path)\n",
    "        samples = pad_audio(samples)\n",
    "        resampled = signal.resample(samples, int(new_sample_rate / rate * samples.shape[0]))\n",
    "        _, _, specgram = log_specgram(resampled, sample_rate=new_sample_rate)\n",
    "        imgs.append(specgram)\n",
    "        fnames.append(path.split('\\\\')[-1])\n",
    "        if i == batch:\n",
    "            i = 0\n",
    "            imgs = np.array(imgs)\n",
    "            imgs = imgs.reshape(tuple(list(imgs.shape) + [1]))\n",
    "            yield fnames, imgs\n",
    "    if i < batch:\n",
    "        imgs = np.array(imgs)\n",
    "        imgs = imgs.reshape(tuple(list(imgs.shape) + [1]))\n",
    "        yield fnames, imgs\n",
    "    raise StopIteration()"
   ]
  },
  {
   "cell_type": "code",
   "execution_count": 1,
   "metadata": {},
   "outputs": [
    {
     "ename": "NameError",
     "evalue": "name 'test_data_generator' is not defined",
     "output_type": "error",
     "traceback": [
      "\u001b[0;31m---------------------------------------------------------------------------\u001b[0m",
      "\u001b[0;31mNameError\u001b[0m                                 Traceback (most recent call last)",
      "\u001b[0;32m<ipython-input-1-578b6e513a05>\u001b[0m in \u001b[0;36m<module>\u001b[0;34m()\u001b[0m\n\u001b[0;32m----> 1\u001b[0;31m \u001b[0mget_ipython\u001b[0m\u001b[0;34m(\u001b[0m\u001b[0;34m)\u001b[0m\u001b[0;34m.\u001b[0m\u001b[0mrun_cell_magic\u001b[0m\u001b[0;34m(\u001b[0m\u001b[0;34m'time'\u001b[0m\u001b[0;34m,\u001b[0m \u001b[0;34m''\u001b[0m\u001b[0;34m,\u001b[0m \u001b[0;34m\"\\nindex = []\\nresults = []\\nfor fnames, imgs in test_data_generator(batch=32):\\n    predicts = model.predict(imgs)\\n    predicts = np.argmax(predicts, axis=1)\\n    predicts = [label_index[p] for p in predicts]\\n    index.extend(fnames)\\n    results.extend(predicts)\\n\\ndf = pd.DataFrame(columns=['fname', 'label'])\\ndf['fname'] = index\\ndf['label'] = results\\ndf.to_csv(os.path.join(out_path, 'sub.csv'), index=False)\"\u001b[0m\u001b[0;34m)\u001b[0m\u001b[0;34m\u001b[0m\u001b[0m\n\u001b[0m",
      "\u001b[0;32m/Users/chad/anaconda3/lib/python3.6/site-packages/IPython/core/interactiveshell.py\u001b[0m in \u001b[0;36mrun_cell_magic\u001b[0;34m(self, magic_name, line, cell)\u001b[0m\n\u001b[1;32m   2113\u001b[0m             \u001b[0mmagic_arg_s\u001b[0m \u001b[0;34m=\u001b[0m \u001b[0mself\u001b[0m\u001b[0;34m.\u001b[0m\u001b[0mvar_expand\u001b[0m\u001b[0;34m(\u001b[0m\u001b[0mline\u001b[0m\u001b[0;34m,\u001b[0m \u001b[0mstack_depth\u001b[0m\u001b[0;34m)\u001b[0m\u001b[0;34m\u001b[0m\u001b[0m\n\u001b[1;32m   2114\u001b[0m             \u001b[0;32mwith\u001b[0m \u001b[0mself\u001b[0m\u001b[0;34m.\u001b[0m\u001b[0mbuiltin_trap\u001b[0m\u001b[0;34m:\u001b[0m\u001b[0;34m\u001b[0m\u001b[0m\n\u001b[0;32m-> 2115\u001b[0;31m                 \u001b[0mresult\u001b[0m \u001b[0;34m=\u001b[0m \u001b[0mfn\u001b[0m\u001b[0;34m(\u001b[0m\u001b[0mmagic_arg_s\u001b[0m\u001b[0;34m,\u001b[0m \u001b[0mcell\u001b[0m\u001b[0;34m)\u001b[0m\u001b[0;34m\u001b[0m\u001b[0m\n\u001b[0m\u001b[1;32m   2116\u001b[0m             \u001b[0;32mreturn\u001b[0m \u001b[0mresult\u001b[0m\u001b[0;34m\u001b[0m\u001b[0m\n\u001b[1;32m   2117\u001b[0m \u001b[0;34m\u001b[0m\u001b[0m\n",
      "\u001b[0;32m<decorator-gen-59>\u001b[0m in \u001b[0;36mtime\u001b[0;34m(self, line, cell, local_ns)\u001b[0m\n",
      "\u001b[0;32m/Users/chad/anaconda3/lib/python3.6/site-packages/IPython/core/magic.py\u001b[0m in \u001b[0;36m<lambda>\u001b[0;34m(f, *a, **k)\u001b[0m\n\u001b[1;32m    186\u001b[0m     \u001b[0;31m# but it's overkill for just that one bit of state.\u001b[0m\u001b[0;34m\u001b[0m\u001b[0;34m\u001b[0m\u001b[0m\n\u001b[1;32m    187\u001b[0m     \u001b[0;32mdef\u001b[0m \u001b[0mmagic_deco\u001b[0m\u001b[0;34m(\u001b[0m\u001b[0marg\u001b[0m\u001b[0;34m)\u001b[0m\u001b[0;34m:\u001b[0m\u001b[0;34m\u001b[0m\u001b[0m\n\u001b[0;32m--> 188\u001b[0;31m         \u001b[0mcall\u001b[0m \u001b[0;34m=\u001b[0m \u001b[0;32mlambda\u001b[0m \u001b[0mf\u001b[0m\u001b[0;34m,\u001b[0m \u001b[0;34m*\u001b[0m\u001b[0ma\u001b[0m\u001b[0;34m,\u001b[0m \u001b[0;34m**\u001b[0m\u001b[0mk\u001b[0m\u001b[0;34m:\u001b[0m \u001b[0mf\u001b[0m\u001b[0;34m(\u001b[0m\u001b[0;34m*\u001b[0m\u001b[0ma\u001b[0m\u001b[0;34m,\u001b[0m \u001b[0;34m**\u001b[0m\u001b[0mk\u001b[0m\u001b[0;34m)\u001b[0m\u001b[0;34m\u001b[0m\u001b[0m\n\u001b[0m\u001b[1;32m    189\u001b[0m \u001b[0;34m\u001b[0m\u001b[0m\n\u001b[1;32m    190\u001b[0m         \u001b[0;32mif\u001b[0m \u001b[0mcallable\u001b[0m\u001b[0;34m(\u001b[0m\u001b[0marg\u001b[0m\u001b[0;34m)\u001b[0m\u001b[0;34m:\u001b[0m\u001b[0;34m\u001b[0m\u001b[0m\n",
      "\u001b[0;32m/Users/chad/anaconda3/lib/python3.6/site-packages/IPython/core/magics/execution.py\u001b[0m in \u001b[0;36mtime\u001b[0;34m(self, line, cell, local_ns)\u001b[0m\n\u001b[1;32m   1183\u001b[0m         \u001b[0;32melse\u001b[0m\u001b[0;34m:\u001b[0m\u001b[0;34m\u001b[0m\u001b[0m\n\u001b[1;32m   1184\u001b[0m             \u001b[0mst\u001b[0m \u001b[0;34m=\u001b[0m \u001b[0mclock2\u001b[0m\u001b[0;34m(\u001b[0m\u001b[0;34m)\u001b[0m\u001b[0;34m\u001b[0m\u001b[0m\n\u001b[0;32m-> 1185\u001b[0;31m             \u001b[0mexec\u001b[0m\u001b[0;34m(\u001b[0m\u001b[0mcode\u001b[0m\u001b[0;34m,\u001b[0m \u001b[0mglob\u001b[0m\u001b[0;34m,\u001b[0m \u001b[0mlocal_ns\u001b[0m\u001b[0;34m)\u001b[0m\u001b[0;34m\u001b[0m\u001b[0m\n\u001b[0m\u001b[1;32m   1186\u001b[0m             \u001b[0mend\u001b[0m \u001b[0;34m=\u001b[0m \u001b[0mclock2\u001b[0m\u001b[0;34m(\u001b[0m\u001b[0;34m)\u001b[0m\u001b[0;34m\u001b[0m\u001b[0m\n\u001b[1;32m   1187\u001b[0m             \u001b[0mout\u001b[0m \u001b[0;34m=\u001b[0m \u001b[0;32mNone\u001b[0m\u001b[0;34m\u001b[0m\u001b[0m\n",
      "\u001b[0;32m<timed exec>\u001b[0m in \u001b[0;36m<module>\u001b[0;34m()\u001b[0m\n",
      "\u001b[0;31mNameError\u001b[0m: name 'test_data_generator' is not defined"
     ]
    }
   ],
   "source": [
    "%%time \n",
    "\n",
    "index = []\n",
    "results = []\n",
    "for fnames, imgs in test_data_generator(batch=32):\n",
    "    predicts = model.predict(imgs)\n",
    "    predicts = np.argmax(predicts, axis=1)\n",
    "    predicts = [label_index[p] for p in predicts]\n",
    "    index.extend(fnames)\n",
    "    results.extend(predicts)\n",
    "\n",
    "df = pd.DataFrame(columns=['fname', 'label'])\n",
    "df['fname'] = index\n",
    "df['label'] = results\n",
    "df.to_csv(os.path.join(out_path, 'sub.csv'), index=False)"
   ]
  },
  {
   "cell_type": "code",
   "execution_count": null,
   "metadata": {
    "collapsed": true
   },
   "outputs": [],
   "source": []
  }
 ],
 "metadata": {
  "kernelspec": {
   "display_name": "Python 3",
   "language": "python",
   "name": "python3"
  },
  "language_info": {
   "codemirror_mode": {
    "name": "ipython",
    "version": 3
   },
   "file_extension": ".py",
   "mimetype": "text/x-python",
   "name": "python",
   "nbconvert_exporter": "python",
   "pygments_lexer": "ipython3",
   "version": "3.6.1"
  }
 },
 "nbformat": 4,
 "nbformat_minor": 2
}
