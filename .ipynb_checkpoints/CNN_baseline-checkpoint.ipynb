{
 "cells": [
  {
   "cell_type": "code",
   "execution_count": null,
   "metadata": {
    "collapsed": true
   },
   "outputs": [],
   "source": []
  },
  {
   "cell_type": "markdown",
   "metadata": {
    "collapsed": true
   },
   "source": [
    "- https://www.kaggle.com/alphasis/light-weight-cnn-lb-0-74"
   ]
  },
  {
   "cell_type": "code",
   "execution_count": null,
   "metadata": {},
   "outputs": [],
   "source": [
    "import os\n",
    "import numpy as np\n",
    "from scipy.fftpack import fft\n",
    "from scipy.io import wavfile\n",
    "from scipy import signal\n",
    "from glob import glob\n",
    "import re\n",
    "import pandas as pd\n",
    "import gc\n",
    "from scipy.io import wavfile\n",
    "\n",
    "from keras import optimizers, losses, activations, models\n",
    "from keras.utils.vis_utils import plot_model\n",
    "from keras.layers import Convolution2D, Dense, Input, Flatten, Dropout, MaxPooling2D, BatchNormalization\n",
    "from sklearn.model_selection import train_test_split\n",
    "import keras"
   ]
  },
  {
   "cell_type": "code",
   "execution_count": 5,
   "metadata": {
    "collapsed": true
   },
   "outputs": [],
   "source": [
    "L = 16000\n",
    "legal_labels = 'yes no up down left right on off stop go silence unknown'.split()\n",
    "\n",
    "#src folders\n",
    "# root_path = r'..'\n",
    "# out_path = r'.'\n",
    "# model_path = r'.'\n",
    "\n",
    "TRAIN_PATH = './input/train/audio/'\n",
    "TEST_PATH = './input/test/audio/'\n",
    "OUTPUT_PATH = './output/'\n",
    "\n",
    "# train_data_path = os.path.join(root_path, 'input', 'train', 'audio')\n",
    "# test_data_path = os.path.join(root_path, 'input', 'test', 'audio')"
   ]
  },
  {
   "cell_type": "code",
   "execution_count": null,
   "metadata": {
    "collapsed": true
   },
   "outputs": [],
   "source": []
  },
  {
   "cell_type": "code",
   "execution_count": 228,
   "metadata": {
    "collapsed": true
   },
   "outputs": [],
   "source": [
    "## custom_fft and log_specgram functions written by DavidS.\n",
    "def custom_fft(y, fs):\n",
    "    T = 1.0 / fs\n",
    "    N = y.shape[0]\n",
    "    yf = fft(y)\n",
    "    xf = np.linspace(0.0, 1.0/(2.0*T), N//2)\n",
    "    # FFT 는 대칭(simmetrical)이므로 반쪽만 얻음.\n",
    "    # FFT 는 복소수이므로 실수값만 취하기 위해 abs()\n",
    "    vals = 2.0/N * np.abs(yf[0:N//2])\n",
    "    return xf, vals\n",
    "\n",
    "def log_specgram(audio, sample_rate, window_size=20, step_size=10, eps=1e-10):\n",
    "    nperseg = int(round(window_size * sample_rate / 1e3))\n",
    "    noverlap = int(round(step_size * sample_rate / 1e3))\n",
    "    freqs, times, spec = signal.spectrogram(audio,\n",
    "                                    fs=sample_rate,\n",
    "                                    window='hann',\n",
    "                                    nperseg=nperseg,\n",
    "                                    noverlap=noverlap,\n",
    "                                    detrend=False)\n",
    "    return freqs, times, np.log(spec.T.astype(np.float32) + eps)"
   ]
  },
  {
   "cell_type": "code",
   "execution_count": null,
   "metadata": {
    "collapsed": true
   },
   "outputs": [],
   "source": []
  },
  {
   "cell_type": "code",
   "execution_count": 229,
   "metadata": {
    "collapsed": true
   },
   "outputs": [],
   "source": [
    "## utility function to grab all wav files inside train data folder.\n",
    "def list_wavs_fname(dirpath, ext='wav'):\n",
    "    print(dirpath)\n",
    "    fpaths = glob(os.path.join(dirpath, r'*/*' + ext))\n",
    "    pat = r'.+/(\\w+)/\\w+\\.' + ext + '$'\n",
    "    labels = []\n",
    "    for fpath in fpaths:\n",
    "        r = re.match(pat, fpath)\n",
    "        if r:\n",
    "            labels.append(r.group(1))\n",
    "    pat = r'.+/(\\w+\\.' + ext + ')$'\n",
    "    fnames = []\n",
    "    for fpath in fpaths:\n",
    "        r = re.match(pat, fpath)\n",
    "        if r:\n",
    "            fnames.append(r.group(1))\n",
    "    return labels, fnames"
   ]
  },
  {
   "cell_type": "code",
   "execution_count": null,
   "metadata": {
    "collapsed": true
   },
   "outputs": [],
   "source": [
    "def pad_audio(samples):\n",
    "    '''\n",
    "    pad audios that are less than 16000(1 second) with 0s to make them all have the same length.\n",
    "    '''\n",
    "    if len(samples) >= L: \n",
    "        return samples\n",
    "    else: \n",
    "        return np.pad(samples, pad_width=(L - len(samples), 0), mode='constant', constant_values=(0, 0)) \n",
    "        # sample 앞뒤로 constant_values[0]과 constant_values[1]을 각각 pad_width 갯수 만큼 패딩\n",
    "        # 총길이는 len(samples) + 2*pad_width\n",
    "\n",
    "def chop_audio(samples, L=16000, num=20):\n",
    "    '''\n",
    "    chop audios that are larger than 16000(eg. wav files in background noises folder) to 16000 in length.\n",
    "    create several chunks out of one large wav files given the parameter 'num'.\n",
    "    '''\n",
    "    for i in range(num):\n",
    "        beg = np.random.randint(0, len(samples) - L)\n",
    "        yield samples[beg: beg + L]\n",
    "\n",
    "def label_transform(labels):\n",
    "    '''\n",
    "    레이블 정규화 및 one-hot벡터화 (더미화)\n",
    "    '''\n",
    "    nlabels = []\n",
    "    for label in labels:\n",
    "        if label == '_background_noise_':\n",
    "            nlabels.append('silence')\n",
    "        elif label not in legal_labels:\n",
    "            nlabels.append('unknown')\n",
    "        else:\n",
    "            nlabels.append(label)\n",
    "    return pd.get_dummies(pd.Series(nlabels))"
   ]
  },
  {
   "cell_type": "code",
   "execution_count": null,
   "metadata": {
    "collapsed": true
   },
   "outputs": [],
   "source": [
    "pd.get_dummies?"
   ]
  },
  {
   "cell_type": "code",
   "execution_count": null,
   "metadata": {
    "collapsed": true
   },
   "outputs": [],
   "source": []
  },
  {
   "cell_type": "code",
   "execution_count": null,
   "metadata": {
    "collapsed": true
   },
   "outputs": [],
   "source": []
  },
  {
   "cell_type": "code",
   "execution_count": 231,
   "metadata": {},
   "outputs": [
    {
     "name": "stdout",
     "output_type": "stream",
     "text": [
      "./input/train/audio/\n"
     ]
    }
   ],
   "source": [
    "labels, fnames = list_wavs_fname(TRAIN_PATH)\n",
    "new_sample_rate = 8000"
   ]
  },
  {
   "cell_type": "code",
   "execution_count": 232,
   "metadata": {},
   "outputs": [
    {
     "data": {
      "text/plain": [
       "['_background_noise_',\n",
       " '_background_noise_',\n",
       " '_background_noise_',\n",
       " '_background_noise_',\n",
       " '_background_noise_',\n",
       " '_background_noise_',\n",
       " 'bed',\n",
       " 'bed',\n",
       " 'bed',\n",
       " 'bed']"
      ]
     },
     "execution_count": 232,
     "metadata": {},
     "output_type": "execute_result"
    }
   ],
   "source": [
    "labels[:10]"
   ]
  },
  {
   "cell_type": "code",
   "execution_count": 233,
   "metadata": {},
   "outputs": [
    {
     "data": {
      "text/plain": [
       "['doing_the_dishes.wav',\n",
       " 'dude_miaowing.wav',\n",
       " 'exercise_bike.wav',\n",
       " 'pink_noise.wav',\n",
       " 'running_tap.wav',\n",
       " 'white_noise.wav',\n",
       " '00176480_nohash_0.wav',\n",
       " '004ae714_nohash_0.wav',\n",
       " '004ae714_nohash_1.wav',\n",
       " '00f0204f_nohash_0.wav']"
      ]
     },
     "execution_count": 233,
     "metadata": {},
     "output_type": "execute_result"
    }
   ],
   "source": [
    "fnames[:10]"
   ]
  },
  {
   "cell_type": "code",
   "execution_count": null,
   "metadata": {
    "collapsed": true
   },
   "outputs": [],
   "source": []
  },
  {
   "cell_type": "code",
   "execution_count": 234,
   "metadata": {},
   "outputs": [
    {
     "name": "stderr",
     "output_type": "stream",
     "text": [
      "/Users/chad/anaconda3/lib/python3.6/site-packages/scipy/io/wavfile.py:221: WavFileWarning: Chunk (non-data) not understood, skipping it.\n",
      "  WavFileWarning)\n"
     ]
    },
    {
     "data": {
      "text/plain": [
       "(16000, 988891)"
      ]
     },
     "execution_count": 234,
     "metadata": {},
     "output_type": "execute_result"
    }
   ],
   "source": [
    "## 음성 파일 읽음\n",
    "idx = 1\n",
    "sample_rate, samples = wavfile.read(os.path.join(TRAIN_PATH, labels[idx], fnames[idx]))\n",
    "sample_rate, len(samples)"
   ]
  },
  {
   "cell_type": "code",
   "execution_count": 235,
   "metadata": {},
   "outputs": [
    {
     "data": {
      "text/plain": [
       "array([  0,   0,   0, ...,  95, 111, -11], dtype=int16)"
      ]
     },
     "execution_count": 235,
     "metadata": {},
     "output_type": "execute_result"
    }
   ],
   "source": [
    "samples"
   ]
  },
  {
   "cell_type": "code",
   "execution_count": 236,
   "metadata": {},
   "outputs": [],
   "source": [
    "## 음성 파일 길이 맞춤\n",
    "if len(samples) > 16000:\n",
    "    n_samples = chop_audio(samples)\n",
    "else: \n",
    "    n_samples = [samples]\n",
    "# sample_rate, len(n_samples), len(n_samples[0])"
   ]
  },
  {
   "cell_type": "code",
   "execution_count": 237,
   "metadata": {
    "collapsed": true
   },
   "outputs": [],
   "source": [
    "for samples in n_samples:\n",
    "    resampled = signal.resample(samples, int(new_sample_rate / sample_rate * samples.shape[0])) \n",
    "    # resample 원리..??\n",
    "    # https://docs.scipy.org/doc/scipy-0.16.0/reference/generated/scipy.signal.resample.html\n",
    "    _, _, specgram = log_specgram(resampled, sample_rate=new_sample_rate)"
   ]
  },
  {
   "cell_type": "code",
   "execution_count": 253,
   "metadata": {},
   "outputs": [
    {
     "data": {
      "text/plain": [
       "((16000,), (8000,))"
      ]
     },
     "execution_count": 253,
     "metadata": {},
     "output_type": "execute_result"
    }
   ],
   "source": [
    "# resample 후 피쳐 shape\n",
    "samples.shape, resampled.shape"
   ]
  },
  {
   "cell_type": "code",
   "execution_count": 239,
   "metadata": {},
   "outputs": [
    {
     "data": {
      "text/plain": [
       "(array([ -67, -246,  -28, -150,   13, -259, -219, -178, -133,    5], dtype=int16),\n",
       " array([ -87.65683892, -143.29395578,  -53.7923899 , -282.26891607,\n",
       "         -40.44005993, -213.67844263, -168.61434638,  -42.06600294,\n",
       "        -107.10867403,  -81.04818766]))"
      ]
     },
     "execution_count": 239,
     "metadata": {},
     "output_type": "execute_result"
    }
   ],
   "source": [
    "samples[:10], resampled[:10]"
   ]
  },
  {
   "cell_type": "code",
   "execution_count": 252,
   "metadata": {},
   "outputs": [
    {
     "data": {
      "text/plain": [
       "((8000,), (99, 81))"
      ]
     },
     "execution_count": 252,
     "metadata": {},
     "output_type": "execute_result"
    }
   ],
   "source": [
    "# log_specgram으로 변환 후 피쳐 shape\n",
    "resampled.shape, specgram.shape"
   ]
  },
  {
   "cell_type": "code",
   "execution_count": 243,
   "metadata": {},
   "outputs": [
    {
     "data": {
      "text/plain": [
       "array([[-10.21001625,  -0.4732331 ,   0.4780494 , ...,  -5.80697393,\n",
       "         -4.49407959,  -3.90996122],\n",
       "       [ -5.04077196,   0.02861843,   3.64834547, ...,  -6.21814728,\n",
       "         -4.04334545,  -3.53456378],\n",
       "       [ -3.38002753,   3.05539846,   4.02847576, ...,  -5.15383196,\n",
       "         -4.25699377,  -3.47039342],\n",
       "       ..., \n",
       "       [ -4.36659908,  -1.74920118,   0.54107004, ...,  -6.09838772,\n",
       "         -4.73975325,  -4.24840927],\n",
       "       [ -4.86254311,  -2.85832739,  -0.30666471, ...,  -5.47484684,\n",
       "         -5.55965662,  -4.44182587],\n",
       "       [ -9.72101021,  -0.45367008,   0.96115571, ...,  -6.81187916,\n",
       "         -3.91157794,  -3.43369842]], dtype=float32)"
      ]
     },
     "execution_count": 243,
     "metadata": {},
     "output_type": "execute_result"
    }
   ],
   "source": [
    "specgram"
   ]
  },
  {
   "cell_type": "code",
   "execution_count": null,
   "metadata": {
    "collapsed": true
   },
   "outputs": [],
   "source": []
  },
  {
   "cell_type": "markdown",
   "metadata": {},
   "source": [
    "# 학습데이터 전처리"
   ]
  },
  {
   "cell_type": "code",
   "execution_count": 269,
   "metadata": {},
   "outputs": [
    {
     "name": "stderr",
     "output_type": "stream",
     "text": [
      "/Users/chad/anaconda3/lib/python3.6/site-packages/scipy/io/wavfile.py:221: WavFileWarning: Chunk (non-data) not understood, skipping it.\n",
      "  WavFileWarning)\n"
     ]
    },
    {
     "name": "stdout",
     "output_type": "stream",
     "text": [
      "CPU times: user 1min 6s, sys: 29.3 s, total: 1min 35s\n",
      "Wall time: 1min 50s\n"
     ]
    }
   ],
   "source": [
    "%%time\n",
    "y = []\n",
    "X = []\n",
    "\n",
    "for label, fname in zip(labels, fnames):\n",
    "    sample_rate, samples = wavfile.read(os.path.join(TRAIN_PATH, label, fname))\n",
    "    samples = pad_audio(samples)\n",
    "    if len(samples) > 16000:\n",
    "        n_samples = chop_audio(samples)\n",
    "    else: \n",
    "        n_samples = [samples]\n",
    "    for samples in n_samples:\n",
    "        resampled = signal.resample(samples, int(new_sample_rate / sample_rate * samples.shape[0]))\n",
    "        _, _, specgram = log_specgram(resampled, sample_rate=new_sample_rate)\n",
    "        y.append(label)\n",
    "        X.append(specgram)"
   ]
  },
  {
   "cell_type": "code",
   "execution_count": 270,
   "metadata": {},
   "outputs": [
    {
     "data": {
      "text/plain": [
       "('_background_noise_',\n",
       " array([[ 2.2768712 ,  5.55619621,  7.00700521, ...,  5.33254862,\n",
       "          4.53777409,  0.26931942],\n",
       "        [ 2.98270607,  3.93390989,  5.22487783, ...,  3.78000855,\n",
       "          4.16342497,  3.26841164],\n",
       "        [ 0.32923615,  2.12007403,  1.3617003 , ...,  2.88206434,\n",
       "          2.49365449,  1.48180795],\n",
       "        ..., \n",
       "        [ 4.38081694,  3.99330354,  3.1907835 , ...,  5.27651501,\n",
       "          5.23503971,  5.05242157],\n",
       "        [ 1.94026947,  4.50675249,  5.59601736, ...,  6.29192638,\n",
       "          8.03613091,  7.62341547],\n",
       "        [ 1.19583321,  1.34175241,  4.40150833, ...,  5.8230195 ,\n",
       "          5.55620956,  5.48801088]], dtype=float32))"
      ]
     },
     "execution_count": 270,
     "metadata": {},
     "output_type": "execute_result"
    }
   ],
   "source": [
    "y[0], X[0]"
   ]
  },
  {
   "cell_type": "code",
   "execution_count": 272,
   "metadata": {},
   "outputs": [
    {
     "data": {
      "text/plain": [
       "(99, 81)"
      ]
     },
     "execution_count": 272,
     "metadata": {},
     "output_type": "execute_result"
    }
   ],
   "source": [
    "X[0].shape"
   ]
  },
  {
   "cell_type": "code",
   "execution_count": null,
   "metadata": {
    "collapsed": true
   },
   "outputs": [],
   "source": []
  },
  {
   "cell_type": "code",
   "execution_count": 279,
   "metadata": {},
   "outputs": [],
   "source": [
    "X = np.array(X)\n",
    "X = X.reshape(tuple(list(X.shape) + [1])) # (64841, 99, 81, 1) 로 reshape\n",
    "y = label_transform(y)\n",
    "label_index = y.columns.values\n",
    "y = y.values\n",
    "# del labels, fnames\n",
    "# gc.collect()"
   ]
  },
  {
   "cell_type": "code",
   "execution_count": 280,
   "metadata": {},
   "outputs": [
    {
     "data": {
      "text/plain": [
       "(array([0, 0, 0, 0, 0, 0, 0, 1, 0, 0, 0, 0], dtype=uint8),\n",
       " array([[[ 2.2768712 ],\n",
       "         [ 5.55619621],\n",
       "         [ 7.00700521],\n",
       "         ..., \n",
       "         [ 5.33254862],\n",
       "         [ 4.53777409],\n",
       "         [ 0.26931942]],\n",
       " \n",
       "        [[ 2.98270607],\n",
       "         [ 3.93390989],\n",
       "         [ 5.22487783],\n",
       "         ..., \n",
       "         [ 3.78000855],\n",
       "         [ 4.16342497],\n",
       "         [ 3.26841164]],\n",
       " \n",
       "        [[ 0.32923615],\n",
       "         [ 2.12007403],\n",
       "         [ 1.3617003 ],\n",
       "         ..., \n",
       "         [ 2.88206434],\n",
       "         [ 2.49365449],\n",
       "         [ 1.48180795]],\n",
       " \n",
       "        ..., \n",
       "        [[ 4.38081694],\n",
       "         [ 3.99330354],\n",
       "         [ 3.1907835 ],\n",
       "         ..., \n",
       "         [ 5.27651501],\n",
       "         [ 5.23503971],\n",
       "         [ 5.05242157]],\n",
       " \n",
       "        [[ 1.94026947],\n",
       "         [ 4.50675249],\n",
       "         [ 5.59601736],\n",
       "         ..., \n",
       "         [ 6.29192638],\n",
       "         [ 8.03613091],\n",
       "         [ 7.62341547]],\n",
       " \n",
       "        [[ 1.19583321],\n",
       "         [ 1.34175241],\n",
       "         [ 4.40150833],\n",
       "         ..., \n",
       "         [ 5.8230195 ],\n",
       "         [ 5.55620956],\n",
       "         [ 5.48801088]]], dtype=float32))"
      ]
     },
     "execution_count": 280,
     "metadata": {},
     "output_type": "execute_result"
    }
   ],
   "source": [
    "# sample data\n",
    "y[0], X[0]"
   ]
  },
  {
   "cell_type": "code",
   "execution_count": null,
   "metadata": {
    "collapsed": true
   },
   "outputs": [],
   "source": []
  },
  {
   "cell_type": "code",
   "execution_count": 281,
   "metadata": {
    "collapsed": true
   },
   "outputs": [],
   "source": [
    "input_shape = (99, 81, 1) # in order to fit into Conv2D layer, we need to reshape it.\n",
    "nclass = 12"
   ]
  },
  {
   "cell_type": "code",
   "execution_count": 282,
   "metadata": {
    "collapsed": true,
    "scrolled": true
   },
   "outputs": [],
   "source": [
    "X_train, X_valid, y_train, y_valid = train_test_split(X, y, test_size=0.1, random_state=1130) # 9:1로 train, valid 셋 나눔."
   ]
  },
  {
   "cell_type": "code",
   "execution_count": null,
   "metadata": {
    "collapsed": true
   },
   "outputs": [],
   "source": []
  },
  {
   "cell_type": "code",
   "execution_count": 284,
   "metadata": {
    "collapsed": true
   },
   "outputs": [],
   "source": [
    "## Modeling\n",
    "inp = Input(shape=input_shape)\n",
    "norm_inp = BatchNormalization()(inp)\n",
    "img_1 = Convolution2D(8, kernel_size=2, activation=activations.relu)(norm_inp)\n",
    "img_1 = Convolution2D(8, kernel_size=2, activation=activations.relu)(img_1)\n",
    "img_1 = MaxPooling2D(pool_size=(2, 2))(img_1)\n",
    "img_1 = Dropout(rate=0.2)(img_1)\n",
    "img_1 = Convolution2D(16, kernel_size=3, activation=activations.relu)(img_1)\n",
    "img_1 = Convolution2D(16, kernel_size=3, activation=activations.relu)(img_1)\n",
    "img_1 = MaxPooling2D(pool_size=(2, 2))(img_1)\n",
    "img_1 = Dropout(rate=0.2)(img_1)\n",
    "img_1 = Convolution2D(32, kernel_size=3, activation=activations.relu)(img_1)\n",
    "img_1 = MaxPooling2D(pool_size=(2, 2))(img_1)\n",
    "img_1 = Dropout(rate=0.2)(img_1)\n",
    "img_1 = Flatten()(img_1)\n",
    "\n",
    "dense_1 = BatchNormalization()(Dense(128, activation=activations.relu)(img_1))\n",
    "dense_1 = BatchNormalization()(Dense(128, activation=activations.relu)(dense_1))\n",
    "dense_1 = Dense(nclass, activation=activations.softmax)(dense_1)\n",
    "\n",
    "model = models.Model(inputs=inp, outputs=dense_1)\n",
    "opt = optimizers.Adam()"
   ]
  },
  {
   "cell_type": "code",
   "execution_count": 285,
   "metadata": {
    "scrolled": false
   },
   "outputs": [
    {
     "name": "stdout",
     "output_type": "stream",
     "text": [
      "_________________________________________________________________\n",
      "Layer (type)                 Output Shape              Param #   \n",
      "=================================================================\n",
      "input_2 (InputLayer)         (None, 99, 81, 1)         0         \n",
      "_________________________________________________________________\n",
      "batch_normalization_4 (Batch (None, 99, 81, 1)         4         \n",
      "_________________________________________________________________\n",
      "conv2d_6 (Conv2D)            (None, 98, 80, 8)         40        \n",
      "_________________________________________________________________\n",
      "conv2d_7 (Conv2D)            (None, 97, 79, 8)         264       \n",
      "_________________________________________________________________\n",
      "max_pooling2d_4 (MaxPooling2 (None, 48, 39, 8)         0         \n",
      "_________________________________________________________________\n",
      "dropout_4 (Dropout)          (None, 48, 39, 8)         0         \n",
      "_________________________________________________________________\n",
      "conv2d_8 (Conv2D)            (None, 46, 37, 16)        1168      \n",
      "_________________________________________________________________\n",
      "conv2d_9 (Conv2D)            (None, 44, 35, 16)        2320      \n",
      "_________________________________________________________________\n",
      "max_pooling2d_5 (MaxPooling2 (None, 22, 17, 16)        0         \n",
      "_________________________________________________________________\n",
      "dropout_5 (Dropout)          (None, 22, 17, 16)        0         \n",
      "_________________________________________________________________\n",
      "conv2d_10 (Conv2D)           (None, 20, 15, 32)        4640      \n",
      "_________________________________________________________________\n",
      "max_pooling2d_6 (MaxPooling2 (None, 10, 7, 32)         0         \n",
      "_________________________________________________________________\n",
      "dropout_6 (Dropout)          (None, 10, 7, 32)         0         \n",
      "_________________________________________________________________\n",
      "flatten_2 (Flatten)          (None, 2240)              0         \n",
      "_________________________________________________________________\n",
      "dense_4 (Dense)              (None, 128)               286848    \n",
      "_________________________________________________________________\n",
      "batch_normalization_5 (Batch (None, 128)               512       \n",
      "_________________________________________________________________\n",
      "dense_5 (Dense)              (None, 128)               16512     \n",
      "_________________________________________________________________\n",
      "batch_normalization_6 (Batch (None, 128)               512       \n",
      "_________________________________________________________________\n",
      "dense_6 (Dense)              (None, 12)                1548      \n",
      "=================================================================\n",
      "Total params: 314,368\n",
      "Trainable params: 313,854\n",
      "Non-trainable params: 514\n",
      "_________________________________________________________________\n"
     ]
    }
   ],
   "source": [
    "model.compile(optimizer=opt, loss=losses.binary_crossentropy, metrics=['accuracy'])\n",
    "model.summary()"
   ]
  },
  {
   "cell_type": "code",
   "execution_count": 300,
   "metadata": {
    "collapsed": true
   },
   "outputs": [],
   "source": [
    "# 네트워크 시각화\n",
    "plot_model(model, to_file='output/model_plot.png', show_shapes=True, show_layer_names=True)"
   ]
  },
  {
   "cell_type": "code",
   "execution_count": null,
   "metadata": {},
   "outputs": [
    {
     "name": "stdout",
     "output_type": "stream",
     "text": [
      "Train on 58356 samples, validate on 6485 samples\n",
      "Epoch 1/10\n",
      "58356/58356 [==============================] - 214s - loss: 0.2587 - acc: 0.9228 - val_loss: 0.2219 - val_acc: 0.9167\n",
      "Epoch 2/10\n",
      "58356/58356 [==============================] - 200s - loss: 0.1635 - acc: 0.9455 - val_loss: 0.1788 - val_acc: 0.9402\n",
      "Epoch 3/10\n",
      "58356/58356 [==============================] - 191s - loss: 0.1120 - acc: 0.9598 - val_loss: 0.1918 - val_acc: 0.9401\n",
      "Epoch 4/10\n",
      "58356/58356 [==============================] - 185s - loss: 0.0863 - acc: 0.9686 - val_loss: 0.2013 - val_acc: 0.9401\n",
      "Epoch 5/10\n",
      "58356/58356 [==============================] - 196s - loss: 0.0721 - acc: 0.9738 - val_loss: 0.1857 - val_acc: 0.9408\n",
      "Epoch 6/10\n",
      "58356/58356 [==============================] - 194s - loss: 0.0622 - acc: 0.9773 - val_loss: 0.1598 - val_acc: 0.9420\n",
      "Epoch 7/10\n",
      "58356/58356 [==============================] - 198s - loss: 0.0551 - acc: 0.9799 - val_loss: 0.1306 - val_acc: 0.9470\n",
      "Epoch 8/10\n",
      "55296/58356 [===========================>..] - ETA: 51s - loss: 0.0499 - acc: 0.9820"
     ]
    }
   ],
   "source": [
    "model.fit(X_train, y_train, batch_size=1024, validation_data=(X_valid, y_valid), epochs=10, shuffle=True, verbose=1,)\n",
    "model.save(os.path.join(OUTPUT_PATH, 'cnn.model'))"
   ]
  },
  {
   "cell_type": "code",
   "execution_count": null,
   "metadata": {
    "collapsed": true
   },
   "outputs": [],
   "source": []
  },
  {
   "cell_type": "code",
   "execution_count": null,
   "metadata": {
    "collapsed": true
   },
   "outputs": [],
   "source": []
  },
  {
   "cell_type": "code",
   "execution_count": null,
   "metadata": {
    "collapsed": true
   },
   "outputs": [],
   "source": []
  },
  {
   "cell_type": "code",
   "execution_count": null,
   "metadata": {
    "collapsed": true
   },
   "outputs": [],
   "source": []
  }
 ],
 "metadata": {
  "kernelspec": {
   "display_name": "Python 3",
   "language": "python",
   "name": "python3"
  },
  "language_info": {
   "codemirror_mode": {
    "name": "ipython",
    "version": 3
   },
   "file_extension": ".py",
   "mimetype": "text/x-python",
   "name": "python",
   "nbconvert_exporter": "python",
   "pygments_lexer": "ipython3",
   "version": "3.6.1"
  }
 },
 "nbformat": 4,
 "nbformat_minor": 2
}
