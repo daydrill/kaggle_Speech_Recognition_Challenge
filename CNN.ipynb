{
 "cells": [
  {
   "cell_type": "code",
   "execution_count": null,
   "metadata": {
    "collapsed": true
   },
   "outputs": [],
   "source": []
  },
  {
   "cell_type": "code",
   "execution_count": 49,
   "metadata": {
    "collapsed": true
   },
   "outputs": [],
   "source": [
    "import os\n",
    "import numpy as np\n",
    "from scipy.fftpack import fft\n",
    "from scipy.io import wavfile\n",
    "from scipy import signal\n",
    "from glob import glob\n",
    "import re\n",
    "import pandas as pd\n",
    "import gc\n",
    "from scipy.io import wavfile\n",
    "\n",
    "from keras.models import load_model\n",
    "from keras.utils.np_utils import to_categorical\n",
    "from keras import optimizers, losses, activations, models\n",
    "from keras.utils.vis_utils import plot_model\n",
    "from sklearn.preprocessing import LabelEncoder\n",
    "from sklearn.metrics import classification_report\n",
    "from keras.layers import Convolution2D, Dense, Input, Flatten, Dropout, MaxPooling2D, BatchNormalization\n",
    "from sklearn.model_selection import train_test_split\n",
    "import keras"
   ]
  },
  {
   "cell_type": "code",
   "execution_count": 50,
   "metadata": {
    "collapsed": true
   },
   "outputs": [],
   "source": [
    "new_sample_rate = 8000\n",
    "\n",
    "LABELS = ['_silence', '_unknown', 'down', 'go', 'left', 'no', 'off', 'on', 'right', 'stop', 'up', 'yes']\n",
    "TRAIN_PATH = './input/train/audio/'\n",
    "TEST_PATH = './input/test/audio/'\n",
    "OUTPUT_PATH = './output/'\n",
    "MODEL_NAME = 'cnn_vad_300.h5'\n",
    "\n",
    "class_weight = {0: 12.0,\n",
    " 1: 1.0,\n",
    " 2: 9.0,\n",
    " 3: 9.0,\n",
    " 4: 9.0,\n",
    " 5: 9.0,\n",
    " 6: 9.0,\n",
    " 7: 9.0,\n",
    " 8: 9.0,\n",
    " 9: 9.0,\n",
    " 10: 9.0,\n",
    " 11: 9.0}"
   ]
  },
  {
   "cell_type": "code",
   "execution_count": 3,
   "metadata": {
    "collapsed": true
   },
   "outputs": [],
   "source": [
    "# {0: 1200,\n",
    "#  1: 41039,\n",
    "#  2: 2359,\n",
    "#  3: 2372,\n",
    "#  4: 2353,\n",
    "#  5: 2375,\n",
    "#  6: 2357,\n",
    "#  7: 2367,\n",
    "#  8: 2367,\n",
    "#  9: 2380,\n",
    "#  10: 2375,\n",
    "#  11: 2377}"
   ]
  },
  {
   "cell_type": "code",
   "execution_count": 51,
   "metadata": {
    "collapsed": true
   },
   "outputs": [],
   "source": [
    "def create_class_weight(labels_dict, mu=0.15):\n",
    "    total = np.sum(list(labels_dict.values()))\n",
    "    keys = labels_dict.keys()\n",
    "    class_weight = dict()\n",
    "\n",
    "    for key in keys:\n",
    "        score = np.log1p(mu * total / float(labels_dict[key]))\n",
    "        class_weight[key] = score  # if score > 1.0 else 1.0\n",
    "\n",
    "    min_key = min(class_weight.items(), key=lambda x: x[1])[0]\n",
    "    rate = 1 / class_weight[min_key]\n",
    "    class_weight = {k: class_weight[k] * rate for k in class_weight.keys()}\n",
    "\n",
    "    return class_weight"
   ]
  },
  {
   "cell_type": "code",
   "execution_count": 52,
   "metadata": {
    "collapsed": true
   },
   "outputs": [],
   "source": [
    "# class_weight = create_class_weight(labels_dict=t, mu=0.1)\n",
    "# class_weight"
   ]
  },
  {
   "cell_type": "code",
   "execution_count": 53,
   "metadata": {
    "collapsed": true
   },
   "outputs": [],
   "source": [
    "## custom_fft and log_specgram functions written by DavidS.\n",
    "def custom_fft(y, fs):\n",
    "    T = 1.0 / fs\n",
    "    N = y.shape[0]\n",
    "    yf = fft(y)\n",
    "    xf = np.linspace(0.0, 1.0/(2.0*T), N//2)\n",
    "    # FFT 는 대칭(simmetrical)이므로 반쪽만 얻음.\n",
    "    # FFT 는 복소수이므로 실수값만 취하기 위해 abs()\n",
    "    vals = 2.0/N * np.abs(yf[0:N//2])\n",
    "    return xf, vals\n",
    "\n",
    "def log_specgram(audio, sample_rate, window_size=20, step_size=10, eps=1e-10):\n",
    "    nperseg = int(round(window_size * sample_rate / 1e3))\n",
    "    noverlap = int(round(step_size * sample_rate / 1e3))\n",
    "    freqs, times, spec = signal.spectrogram(audio,\n",
    "                                    fs=sample_rate,\n",
    "                                    window='hann',\n",
    "                                    nperseg=nperseg,\n",
    "                                    noverlap=noverlap,\n",
    "                                    detrend=False)\n",
    "    return freqs, times, np.log(spec.T.astype(np.float32) + eps)"
   ]
  },
  {
   "cell_type": "code",
   "execution_count": 54,
   "metadata": {
    "collapsed": true
   },
   "outputs": [],
   "source": [
    "## utility function to grab all wav files inside train data folder.\n",
    "def list_wavs_fname(dirpath, ext='wav'):\n",
    "    print(dirpath)\n",
    "    fpaths = glob(os.path.join(dirpath, r'*/*' + ext))\n",
    "    pat = r'.+/(\\w+)/\\w+\\.' + ext + '$'\n",
    "    labels = []\n",
    "    for fpath in fpaths:\n",
    "        r = re.match(pat, fpath)\n",
    "        if r:\n",
    "            labels.append(r.group(1))\n",
    "    pat = r'.+/(\\w+\\.' + ext + ')$'\n",
    "    fnames = []\n",
    "    for fpath in fpaths:\n",
    "        r = re.match(pat, fpath)\n",
    "        if r:\n",
    "            fnames.append(r.group(1))\n",
    "    return labels, fnames"
   ]
  },
  {
   "cell_type": "code",
   "execution_count": 55,
   "metadata": {
    "collapsed": true
   },
   "outputs": [],
   "source": [
    "def pad_audio(samples, L=16000):\n",
    "    '''\n",
    "    pad audios that are less than 16000(1 second) with 0s to make them all have the same length.\n",
    "    '''\n",
    "    if len(samples) >= L: \n",
    "        return samples\n",
    "    else: \n",
    "        return np.pad(samples, pad_width=(L - len(samples), 0), mode='constant', constant_values=(0, 0)) \n",
    "        # sample 앞뒤로 constant_values[0]과 constant_values[1]을 각각 pad_width 갯수 만큼 패딩\n",
    "        # 총길이는 len(samples) + 2*pad_width\n",
    "\n",
    "def chop_audio(samples, L=16000, num=200):\n",
    "    '''\n",
    "    chop audios that are larger than 16000(eg. wav files in background noises folder) to 16000 in length.\n",
    "    create several chunks out of one large wav files given the parameter 'num'.\n",
    "    '''\n",
    "    for i in range(num):\n",
    "        beg = np.random.randint(0, len(samples) - L)\n",
    "        yield samples[beg: beg + L]\n",
    "\n",
    "def label_transform(labels):\n",
    "    '''\n",
    "    레이블 정규화 및 one-hot벡터화 (더미화)\n",
    "    '''\n",
    "    nlabels = []\n",
    "    for label in labels:\n",
    "        if label == '_background_noise_':\n",
    "            nlabels.append('_silence')\n",
    "        elif label not in LABELS:\n",
    "            nlabels.append('_unknown')\n",
    "        else:\n",
    "            nlabels.append(label)\n",
    "    encoder = LabelEncoder()\n",
    "    encoder.fit(nlabels)\n",
    "    nlabels = encoder.transform(nlabels)\n",
    "    return nlabels"
   ]
  },
  {
   "cell_type": "code",
   "execution_count": null,
   "metadata": {
    "collapsed": true
   },
   "outputs": [],
   "source": []
  },
  {
   "cell_type": "code",
   "execution_count": null,
   "metadata": {
    "collapsed": true
   },
   "outputs": [],
   "source": []
  },
  {
   "cell_type": "markdown",
   "metadata": {},
   "source": [
    "# 1. Load Data & Preprocessing"
   ]
  },
  {
   "cell_type": "markdown",
   "metadata": {},
   "source": [
    "### 1) Load labels, fnames"
   ]
  },
  {
   "cell_type": "code",
   "execution_count": 56,
   "metadata": {},
   "outputs": [
    {
     "name": "stdout",
     "output_type": "stream",
     "text": [
      "./input/train/audio/\n"
     ]
    }
   ],
   "source": [
    "labels, fnames = list_wavs_fname(TRAIN_PATH)"
   ]
  },
  {
   "cell_type": "markdown",
   "metadata": {},
   "source": [
    "### 2) Feature Extraction"
   ]
  },
  {
   "cell_type": "code",
   "execution_count": 57,
   "metadata": {},
   "outputs": [
    {
     "name": "stdout",
     "output_type": "stream",
     "text": [
      "CPU times: user 1min 1s, sys: 1.13 s, total: 1min 2s\n",
      "Wall time: 1min 1s\n"
     ]
    },
    {
     "name": "stderr",
     "output_type": "stream",
     "text": [
      "/home/chi/anaconda3/lib/python3.5/site-packages/scipy/io/wavfile.py:273: WavFileWarning: Chunk (non-data) not understood, skipping it.\n",
      "  WavFileWarning)\n"
     ]
    }
   ],
   "source": [
    "%%time\n",
    "y = []\n",
    "X = []\n",
    "\n",
    "for label, fname in zip(labels, fnames):\n",
    "    sample_rate, samples = wavfile.read(os.path.join(TRAIN_PATH, label, fname))\n",
    "    samples = pad_audio(samples)\n",
    "    if len(samples) > 16000:\n",
    "        n_samples = chop_audio(samples)\n",
    "    else: \n",
    "        n_samples = [samples]\n",
    "    for samples in n_samples:\n",
    "        resampled = signal.resample(samples, int(new_sample_rate / sample_rate * samples.shape[0]))\n",
    "        _, _, specgram = log_specgram(resampled, sample_rate=new_sample_rate)\n",
    "        y.append(label)\n",
    "        X.append(specgram)"
   ]
  },
  {
   "cell_type": "code",
   "execution_count": 58,
   "metadata": {
    "collapsed": true
   },
   "outputs": [],
   "source": [
    "X = np.array(X)\n",
    "X = X.reshape(tuple(list(X.shape) + [1])) # (64841, 99, 81, 1) 로 reshape\n",
    "y = to_categorical(label_transform(y))"
   ]
  },
  {
   "cell_type": "markdown",
   "metadata": {},
   "source": [
    "### 3) Train Validation Set Split"
   ]
  },
  {
   "cell_type": "code",
   "execution_count": 59,
   "metadata": {},
   "outputs": [
    {
     "data": {
      "text/plain": [
       "14"
      ]
     },
     "execution_count": 59,
     "metadata": {},
     "output_type": "execute_result"
    }
   ],
   "source": [
    "X_train, X_valid, y_train, y_valid = train_test_split(X, y, test_size=0.05, random_state=1130) # 9:1로 train, valid 셋 나눔.\n",
    "del X, y\n",
    "gc.collect()"
   ]
  },
  {
   "cell_type": "code",
   "execution_count": 60,
   "metadata": {
    "collapsed": true
   },
   "outputs": [],
   "source": [
    "# model = load_model(os.path.join(OUTPUT_PATH, MODEL_NAME))"
   ]
  },
  {
   "cell_type": "markdown",
   "metadata": {},
   "source": [
    "# 2. Modeling"
   ]
  },
  {
   "cell_type": "code",
   "execution_count": 64,
   "metadata": {
    "collapsed": true
   },
   "outputs": [],
   "source": [
    "input_shape = (99, 81, 1) # in order to fit into Conv2D layer, we need to reshape it.\n",
    "nclass = 12"
   ]
  },
  {
   "cell_type": "code",
   "execution_count": 63,
   "metadata": {},
   "outputs": [
    {
     "ename": "ValueError",
     "evalue": "The shape of the input to \"Flatten\" is not fully defined (got (None, None, 32). Make sure to pass a complete \"input_shape\" or \"batch_input_shape\" argument to the first layer in your model.",
     "output_type": "error",
     "traceback": [
      "\u001b[1;31m---------------------------------------------------------------------------\u001b[0m",
      "\u001b[1;31mValueError\u001b[0m                                Traceback (most recent call last)",
      "\u001b[1;32m<ipython-input-63-38e74fa94db1>\u001b[0m in \u001b[0;36m<module>\u001b[1;34m()\u001b[0m\n\u001b[0;32m     17\u001b[0m \u001b[0mimg_1\u001b[0m \u001b[1;33m=\u001b[0m \u001b[0mMaxPooling2D\u001b[0m\u001b[1;33m(\u001b[0m\u001b[0mpool_size\u001b[0m\u001b[1;33m=\u001b[0m\u001b[1;33m(\u001b[0m\u001b[1;36m2\u001b[0m\u001b[1;33m,\u001b[0m \u001b[1;36m2\u001b[0m\u001b[1;33m)\u001b[0m\u001b[1;33m)\u001b[0m\u001b[1;33m(\u001b[0m\u001b[0mimg_1\u001b[0m\u001b[1;33m)\u001b[0m\u001b[1;33m\u001b[0m\u001b[0m\n\u001b[0;32m     18\u001b[0m \u001b[0mimg_1\u001b[0m \u001b[1;33m=\u001b[0m \u001b[0mDropout\u001b[0m\u001b[1;33m(\u001b[0m\u001b[0mrate\u001b[0m\u001b[1;33m=\u001b[0m\u001b[1;36m0.2\u001b[0m\u001b[1;33m)\u001b[0m\u001b[1;33m(\u001b[0m\u001b[0mimg_1\u001b[0m\u001b[1;33m)\u001b[0m\u001b[1;33m\u001b[0m\u001b[0m\n\u001b[1;32m---> 19\u001b[1;33m \u001b[0mimg_1\u001b[0m \u001b[1;33m=\u001b[0m \u001b[0mFlatten\u001b[0m\u001b[1;33m(\u001b[0m\u001b[1;33m)\u001b[0m\u001b[1;33m(\u001b[0m\u001b[0mimg_1\u001b[0m\u001b[1;33m)\u001b[0m\u001b[1;33m\u001b[0m\u001b[0m\n\u001b[0m\u001b[0;32m     20\u001b[0m \u001b[1;33m\u001b[0m\u001b[0m\n\u001b[0;32m     21\u001b[0m \u001b[0mdense_1\u001b[0m \u001b[1;33m=\u001b[0m \u001b[0mBatchNormalization\u001b[0m\u001b[1;33m(\u001b[0m\u001b[1;33m)\u001b[0m\u001b[1;33m(\u001b[0m\u001b[0mimg_1\u001b[0m\u001b[1;33m)\u001b[0m\u001b[1;33m\u001b[0m\u001b[0m\n",
      "\u001b[1;32m/home/chi/anaconda3/lib/python3.5/site-packages/keras/engine/topology.py\u001b[0m in \u001b[0;36m__call__\u001b[1;34m(self, inputs, **kwargs)\u001b[0m\n\u001b[0;32m    613\u001b[0m             \u001b[1;31m# Infering the output shape is only relevant for Theano.\u001b[0m\u001b[1;33m\u001b[0m\u001b[1;33m\u001b[0m\u001b[0m\n\u001b[0;32m    614\u001b[0m             \u001b[1;32mif\u001b[0m \u001b[0mall\u001b[0m\u001b[1;33m(\u001b[0m\u001b[1;33m[\u001b[0m\u001b[0ms\u001b[0m \u001b[1;32mis\u001b[0m \u001b[1;32mnot\u001b[0m \u001b[1;32mNone\u001b[0m \u001b[1;32mfor\u001b[0m \u001b[0ms\u001b[0m \u001b[1;32min\u001b[0m \u001b[0m_to_list\u001b[0m\u001b[1;33m(\u001b[0m\u001b[0minput_shape\u001b[0m\u001b[1;33m)\u001b[0m\u001b[1;33m]\u001b[0m\u001b[1;33m)\u001b[0m\u001b[1;33m:\u001b[0m\u001b[1;33m\u001b[0m\u001b[0m\n\u001b[1;32m--> 615\u001b[1;33m                 \u001b[0moutput_shape\u001b[0m \u001b[1;33m=\u001b[0m \u001b[0mself\u001b[0m\u001b[1;33m.\u001b[0m\u001b[0mcompute_output_shape\u001b[0m\u001b[1;33m(\u001b[0m\u001b[0minput_shape\u001b[0m\u001b[1;33m)\u001b[0m\u001b[1;33m\u001b[0m\u001b[0m\n\u001b[0m\u001b[0;32m    616\u001b[0m             \u001b[1;32melse\u001b[0m\u001b[1;33m:\u001b[0m\u001b[1;33m\u001b[0m\u001b[0m\n\u001b[0;32m    617\u001b[0m                 \u001b[1;32mif\u001b[0m \u001b[0misinstance\u001b[0m\u001b[1;33m(\u001b[0m\u001b[0minput_shape\u001b[0m\u001b[1;33m,\u001b[0m \u001b[0mlist\u001b[0m\u001b[1;33m)\u001b[0m\u001b[1;33m:\u001b[0m\u001b[1;33m\u001b[0m\u001b[0m\n",
      "\u001b[1;32m/home/chi/anaconda3/lib/python3.5/site-packages/keras/layers/core.py\u001b[0m in \u001b[0;36mcompute_output_shape\u001b[1;34m(self, input_shape)\u001b[0m\n\u001b[0;32m    479\u001b[0m             raise ValueError('The shape of the input to \"Flatten\" '\n\u001b[0;32m    480\u001b[0m                              \u001b[1;34m'is not fully defined '\u001b[0m\u001b[1;33m\u001b[0m\u001b[0m\n\u001b[1;32m--> 481\u001b[1;33m                              \u001b[1;34m'(got '\u001b[0m \u001b[1;33m+\u001b[0m \u001b[0mstr\u001b[0m\u001b[1;33m(\u001b[0m\u001b[0minput_shape\u001b[0m\u001b[1;33m[\u001b[0m\u001b[1;36m1\u001b[0m\u001b[1;33m:\u001b[0m\u001b[1;33m]\u001b[0m\u001b[1;33m)\u001b[0m \u001b[1;33m+\u001b[0m \u001b[1;34m'. '\u001b[0m\u001b[1;33m\u001b[0m\u001b[0m\n\u001b[0m\u001b[0;32m    482\u001b[0m                              \u001b[1;34m'Make sure to pass a complete \"input_shape\" '\u001b[0m\u001b[1;33m\u001b[0m\u001b[0m\n\u001b[0;32m    483\u001b[0m                              \u001b[1;34m'or \"batch_input_shape\" argument to the first '\u001b[0m\u001b[1;33m\u001b[0m\u001b[0m\n",
      "\u001b[1;31mValueError\u001b[0m: The shape of the input to \"Flatten\" is not fully defined (got (None, None, 32). Make sure to pass a complete \"input_shape\" or \"batch_input_shape\" argument to the first layer in your model."
     ]
    }
   ],
   "source": [
    "## Modeling\n",
    "inp = Input(shape=input_shape)\n",
    "norm_inp = BatchNormalization()(inp)\n",
    "img_1 = Convolution2D(8, kernel_size=2, activation=activations.relu, padding='same')(norm_inp)\n",
    "img_1 = Convolution2D(8, kernel_size=2, activation=activations.relu, padding='same')(img_1)\n",
    "img_1 = MaxPooling2D(pool_size=(2, 2))(img_1)\n",
    "img_1 = Dropout(rate=0.2)(img_1)\n",
    "img_1 = Convolution2D(16, kernel_size=2, activation=activations.relu, padding='same')(img_1)\n",
    "img_1 = Convolution2D(16, kernel_size=2, activation=activations.relu, padding='same')(img_1)\n",
    "img_1 = MaxPooling2D(pool_size=(2, 2))(img_1)\n",
    "img_1 = Dropout(rate=0.2)(img_1)\n",
    "img_1 = Convolution2D(16, kernel_size=3, activation=activations.relu, padding='same')(img_1)\n",
    "img_1 = Convolution2D(16, kernel_size=3, activation=activations.relu, padding='same')(img_1)\n",
    "img_1 = MaxPooling2D(pool_size=(2, 2))(img_1)\n",
    "img_1 = Dropout(rate=0.2)(img_1)\n",
    "img_1 = Convolution2D(32, kernel_size=3, activation=activations.relu, padding='same')(img_1)\n",
    "img_1 = MaxPooling2D(pool_size=(2, 2))(img_1)\n",
    "img_1 = Dropout(rate=0.2)(img_1)\n",
    "img_1 = Flatten()(img_1)\n",
    "\n",
    "dense_1 = BatchNormalization()(img_1)\n",
    "dense_1 = Dense(512, activation=activations.relu)(dense_1)\n",
    "dense_1 = Dropout(rate=0.2)(dense_1)\n",
    "dense_1 = Dense(512, activation=activations.relu)(dense_1)\n",
    "dense_1 = Dropout(rate=0.2)(dense_1)\n",
    "dense_1 = Dense(512, activation=activations.relu)(dense_1)\n",
    "dense_1 = Dropout(rate=0.2)(dense_1)\n",
    "dense_1 = Dense(128, activation=activations.relu)(dense_1)\n",
    "dense_1 = Dropout(rate=0.2)(dense_1)\n",
    "dense_1 = Dense(64, activation=activations.relu)(dense_1)\n",
    "dense_1 = Dense(nclass, activation=activations.softmax)(dense_1)\n",
    "\n",
    "model = models.Model(inputs=inp, outputs=dense_1)\n",
    "opt = optimizers.Adam(lr=0.001)\n",
    "\n",
    "model.compile(optimizer=opt, loss=losses.categorical_crossentropy, metrics=['accuracy'])\n",
    "model.summary()"
   ]
  },
  {
   "cell_type": "code",
   "execution_count": 13,
   "metadata": {
    "collapsed": true
   },
   "outputs": [],
   "source": [
    "# 네트워크 시각화\n",
    "# plot_model(model, to_file='output/model_plot.png', show_shapes=True, show_layer_names=True)"
   ]
  },
  {
   "cell_type": "code",
   "execution_count": 62,
   "metadata": {
    "scrolled": true
   },
   "outputs": [
    {
     "name": "stdout",
     "output_type": "stream",
     "text": [
      "Train on 62624 samples, validate on 3297 samples\n",
      "Epoch 1/30\n",
      "62624/62624 [==============================] - 17s - loss: 0.2208 - acc: 0.9724 - val_loss: 0.1643 - val_acc: 0.9512\n",
      "Epoch 2/30\n",
      "16384/62624 [======>.......................] - ETA: 13s - loss: 0.2105 - acc: 0.9743"
     ]
    },
    {
     "ename": "KeyboardInterrupt",
     "evalue": "",
     "output_type": "error",
     "traceback": [
      "\u001b[1;31m---------------------------------------------------------------------------\u001b[0m",
      "\u001b[1;31mKeyboardInterrupt\u001b[0m                         Traceback (most recent call last)",
      "\u001b[1;32m<ipython-input-62-694bf33745c1>\u001b[0m in \u001b[0;36m<module>\u001b[1;34m()\u001b[0m\n\u001b[1;32m----> 1\u001b[1;33m \u001b[0mget_ipython\u001b[0m\u001b[1;33m(\u001b[0m\u001b[1;33m)\u001b[0m\u001b[1;33m.\u001b[0m\u001b[0mrun_cell_magic\u001b[0m\u001b[1;33m(\u001b[0m\u001b[1;34m'time'\u001b[0m\u001b[1;33m,\u001b[0m \u001b[1;34m''\u001b[0m\u001b[1;33m,\u001b[0m \u001b[1;34m'model.fit(X_train, y_train, batch_size=2048, validation_data=(X_valid, y_valid), \\\\\\n          class_weight=class_weight, epochs=30, shuffle=True, verbose=1)\\n# model.save(os.path.join(OUTPUT_PATH, MODEL_NAME))'\u001b[0m\u001b[1;33m)\u001b[0m\u001b[1;33m\u001b[0m\u001b[0m\n\u001b[0m",
      "\u001b[1;32m/home/chi/anaconda3/lib/python3.5/site-packages/IPython/core/interactiveshell.py\u001b[0m in \u001b[0;36mrun_cell_magic\u001b[1;34m(self, magic_name, line, cell)\u001b[0m\n\u001b[0;32m   2291\u001b[0m             \u001b[0mmagic_arg_s\u001b[0m \u001b[1;33m=\u001b[0m \u001b[0mself\u001b[0m\u001b[1;33m.\u001b[0m\u001b[0mvar_expand\u001b[0m\u001b[1;33m(\u001b[0m\u001b[0mline\u001b[0m\u001b[1;33m,\u001b[0m \u001b[0mstack_depth\u001b[0m\u001b[1;33m)\u001b[0m\u001b[1;33m\u001b[0m\u001b[0m\n\u001b[0;32m   2292\u001b[0m             \u001b[1;32mwith\u001b[0m \u001b[0mself\u001b[0m\u001b[1;33m.\u001b[0m\u001b[0mbuiltin_trap\u001b[0m\u001b[1;33m:\u001b[0m\u001b[1;33m\u001b[0m\u001b[0m\n\u001b[1;32m-> 2293\u001b[1;33m                 \u001b[0mresult\u001b[0m \u001b[1;33m=\u001b[0m \u001b[0mfn\u001b[0m\u001b[1;33m(\u001b[0m\u001b[0mmagic_arg_s\u001b[0m\u001b[1;33m,\u001b[0m \u001b[0mcell\u001b[0m\u001b[1;33m)\u001b[0m\u001b[1;33m\u001b[0m\u001b[0m\n\u001b[0m\u001b[0;32m   2294\u001b[0m             \u001b[1;32mreturn\u001b[0m \u001b[0mresult\u001b[0m\u001b[1;33m\u001b[0m\u001b[0m\n\u001b[0;32m   2295\u001b[0m \u001b[1;33m\u001b[0m\u001b[0m\n",
      "\u001b[1;32m/home/chi/anaconda3/lib/python3.5/site-packages/IPython/core/magics/execution.py\u001b[0m in \u001b[0;36mtime\u001b[1;34m(self, line, cell, local_ns)\u001b[0m\n",
      "\u001b[1;32m/home/chi/anaconda3/lib/python3.5/site-packages/IPython/core/magic.py\u001b[0m in \u001b[0;36m<lambda>\u001b[1;34m(f, *a, **k)\u001b[0m\n\u001b[0;32m    191\u001b[0m     \u001b[1;31m# but it's overkill for just that one bit of state.\u001b[0m\u001b[1;33m\u001b[0m\u001b[1;33m\u001b[0m\u001b[0m\n\u001b[0;32m    192\u001b[0m     \u001b[1;32mdef\u001b[0m \u001b[0mmagic_deco\u001b[0m\u001b[1;33m(\u001b[0m\u001b[0marg\u001b[0m\u001b[1;33m)\u001b[0m\u001b[1;33m:\u001b[0m\u001b[1;33m\u001b[0m\u001b[0m\n\u001b[1;32m--> 193\u001b[1;33m         \u001b[0mcall\u001b[0m \u001b[1;33m=\u001b[0m \u001b[1;32mlambda\u001b[0m \u001b[0mf\u001b[0m\u001b[1;33m,\u001b[0m \u001b[1;33m*\u001b[0m\u001b[0ma\u001b[0m\u001b[1;33m,\u001b[0m \u001b[1;33m**\u001b[0m\u001b[0mk\u001b[0m\u001b[1;33m:\u001b[0m \u001b[0mf\u001b[0m\u001b[1;33m(\u001b[0m\u001b[1;33m*\u001b[0m\u001b[0ma\u001b[0m\u001b[1;33m,\u001b[0m \u001b[1;33m**\u001b[0m\u001b[0mk\u001b[0m\u001b[1;33m)\u001b[0m\u001b[1;33m\u001b[0m\u001b[0m\n\u001b[0m\u001b[0;32m    194\u001b[0m \u001b[1;33m\u001b[0m\u001b[0m\n\u001b[0;32m    195\u001b[0m         \u001b[1;32mif\u001b[0m \u001b[0mcallable\u001b[0m\u001b[1;33m(\u001b[0m\u001b[0marg\u001b[0m\u001b[1;33m)\u001b[0m\u001b[1;33m:\u001b[0m\u001b[1;33m\u001b[0m\u001b[0m\n",
      "\u001b[1;32m/home/chi/anaconda3/lib/python3.5/site-packages/IPython/core/magics/execution.py\u001b[0m in \u001b[0;36mtime\u001b[1;34m(self, line, cell, local_ns)\u001b[0m\n\u001b[0;32m   1161\u001b[0m         \u001b[1;32mif\u001b[0m \u001b[0mmode\u001b[0m\u001b[1;33m==\u001b[0m\u001b[1;34m'eval'\u001b[0m\u001b[1;33m:\u001b[0m\u001b[1;33m\u001b[0m\u001b[0m\n\u001b[0;32m   1162\u001b[0m             \u001b[0mst\u001b[0m \u001b[1;33m=\u001b[0m \u001b[0mclock2\u001b[0m\u001b[1;33m(\u001b[0m\u001b[1;33m)\u001b[0m\u001b[1;33m\u001b[0m\u001b[0m\n\u001b[1;32m-> 1163\u001b[1;33m             \u001b[0mout\u001b[0m \u001b[1;33m=\u001b[0m \u001b[0meval\u001b[0m\u001b[1;33m(\u001b[0m\u001b[0mcode\u001b[0m\u001b[1;33m,\u001b[0m \u001b[0mglob\u001b[0m\u001b[1;33m,\u001b[0m \u001b[0mlocal_ns\u001b[0m\u001b[1;33m)\u001b[0m\u001b[1;33m\u001b[0m\u001b[0m\n\u001b[0m\u001b[0;32m   1164\u001b[0m             \u001b[0mend\u001b[0m \u001b[1;33m=\u001b[0m \u001b[0mclock2\u001b[0m\u001b[1;33m(\u001b[0m\u001b[1;33m)\u001b[0m\u001b[1;33m\u001b[0m\u001b[0m\n\u001b[0;32m   1165\u001b[0m         \u001b[1;32melse\u001b[0m\u001b[1;33m:\u001b[0m\u001b[1;33m\u001b[0m\u001b[0m\n",
      "\u001b[1;32m<timed eval>\u001b[0m in \u001b[0;36m<module>\u001b[1;34m()\u001b[0m\n",
      "\u001b[1;32m/home/chi/anaconda3/lib/python3.5/site-packages/keras/engine/training.py\u001b[0m in \u001b[0;36mfit\u001b[1;34m(self, x, y, batch_size, epochs, verbose, callbacks, validation_split, validation_data, shuffle, class_weight, sample_weight, initial_epoch, **kwargs)\u001b[0m\n\u001b[0;32m   1505\u001b[0m                               \u001b[0mval_f\u001b[0m\u001b[1;33m=\u001b[0m\u001b[0mval_f\u001b[0m\u001b[1;33m,\u001b[0m \u001b[0mval_ins\u001b[0m\u001b[1;33m=\u001b[0m\u001b[0mval_ins\u001b[0m\u001b[1;33m,\u001b[0m \u001b[0mshuffle\u001b[0m\u001b[1;33m=\u001b[0m\u001b[0mshuffle\u001b[0m\u001b[1;33m,\u001b[0m\u001b[1;33m\u001b[0m\u001b[0m\n\u001b[0;32m   1506\u001b[0m                               \u001b[0mcallback_metrics\u001b[0m\u001b[1;33m=\u001b[0m\u001b[0mcallback_metrics\u001b[0m\u001b[1;33m,\u001b[0m\u001b[1;33m\u001b[0m\u001b[0m\n\u001b[1;32m-> 1507\u001b[1;33m                               initial_epoch=initial_epoch)\n\u001b[0m\u001b[0;32m   1508\u001b[0m \u001b[1;33m\u001b[0m\u001b[0m\n\u001b[0;32m   1509\u001b[0m     \u001b[1;32mdef\u001b[0m \u001b[0mevaluate\u001b[0m\u001b[1;33m(\u001b[0m\u001b[0mself\u001b[0m\u001b[1;33m,\u001b[0m \u001b[0mx\u001b[0m\u001b[1;33m,\u001b[0m \u001b[0my\u001b[0m\u001b[1;33m,\u001b[0m \u001b[0mbatch_size\u001b[0m\u001b[1;33m=\u001b[0m\u001b[1;36m32\u001b[0m\u001b[1;33m,\u001b[0m \u001b[0mverbose\u001b[0m\u001b[1;33m=\u001b[0m\u001b[1;36m1\u001b[0m\u001b[1;33m,\u001b[0m \u001b[0msample_weight\u001b[0m\u001b[1;33m=\u001b[0m\u001b[1;32mNone\u001b[0m\u001b[1;33m)\u001b[0m\u001b[1;33m:\u001b[0m\u001b[1;33m\u001b[0m\u001b[0m\n",
      "\u001b[1;32m/home/chi/anaconda3/lib/python3.5/site-packages/keras/engine/training.py\u001b[0m in \u001b[0;36m_fit_loop\u001b[1;34m(self, f, ins, out_labels, batch_size, epochs, verbose, callbacks, val_f, val_ins, shuffle, callback_metrics, initial_epoch)\u001b[0m\n\u001b[0;32m   1154\u001b[0m                 \u001b[0mbatch_logs\u001b[0m\u001b[1;33m[\u001b[0m\u001b[1;34m'size'\u001b[0m\u001b[1;33m]\u001b[0m \u001b[1;33m=\u001b[0m \u001b[0mlen\u001b[0m\u001b[1;33m(\u001b[0m\u001b[0mbatch_ids\u001b[0m\u001b[1;33m)\u001b[0m\u001b[1;33m\u001b[0m\u001b[0m\n\u001b[0;32m   1155\u001b[0m                 \u001b[0mcallbacks\u001b[0m\u001b[1;33m.\u001b[0m\u001b[0mon_batch_begin\u001b[0m\u001b[1;33m(\u001b[0m\u001b[0mbatch_index\u001b[0m\u001b[1;33m,\u001b[0m \u001b[0mbatch_logs\u001b[0m\u001b[1;33m)\u001b[0m\u001b[1;33m\u001b[0m\u001b[0m\n\u001b[1;32m-> 1156\u001b[1;33m                 \u001b[0mouts\u001b[0m \u001b[1;33m=\u001b[0m \u001b[0mf\u001b[0m\u001b[1;33m(\u001b[0m\u001b[0mins_batch\u001b[0m\u001b[1;33m)\u001b[0m\u001b[1;33m\u001b[0m\u001b[0m\n\u001b[0m\u001b[0;32m   1157\u001b[0m                 \u001b[1;32mif\u001b[0m \u001b[1;32mnot\u001b[0m \u001b[0misinstance\u001b[0m\u001b[1;33m(\u001b[0m\u001b[0mouts\u001b[0m\u001b[1;33m,\u001b[0m \u001b[0mlist\u001b[0m\u001b[1;33m)\u001b[0m\u001b[1;33m:\u001b[0m\u001b[1;33m\u001b[0m\u001b[0m\n\u001b[0;32m   1158\u001b[0m                     \u001b[0mouts\u001b[0m \u001b[1;33m=\u001b[0m \u001b[1;33m[\u001b[0m\u001b[0mouts\u001b[0m\u001b[1;33m]\u001b[0m\u001b[1;33m\u001b[0m\u001b[0m\n",
      "\u001b[1;32m/home/chi/anaconda3/lib/python3.5/site-packages/keras/backend/tensorflow_backend.py\u001b[0m in \u001b[0;36m__call__\u001b[1;34m(self, inputs)\u001b[0m\n\u001b[0;32m   2267\u001b[0m         updated = session.run(self.outputs + [self.updates_op],\n\u001b[0;32m   2268\u001b[0m                               \u001b[0mfeed_dict\u001b[0m\u001b[1;33m=\u001b[0m\u001b[0mfeed_dict\u001b[0m\u001b[1;33m,\u001b[0m\u001b[1;33m\u001b[0m\u001b[0m\n\u001b[1;32m-> 2269\u001b[1;33m                               **self.session_kwargs)\n\u001b[0m\u001b[0;32m   2270\u001b[0m         \u001b[1;32mreturn\u001b[0m \u001b[0mupdated\u001b[0m\u001b[1;33m[\u001b[0m\u001b[1;33m:\u001b[0m\u001b[0mlen\u001b[0m\u001b[1;33m(\u001b[0m\u001b[0mself\u001b[0m\u001b[1;33m.\u001b[0m\u001b[0moutputs\u001b[0m\u001b[1;33m)\u001b[0m\u001b[1;33m]\u001b[0m\u001b[1;33m\u001b[0m\u001b[0m\n\u001b[0;32m   2271\u001b[0m \u001b[1;33m\u001b[0m\u001b[0m\n",
      "\u001b[1;32m/home/chi/anaconda3/lib/python3.5/site-packages/tensorflow/python/client/session.py\u001b[0m in \u001b[0;36mrun\u001b[1;34m(self, fetches, feed_dict, options, run_metadata)\u001b[0m\n\u001b[0;32m    787\u001b[0m     \u001b[1;32mtry\u001b[0m\u001b[1;33m:\u001b[0m\u001b[1;33m\u001b[0m\u001b[0m\n\u001b[0;32m    788\u001b[0m       result = self._run(None, fetches, feed_dict, options_ptr,\n\u001b[1;32m--> 789\u001b[1;33m                          run_metadata_ptr)\n\u001b[0m\u001b[0;32m    790\u001b[0m       \u001b[1;32mif\u001b[0m \u001b[0mrun_metadata\u001b[0m\u001b[1;33m:\u001b[0m\u001b[1;33m\u001b[0m\u001b[0m\n\u001b[0;32m    791\u001b[0m         \u001b[0mproto_data\u001b[0m \u001b[1;33m=\u001b[0m \u001b[0mtf_session\u001b[0m\u001b[1;33m.\u001b[0m\u001b[0mTF_GetBuffer\u001b[0m\u001b[1;33m(\u001b[0m\u001b[0mrun_metadata_ptr\u001b[0m\u001b[1;33m)\u001b[0m\u001b[1;33m\u001b[0m\u001b[0m\n",
      "\u001b[1;32m/home/chi/anaconda3/lib/python3.5/site-packages/tensorflow/python/client/session.py\u001b[0m in \u001b[0;36m_run\u001b[1;34m(self, handle, fetches, feed_dict, options, run_metadata)\u001b[0m\n\u001b[0;32m    995\u001b[0m     \u001b[1;32mif\u001b[0m \u001b[0mfinal_fetches\u001b[0m \u001b[1;32mor\u001b[0m \u001b[0mfinal_targets\u001b[0m\u001b[1;33m:\u001b[0m\u001b[1;33m\u001b[0m\u001b[0m\n\u001b[0;32m    996\u001b[0m       results = self._do_run(handle, final_targets, final_fetches,\n\u001b[1;32m--> 997\u001b[1;33m                              feed_dict_string, options, run_metadata)\n\u001b[0m\u001b[0;32m    998\u001b[0m     \u001b[1;32melse\u001b[0m\u001b[1;33m:\u001b[0m\u001b[1;33m\u001b[0m\u001b[0m\n\u001b[0;32m    999\u001b[0m       \u001b[0mresults\u001b[0m \u001b[1;33m=\u001b[0m \u001b[1;33m[\u001b[0m\u001b[1;33m]\u001b[0m\u001b[1;33m\u001b[0m\u001b[0m\n",
      "\u001b[1;32m/home/chi/anaconda3/lib/python3.5/site-packages/tensorflow/python/client/session.py\u001b[0m in \u001b[0;36m_do_run\u001b[1;34m(self, handle, target_list, fetch_list, feed_dict, options, run_metadata)\u001b[0m\n\u001b[0;32m   1130\u001b[0m     \u001b[1;32mif\u001b[0m \u001b[0mhandle\u001b[0m \u001b[1;32mis\u001b[0m \u001b[1;32mNone\u001b[0m\u001b[1;33m:\u001b[0m\u001b[1;33m\u001b[0m\u001b[0m\n\u001b[0;32m   1131\u001b[0m       return self._do_call(_run_fn, self._session, feed_dict, fetch_list,\n\u001b[1;32m-> 1132\u001b[1;33m                            target_list, options, run_metadata)\n\u001b[0m\u001b[0;32m   1133\u001b[0m     \u001b[1;32melse\u001b[0m\u001b[1;33m:\u001b[0m\u001b[1;33m\u001b[0m\u001b[0m\n\u001b[0;32m   1134\u001b[0m       return self._do_call(_prun_fn, self._session, handle, feed_dict,\n",
      "\u001b[1;32m/home/chi/anaconda3/lib/python3.5/site-packages/tensorflow/python/client/session.py\u001b[0m in \u001b[0;36m_do_call\u001b[1;34m(self, fn, *args)\u001b[0m\n\u001b[0;32m   1137\u001b[0m   \u001b[1;32mdef\u001b[0m \u001b[0m_do_call\u001b[0m\u001b[1;33m(\u001b[0m\u001b[0mself\u001b[0m\u001b[1;33m,\u001b[0m \u001b[0mfn\u001b[0m\u001b[1;33m,\u001b[0m \u001b[1;33m*\u001b[0m\u001b[0margs\u001b[0m\u001b[1;33m)\u001b[0m\u001b[1;33m:\u001b[0m\u001b[1;33m\u001b[0m\u001b[0m\n\u001b[0;32m   1138\u001b[0m     \u001b[1;32mtry\u001b[0m\u001b[1;33m:\u001b[0m\u001b[1;33m\u001b[0m\u001b[0m\n\u001b[1;32m-> 1139\u001b[1;33m       \u001b[1;32mreturn\u001b[0m \u001b[0mfn\u001b[0m\u001b[1;33m(\u001b[0m\u001b[1;33m*\u001b[0m\u001b[0margs\u001b[0m\u001b[1;33m)\u001b[0m\u001b[1;33m\u001b[0m\u001b[0m\n\u001b[0m\u001b[0;32m   1140\u001b[0m     \u001b[1;32mexcept\u001b[0m \u001b[0merrors\u001b[0m\u001b[1;33m.\u001b[0m\u001b[0mOpError\u001b[0m \u001b[1;32mas\u001b[0m \u001b[0me\u001b[0m\u001b[1;33m:\u001b[0m\u001b[1;33m\u001b[0m\u001b[0m\n\u001b[0;32m   1141\u001b[0m       \u001b[0mmessage\u001b[0m \u001b[1;33m=\u001b[0m \u001b[0mcompat\u001b[0m\u001b[1;33m.\u001b[0m\u001b[0mas_text\u001b[0m\u001b[1;33m(\u001b[0m\u001b[0me\u001b[0m\u001b[1;33m.\u001b[0m\u001b[0mmessage\u001b[0m\u001b[1;33m)\u001b[0m\u001b[1;33m\u001b[0m\u001b[0m\n",
      "\u001b[1;32m/home/chi/anaconda3/lib/python3.5/site-packages/tensorflow/python/client/session.py\u001b[0m in \u001b[0;36m_run_fn\u001b[1;34m(session, feed_dict, fetch_list, target_list, options, run_metadata)\u001b[0m\n\u001b[0;32m   1119\u001b[0m         return tf_session.TF_Run(session, options,\n\u001b[0;32m   1120\u001b[0m                                  \u001b[0mfeed_dict\u001b[0m\u001b[1;33m,\u001b[0m \u001b[0mfetch_list\u001b[0m\u001b[1;33m,\u001b[0m \u001b[0mtarget_list\u001b[0m\u001b[1;33m,\u001b[0m\u001b[1;33m\u001b[0m\u001b[0m\n\u001b[1;32m-> 1121\u001b[1;33m                                  status, run_metadata)\n\u001b[0m\u001b[0;32m   1122\u001b[0m \u001b[1;33m\u001b[0m\u001b[0m\n\u001b[0;32m   1123\u001b[0m     \u001b[1;32mdef\u001b[0m \u001b[0m_prun_fn\u001b[0m\u001b[1;33m(\u001b[0m\u001b[0msession\u001b[0m\u001b[1;33m,\u001b[0m \u001b[0mhandle\u001b[0m\u001b[1;33m,\u001b[0m \u001b[0mfeed_dict\u001b[0m\u001b[1;33m,\u001b[0m \u001b[0mfetch_list\u001b[0m\u001b[1;33m)\u001b[0m\u001b[1;33m:\u001b[0m\u001b[1;33m\u001b[0m\u001b[0m\n",
      "\u001b[1;31mKeyboardInterrupt\u001b[0m: "
     ]
    }
   ],
   "source": [
    "%%time\n",
    "model.fit(X_train, y_train, batch_size=2048, validation_data=(X_valid, y_valid), \\\n",
    "          class_weight=class_weight, epochs=30, shuffle=True, verbose=1)\n",
    "# model.save(os.path.join(OUTPUT_PATH, MODEL_NAME))"
   ]
  },
  {
   "cell_type": "code",
   "execution_count": 42,
   "metadata": {},
   "outputs": [
    {
     "name": "stdout",
     "output_type": "stream",
     "text": [
      "Train on 62624 samples, validate on 3297 samples\n",
      "Epoch 1/100\n",
      "62624/62624 [==============================] - 17s - loss: 0.3213 - acc: 0.9667 - val_loss: 0.1989 - val_acc: 0.9454\n",
      "Epoch 2/100\n",
      "62624/62624 [==============================] - 17s - loss: 0.3252 - acc: 0.9655 - val_loss: 0.1805 - val_acc: 0.9433\n",
      "Epoch 3/100\n",
      "62624/62624 [==============================] - 18s - loss: 0.3507 - acc: 0.9620 - val_loss: 0.1869 - val_acc: 0.9430\n",
      "Epoch 4/100\n",
      "62624/62624 [==============================] - 18s - loss: 0.3348 - acc: 0.9636 - val_loss: 0.1719 - val_acc: 0.9457\n",
      "Epoch 5/100\n",
      "62624/62624 [==============================] - 18s - loss: 0.3516 - acc: 0.9640 - val_loss: 0.1885 - val_acc: 0.9442\n",
      "Epoch 6/100\n",
      "62624/62624 [==============================] - 18s - loss: 0.3381 - acc: 0.9634 - val_loss: 0.1753 - val_acc: 0.9442\n",
      "Epoch 7/100\n",
      "62624/62624 [==============================] - 17s - loss: 0.3411 - acc: 0.9633 - val_loss: 0.1624 - val_acc: 0.9487\n",
      "Epoch 8/100\n",
      "62624/62624 [==============================] - 18s - loss: 0.3485 - acc: 0.9614 - val_loss: 0.1781 - val_acc: 0.9448\n",
      "Epoch 9/100\n",
      "62624/62624 [==============================] - 18s - loss: 0.3714 - acc: 0.9617 - val_loss: 0.1804 - val_acc: 0.9433\n",
      "Epoch 10/100\n",
      "62624/62624 [==============================] - 18s - loss: 0.3212 - acc: 0.9639 - val_loss: 0.1728 - val_acc: 0.9469\n",
      "Epoch 11/100\n",
      "62624/62624 [==============================] - 18s - loss: 0.3433 - acc: 0.9619 - val_loss: 0.1704 - val_acc: 0.9493\n",
      "Epoch 12/100\n",
      "62624/62624 [==============================] - 18s - loss: 0.3364 - acc: 0.9634 - val_loss: 0.1963 - val_acc: 0.9387\n",
      "Epoch 13/100\n",
      "62624/62624 [==============================] - 18s - loss: 0.3417 - acc: 0.9602 - val_loss: 0.1895 - val_acc: 0.9445\n",
      "Epoch 14/100\n",
      "62624/62624 [==============================] - 18s - loss: 0.3345 - acc: 0.9642 - val_loss: 0.1696 - val_acc: 0.9484\n",
      "Epoch 15/100\n",
      "62624/62624 [==============================] - 18s - loss: 0.3156 - acc: 0.9658 - val_loss: 0.1751 - val_acc: 0.9451\n",
      "Epoch 16/100\n",
      "62624/62624 [==============================] - 18s - loss: 0.3478 - acc: 0.9628 - val_loss: 0.1672 - val_acc: 0.9509\n",
      "Epoch 17/100\n",
      "62624/62624 [==============================] - 18s - loss: 0.3285 - acc: 0.9645 - val_loss: 0.1753 - val_acc: 0.9487\n",
      "Epoch 18/100\n",
      "62624/62624 [==============================] - 17s - loss: 0.3304 - acc: 0.9632 - val_loss: 0.1766 - val_acc: 0.9475\n",
      "Epoch 19/100\n",
      "62624/62624 [==============================] - 18s - loss: 0.3452 - acc: 0.9631 - val_loss: 0.1938 - val_acc: 0.9415\n",
      "Epoch 20/100\n",
      "62624/62624 [==============================] - 18s - loss: 0.3435 - acc: 0.9628 - val_loss: 0.1960 - val_acc: 0.9409\n",
      "Epoch 21/100\n",
      "62624/62624 [==============================] - 18s - loss: 0.3472 - acc: 0.9632 - val_loss: 0.1678 - val_acc: 0.9533\n",
      "Epoch 22/100\n",
      "62624/62624 [==============================] - 18s - loss: 0.3397 - acc: 0.9640 - val_loss: 0.1736 - val_acc: 0.9503\n",
      "Epoch 23/100\n",
      "62624/62624 [==============================] - 18s - loss: 0.3165 - acc: 0.9665 - val_loss: 0.1787 - val_acc: 0.9481\n",
      "Epoch 24/100\n",
      "62624/62624 [==============================] - 18s - loss: 0.3462 - acc: 0.9641 - val_loss: 0.1878 - val_acc: 0.9457\n",
      "Epoch 25/100\n",
      "62624/62624 [==============================] - 18s - loss: 0.3189 - acc: 0.9655 - val_loss: 0.1789 - val_acc: 0.9463\n",
      "Epoch 26/100\n",
      "62624/62624 [==============================] - 18s - loss: 0.3269 - acc: 0.9647 - val_loss: 0.1629 - val_acc: 0.9527\n",
      "Epoch 27/100\n",
      "62624/62624 [==============================] - 18s - loss: 0.3196 - acc: 0.9655 - val_loss: 0.1710 - val_acc: 0.9448\n",
      "Epoch 28/100\n",
      "62624/62624 [==============================] - 17s - loss: 0.3191 - acc: 0.9653 - val_loss: 0.1725 - val_acc: 0.9475\n",
      "Epoch 29/100\n",
      "62624/62624 [==============================] - 18s - loss: 0.3031 - acc: 0.9665 - val_loss: 0.1707 - val_acc: 0.9527\n",
      "Epoch 30/100\n",
      "62624/62624 [==============================] - 18s - loss: 0.2994 - acc: 0.9670 - val_loss: 0.1620 - val_acc: 0.9481\n",
      "Epoch 31/100\n",
      "62624/62624 [==============================] - 18s - loss: 0.3093 - acc: 0.9668 - val_loss: 0.1684 - val_acc: 0.9487\n",
      "Epoch 32/100\n",
      "62624/62624 [==============================] - 18s - loss: 0.3265 - acc: 0.9646 - val_loss: 0.1840 - val_acc: 0.9415\n",
      "Epoch 33/100\n",
      "62624/62624 [==============================] - 18s - loss: 0.2962 - acc: 0.9661 - val_loss: 0.1699 - val_acc: 0.9475\n",
      "Epoch 34/100\n",
      "62624/62624 [==============================] - 17s - loss: 0.3206 - acc: 0.9663 - val_loss: 0.1845 - val_acc: 0.9442\n",
      "Epoch 35/100\n",
      "62624/62624 [==============================] - 18s - loss: 0.3094 - acc: 0.9664 - val_loss: 0.1763 - val_acc: 0.9463\n",
      "Epoch 36/100\n",
      "62624/62624 [==============================] - 18s - loss: 0.2915 - acc: 0.9684 - val_loss: 0.1768 - val_acc: 0.9500\n",
      "Epoch 37/100\n",
      "62624/62624 [==============================] - 18s - loss: 0.3075 - acc: 0.9683 - val_loss: 0.1694 - val_acc: 0.9515\n",
      "Epoch 38/100\n",
      "62624/62624 [==============================] - 18s - loss: 0.2880 - acc: 0.9682 - val_loss: 0.1706 - val_acc: 0.9490\n",
      "Epoch 39/100\n",
      "62624/62624 [==============================] - 18s - loss: 0.2869 - acc: 0.9685 - val_loss: 0.1709 - val_acc: 0.9503\n",
      "Epoch 40/100\n",
      "62624/62624 [==============================] - 18s - loss: 0.3185 - acc: 0.9664 - val_loss: 0.1766 - val_acc: 0.9466\n",
      "Epoch 41/100\n",
      "62624/62624 [==============================] - 18s - loss: 0.3010 - acc: 0.9666 - val_loss: 0.1847 - val_acc: 0.9409\n",
      "Epoch 42/100\n",
      "62624/62624 [==============================] - 18s - loss: 0.3150 - acc: 0.9662 - val_loss: 0.1603 - val_acc: 0.9515\n",
      "Epoch 43/100\n",
      "62624/62624 [==============================] - 18s - loss: 0.2902 - acc: 0.9668 - val_loss: 0.1648 - val_acc: 0.9506\n",
      "Epoch 44/100\n",
      "62624/62624 [==============================] - 18s - loss: 0.2891 - acc: 0.9692 - val_loss: 0.1590 - val_acc: 0.9536\n",
      "Epoch 45/100\n",
      "62624/62624 [==============================] - 18s - loss: 0.2976 - acc: 0.9658 - val_loss: 0.1851 - val_acc: 0.9418\n",
      "Epoch 46/100\n",
      "62624/62624 [==============================] - 18s - loss: 0.2933 - acc: 0.9662 - val_loss: 0.1912 - val_acc: 0.9427\n",
      "Epoch 47/100\n",
      "62624/62624 [==============================] - 18s - loss: 0.3001 - acc: 0.9671 - val_loss: 0.1554 - val_acc: 0.9497\n",
      "Epoch 48/100\n",
      "62624/62624 [==============================] - 18s - loss: 0.3114 - acc: 0.9654 - val_loss: 0.1692 - val_acc: 0.9475\n",
      "Epoch 49/100\n",
      "62624/62624 [==============================] - 18s - loss: 0.2845 - acc: 0.9675 - val_loss: 0.1706 - val_acc: 0.9469\n",
      "Epoch 50/100\n",
      "62624/62624 [==============================] - 18s - loss: 0.2988 - acc: 0.9664 - val_loss: 0.1616 - val_acc: 0.9539\n",
      "Epoch 51/100\n",
      "62624/62624 [==============================] - 18s - loss: 0.2863 - acc: 0.9697 - val_loss: 0.1729 - val_acc: 0.9469\n",
      "Epoch 52/100\n",
      "62624/62624 [==============================] - 18s - loss: 0.2899 - acc: 0.9684 - val_loss: 0.1705 - val_acc: 0.9493\n",
      "Epoch 53/100\n",
      "62624/62624 [==============================] - 18s - loss: 0.2769 - acc: 0.9672 - val_loss: 0.1586 - val_acc: 0.9503\n",
      "Epoch 54/100\n",
      "62624/62624 [==============================] - 18s - loss: 0.3082 - acc: 0.9675 - val_loss: 0.1580 - val_acc: 0.9515\n",
      "Epoch 55/100\n",
      "62624/62624 [==============================] - 18s - loss: 0.2923 - acc: 0.9684 - val_loss: 0.1749 - val_acc: 0.9481\n",
      "Epoch 56/100\n",
      "62624/62624 [==============================] - 18s - loss: 0.2969 - acc: 0.9669 - val_loss: 0.1605 - val_acc: 0.9487\n",
      "Epoch 57/100\n",
      "62624/62624 [==============================] - 18s - loss: 0.2959 - acc: 0.9668 - val_loss: 0.1669 - val_acc: 0.9457\n",
      "Epoch 58/100\n",
      "62624/62624 [==============================] - 18s - loss: 0.2839 - acc: 0.9670 - val_loss: 0.1587 - val_acc: 0.9518\n",
      "Epoch 59/100\n",
      "62624/62624 [==============================] - 18s - loss: 0.2762 - acc: 0.9677 - val_loss: 0.1728 - val_acc: 0.9478\n",
      "Epoch 60/100\n",
      "62624/62624 [==============================] - 18s - loss: 0.2891 - acc: 0.9681 - val_loss: 0.1676 - val_acc: 0.9527\n",
      "Epoch 61/100\n",
      "62624/62624 [==============================] - 18s - loss: 0.2699 - acc: 0.9689 - val_loss: 0.1734 - val_acc: 0.9466\n",
      "Epoch 62/100\n",
      "62624/62624 [==============================] - 18s - loss: 0.2888 - acc: 0.9685 - val_loss: 0.1705 - val_acc: 0.9469\n",
      "Epoch 63/100\n",
      "62624/62624 [==============================] - 18s - loss: 0.2936 - acc: 0.9674 - val_loss: 0.1671 - val_acc: 0.9487\n",
      "Epoch 64/100\n",
      "62624/62624 [==============================] - 18s - loss: 0.2876 - acc: 0.9684 - val_loss: 0.1684 - val_acc: 0.9478\n",
      "Epoch 65/100\n",
      "62624/62624 [==============================] - 17s - loss: 0.2795 - acc: 0.9695 - val_loss: 0.1705 - val_acc: 0.9500\n",
      "Epoch 66/100\n",
      "62624/62624 [==============================] - 18s - loss: 0.2775 - acc: 0.9693 - val_loss: 0.1666 - val_acc: 0.9518\n",
      "Epoch 67/100\n",
      "62624/62624 [==============================] - 17s - loss: 0.2877 - acc: 0.9676 - val_loss: 0.1601 - val_acc: 0.9500\n",
      "Epoch 68/100\n",
      "62624/62624 [==============================] - 18s - loss: 0.2756 - acc: 0.9696 - val_loss: 0.1760 - val_acc: 0.9487\n",
      "Epoch 69/100\n",
      "62624/62624 [==============================] - 18s - loss: 0.2899 - acc: 0.9687 - val_loss: 0.1579 - val_acc: 0.9524\n",
      "Epoch 70/100\n",
      "62624/62624 [==============================] - 18s - loss: 0.2751 - acc: 0.9690 - val_loss: 0.1723 - val_acc: 0.9472\n",
      "Epoch 71/100\n",
      "62624/62624 [==============================] - 18s - loss: 0.2837 - acc: 0.9688 - val_loss: 0.1609 - val_acc: 0.9527\n",
      "Epoch 72/100\n",
      "62624/62624 [==============================] - 18s - loss: 0.2820 - acc: 0.9692 - val_loss: 0.1776 - val_acc: 0.9433\n",
      "Epoch 73/100\n",
      "62624/62624 [==============================] - 18s - loss: 0.2910 - acc: 0.9678 - val_loss: 0.1655 - val_acc: 0.9460\n",
      "Epoch 74/100\n",
      "62624/62624 [==============================] - 18s - loss: 0.2795 - acc: 0.9695 - val_loss: 0.1699 - val_acc: 0.9490\n",
      "Epoch 75/100\n",
      "62624/62624 [==============================] - 18s - loss: 0.2692 - acc: 0.9695 - val_loss: 0.1603 - val_acc: 0.9512\n",
      "Epoch 76/100\n",
      "62624/62624 [==============================] - 18s - loss: 0.2610 - acc: 0.9710 - val_loss: 0.1609 - val_acc: 0.9500\n",
      "Epoch 77/100\n",
      "62624/62624 [==============================] - 18s - loss: 0.2704 - acc: 0.9687 - val_loss: 0.1587 - val_acc: 0.9503\n",
      "Epoch 78/100\n",
      "62624/62624 [==============================] - 18s - loss: 0.2782 - acc: 0.9697 - val_loss: 0.1651 - val_acc: 0.9503\n",
      "Epoch 79/100\n",
      "62624/62624 [==============================] - 18s - loss: 0.2701 - acc: 0.9685 - val_loss: 0.1714 - val_acc: 0.9518\n",
      "Epoch 80/100\n",
      "62624/62624 [==============================] - 18s - loss: 0.2939 - acc: 0.9676 - val_loss: 0.1588 - val_acc: 0.9509\n",
      "Epoch 81/100\n",
      "62624/62624 [==============================] - 18s - loss: 0.2632 - acc: 0.9700 - val_loss: 0.1693 - val_acc: 0.9487\n",
      "Epoch 82/100\n",
      "62624/62624 [==============================] - 18s - loss: 0.2718 - acc: 0.9693 - val_loss: 0.1543 - val_acc: 0.9521\n",
      "Epoch 83/100\n",
      "62624/62624 [==============================] - 18s - loss: 0.2711 - acc: 0.9700 - val_loss: 0.1648 - val_acc: 0.9481\n",
      "Epoch 84/100\n",
      "62624/62624 [==============================] - 18s - loss: 0.2670 - acc: 0.9699 - val_loss: 0.1695 - val_acc: 0.9506\n",
      "Epoch 85/100\n",
      "62624/62624 [==============================] - 18s - loss: 0.2618 - acc: 0.9711 - val_loss: 0.1687 - val_acc: 0.9487\n",
      "Epoch 86/100\n",
      "62624/62624 [==============================] - 18s - loss: 0.3098 - acc: 0.9663 - val_loss: 0.1764 - val_acc: 0.9448\n",
      "Epoch 87/100\n",
      "62624/62624 [==============================] - 18s - loss: 0.2658 - acc: 0.9702 - val_loss: 0.1640 - val_acc: 0.9481\n",
      "Epoch 88/100\n",
      "62624/62624 [==============================] - 18s - loss: 0.2533 - acc: 0.9699 - val_loss: 0.1605 - val_acc: 0.9527\n",
      "Epoch 89/100\n",
      "62624/62624 [==============================] - 18s - loss: 0.2728 - acc: 0.9702 - val_loss: 0.1489 - val_acc: 0.9560\n",
      "Epoch 90/100\n",
      "62624/62624 [==============================] - 18s - loss: 0.2699 - acc: 0.9704 - val_loss: 0.1837 - val_acc: 0.9430\n",
      "Epoch 91/100\n",
      "62624/62624 [==============================] - 18s - loss: 0.2867 - acc: 0.9682 - val_loss: 0.1653 - val_acc: 0.9484\n",
      "Epoch 92/100\n",
      "62624/62624 [==============================] - 18s - loss: 0.2615 - acc: 0.9702 - val_loss: 0.1637 - val_acc: 0.9533\n",
      "Epoch 93/100\n",
      "62624/62624 [==============================] - 18s - loss: 0.2745 - acc: 0.9687 - val_loss: 0.1787 - val_acc: 0.9478\n",
      "Epoch 94/100\n",
      "62624/62624 [==============================] - 18s - loss: 0.2582 - acc: 0.9698 - val_loss: 0.1677 - val_acc: 0.9539\n",
      "Epoch 95/100\n",
      "62624/62624 [==============================] - 18s - loss: 0.2617 - acc: 0.9695 - val_loss: 0.1672 - val_acc: 0.9493\n",
      "Epoch 96/100\n",
      "62624/62624 [==============================] - 18s - loss: 0.2855 - acc: 0.9690 - val_loss: 0.1700 - val_acc: 0.9490\n",
      "Epoch 97/100\n",
      "62624/62624 [==============================] - 18s - loss: 0.2661 - acc: 0.9701 - val_loss: 0.1651 - val_acc: 0.9524\n",
      "Epoch 98/100\n",
      "62624/62624 [==============================] - 18s - loss: 0.2678 - acc: 0.9720 - val_loss: 0.1630 - val_acc: 0.9536\n",
      "Epoch 99/100\n",
      "62624/62624 [==============================] - 18s - loss: 0.2648 - acc: 0.9705 - val_loss: 0.1740 - val_acc: 0.9481\n",
      "Epoch 100/100\n",
      "62624/62624 [==============================] - 18s - loss: 0.2556 - acc: 0.9702 - val_loss: 0.1539 - val_acc: 0.9521\n"
     ]
    }
   ],
   "source": [
    "class_weight = {0: 14.0,\n",
    " 1: 1.0,\n",
    " 2: 12.0,\n",
    " 3: 12.0,\n",
    " 4: 12.0,\n",
    " 5: 12.0,\n",
    " 6: 12.0,\n",
    " 7: 12.0,\n",
    " 8: 12.0,\n",
    " 9: 12.0,\n",
    " 10: 12.0,\n",
    " 11: 12.0}\n",
    "model.fit(X_train, y_train, batch_size=2048, validation_data=(X_valid, y_valid), \\\n",
    "          class_weight=class_weight, epochs=100, shuffle=True, verbose=1)\n",
    "model.save(os.path.join(OUTPUT_PATH, 'cnn_custom4_400.h5'))"
   ]
  },
  {
   "cell_type": "code",
   "execution_count": null,
   "metadata": {
    "collapsed": true
   },
   "outputs": [],
   "source": []
  },
  {
   "cell_type": "code",
   "execution_count": null,
   "metadata": {
    "collapsed": true
   },
   "outputs": [],
   "source": []
  },
  {
   "cell_type": "markdown",
   "metadata": {},
   "source": [
    "# 3. Validation"
   ]
  },
  {
   "cell_type": "code",
   "execution_count": 43,
   "metadata": {},
   "outputs": [
    {
     "name": "stdout",
     "output_type": "stream",
     "text": [
      "3072/3297 [==========================>...] - ETA: 0s"
     ]
    }
   ],
   "source": [
    "preds_proba = model.predict(X_valid, batch_size=1024, verbose=1)"
   ]
  },
  {
   "cell_type": "code",
   "execution_count": 44,
   "metadata": {},
   "outputs": [
    {
     "name": "stdout",
     "output_type": "stream",
     "text": [
      "* 정확도 : 0.95208\n",
      "\n",
      " -------------------------- \n",
      "\n",
      "preds     _silence  _unknown  down  go  left  no  off   on  right  stop   up  \\\n",
      "actuals                                                                        \n",
      "_silence        54         0     0   0     0   0    0    0      0     0    0   \n",
      "_unknown         4      1969     9  14     6   7    8   15      6     7    9   \n",
      "down             0         6   127   1     0   1    0    0      0     0    0   \n",
      "go               0         4     2  88     0   2    0    0      1     1    0   \n",
      "left             1         2     0   1   125   0    0    1      1     0    1   \n",
      "no               0         2     2   6     1  96    0    3      0     0    0   \n",
      "off              0         3     0   1     0   0  102    1      1     2    1   \n",
      "on               0         0     0   0     0   0    0  103      0     0    0   \n",
      "right            0         2     0   0     0   0    0    1    123     0    1   \n",
      "stop             0         2     0   1     0   0    1    1      0   119    2   \n",
      "up               1         2     0   0     1   0    1    0      0     0  121   \n",
      "yes              0         2     0   0     0   0    0    0      0     0    0   \n",
      "\n",
      "preds     yes  \n",
      "actuals        \n",
      "_silence    0  \n",
      "_unknown    4  \n",
      "down        0  \n",
      "go          0  \n",
      "left        3  \n",
      "no          0  \n",
      "off         0  \n",
      "on          0  \n",
      "right       0  \n",
      "stop        0  \n",
      "up          0  \n",
      "yes       112  \n",
      "\n",
      " -------------------------- \n",
      "\n",
      "             precision    recall  f1-score   support\n",
      "\n",
      "   _silence       0.90      1.00      0.95        54\n",
      "   _unknown       0.99      0.96      0.97      2058\n",
      "       down       0.91      0.94      0.92       135\n",
      "         go       0.79      0.90      0.84        98\n",
      "       left       0.94      0.93      0.93       135\n",
      "         no       0.91      0.87      0.89       110\n",
      "        off       0.91      0.92      0.91       111\n",
      "         on       0.82      1.00      0.90       103\n",
      "      right       0.93      0.97      0.95       127\n",
      "       stop       0.92      0.94      0.93       126\n",
      "         up       0.90      0.96      0.93       126\n",
      "        yes       0.94      0.98      0.96       114\n",
      "\n",
      "avg / total       0.95      0.95      0.95      3297\n",
      "\n"
     ]
    }
   ],
   "source": [
    "preds = [LABELS[i] for i in np.argmax(preds_proba, axis=1)]\n",
    "actuals = [LABELS[i] for i in np.argmax(y_valid, axis=1)]\n",
    "print('* 정확도 : %.5f' % (np.sum(np.array(actuals) == np.array(preds)) / float(len(actuals))))\n",
    "preds = pd.Categorical(preds, categories=LABELS)\n",
    "actuals = pd.Categorical(actuals, categories=LABELS)\n",
    "print('\\n -------------------------- \\n')\n",
    "print(pd.crosstab(actuals, preds, rownames=['actuals'], colnames=['preds']))\n",
    "print('\\n -------------------------- \\n')\n",
    "print(classification_report(actuals, preds))"
   ]
  },
  {
   "cell_type": "code",
   "execution_count": 16,
   "metadata": {},
   "outputs": [
    {
     "name": "stdout",
     "output_type": "stream",
     "text": [
      "* 정확도 : 0.95511\n",
      "\n",
      " -------------------------- \n",
      "\n",
      "preds     _silence  _unknown  down  go  left   no  off   on  right  stop   up  \\\n",
      "actuals                                                                         \n",
      "_silence        54         0     0   0     0    0    0    0      0     0    0   \n",
      "_unknown         1      1955     9  12    12    7    7   13     14    16    8   \n",
      "down             0         0   132   3     0    0    0    0      0     0    0   \n",
      "go               0         1     0  95     1    1    0    0      0     0    0   \n",
      "left             0         2     0   0   127    0    0    0      0     3    1   \n",
      "no               0         1     1   1     0  103    0    0      0     3    1   \n",
      "off              1         2     0   0     0    0  103    1      0     3    1   \n",
      "on               0         1     0   0     0    0    0  102      0     0    0   \n",
      "right            0         4     0   0     1    0    0    0    121     0    1   \n",
      "stop             0         0     1   1     0    0    0    0      0   122    2   \n",
      "up               1         1     0   0     0    0    0    0      0     2  122   \n",
      "yes              0         0     1   0     0    0    0    0      0     0    0   \n",
      "\n",
      "preds     yes  \n",
      "actuals        \n",
      "_silence    0  \n",
      "_unknown    4  \n",
      "down        0  \n",
      "go          0  \n",
      "left        2  \n",
      "no          0  \n",
      "off         0  \n",
      "on          0  \n",
      "right       0  \n",
      "stop        0  \n",
      "up          0  \n",
      "yes       113  \n",
      "\n",
      " -------------------------- \n",
      "\n",
      "             precision    recall  f1-score   support\n",
      "\n",
      "   _silence       0.95      1.00      0.97        54\n",
      "   _unknown       0.99      0.95      0.97      2058\n",
      "       down       0.92      0.98      0.95       135\n",
      "         go       0.85      0.97      0.90        98\n",
      "       left       0.90      0.94      0.92       135\n",
      "         no       0.93      0.94      0.93       110\n",
      "        off       0.94      0.93      0.93       111\n",
      "         on       0.88      0.99      0.93       103\n",
      "      right       0.90      0.95      0.92       127\n",
      "       stop       0.82      0.97      0.89       126\n",
      "         up       0.90      0.97      0.93       126\n",
      "        yes       0.95      0.99      0.97       114\n",
      "\n",
      "avg / total       0.96      0.96      0.96      3297\n",
      "\n"
     ]
    }
   ],
   "source": [
    "preds = [LABELS[i] for i in np.argmax(preds_proba, axis=1)]\n",
    "actuals = [LABELS[i] for i in np.argmax(y_valid, axis=1)]\n",
    "print('* 정확도 : %.5f' % (np.sum(np.array(actuals) == np.array(preds)) / float(len(actuals))))\n",
    "preds = pd.Categorical(preds, categories=LABELS)\n",
    "actuals = pd.Categorical(actuals, categories=LABELS)\n",
    "print('\\n -------------------------- \\n')\n",
    "print(pd.crosstab(actuals, preds, rownames=['actuals'], colnames=['preds']))\n",
    "print('\\n -------------------------- \\n')\n",
    "print(classification_report(actuals, preds))"
   ]
  },
  {
   "cell_type": "code",
   "execution_count": null,
   "metadata": {
    "collapsed": true
   },
   "outputs": [],
   "source": []
  },
  {
   "cell_type": "code",
   "execution_count": 26,
   "metadata": {},
   "outputs": [
    {
     "name": "stdout",
     "output_type": "stream",
     "text": [
      "* 정확도 : 0.97028\n",
      "\n",
      " -------------------------- \n",
      "\n",
      "preds     _silence  _unknown  down  go  left   no  off  on  right  stop   up  \\\n",
      "actuals                                                                        \n",
      "_silence        54         0     0   0     0    0    0   0      0     0    0   \n",
      "_unknown         4      2029     0   7     1    9    2   1      0     0    4   \n",
      "down             0         4   128   1     0    1    0   0      0     0    0   \n",
      "go               0         5     4  87     0    2    0   0      0     0    0   \n",
      "left             0         6     0   0   126    0    0   0      0     0    2   \n",
      "no               0         4     2   0     0  103    0   0      0     1    0   \n",
      "off              1         6     1   0     1    0  100   0      0     1    1   \n",
      "on               0         4     0   0     0    0    1  98      0     0    0   \n",
      "right            0         5     0   0     1    0    0   0    121     0    0   \n",
      "stop             0         4     1   0     0    1    0   0      0   118    2   \n",
      "up               2         2     0   0     0    0    0   0      0     0  122   \n",
      "yes              0         1     0   0     0    0    0   0      0     0    0   \n",
      "\n",
      "preds     yes  \n",
      "actuals        \n",
      "_silence    0  \n",
      "_unknown    1  \n",
      "down        1  \n",
      "go          0  \n",
      "left        1  \n",
      "no          0  \n",
      "off         0  \n",
      "on          0  \n",
      "right       0  \n",
      "stop        0  \n",
      "up          0  \n",
      "yes       113  \n",
      "\n",
      " -------------------------- \n",
      "\n",
      "             precision    recall  f1-score   support\n",
      "\n",
      "   _silence       0.89      1.00      0.94        54\n",
      "   _unknown       0.98      0.99      0.98      2058\n",
      "       down       0.94      0.95      0.94       135\n",
      "         go       0.92      0.89      0.90        98\n",
      "       left       0.98      0.93      0.95       135\n",
      "         no       0.89      0.94      0.91       110\n",
      "        off       0.97      0.90      0.93       111\n",
      "         on       0.99      0.95      0.97       103\n",
      "      right       1.00      0.95      0.98       127\n",
      "       stop       0.98      0.94      0.96       126\n",
      "         up       0.93      0.97      0.95       126\n",
      "        yes       0.97      0.99      0.98       114\n",
      "\n",
      "avg / total       0.97      0.97      0.97      3297\n",
      "\n"
     ]
    }
   ],
   "source": [
    "preds = [LABELS[i] for i in np.argmax(preds_proba, axis=1)]\n",
    "actuals = [LABELS[i] for i in np.argmax(y_valid, axis=1)]\n",
    "print('* 정확도 : %.5f' % (np.sum(np.array(actuals) == np.array(preds)) / float(len(actuals))))\n",
    "preds = pd.Categorical(preds, categories=LABELS)\n",
    "actuals = pd.Categorical(actuals, categories=LABELS)\n",
    "print('\\n -------------------------- \\n')\n",
    "print(pd.crosstab(actuals, preds, rownames=['actuals'], colnames=['preds']))\n",
    "print('\\n -------------------------- \\n')\n",
    "print(classification_report(actuals, preds))"
   ]
  },
  {
   "cell_type": "code",
   "execution_count": 29,
   "metadata": {},
   "outputs": [
    {
     "name": "stdout",
     "output_type": "stream",
     "text": [
      "* 정확도 : 0.94295\n",
      "\n",
      " -------------------------- \n",
      "\n",
      "preds     _silence  _unknown  down  go  left   no  off   on  right  stop   up  \\\n",
      "actuals                                                                         \n",
      "_silence         4         1     0   0     0    0    0    0      0     0    0   \n",
      "_unknown         0      2018     6   8     1    5    7    7      6     8    9   \n",
      "down             0        10   107   3     0    1    0    0      0     1    0   \n",
      "go               0         8     2  84     0    2    0    0      0     1    0   \n",
      "left             0         5     0   0   109    0    0    0      1     0    1   \n",
      "no               0        13     2   2     0  101    0    0      0     1    1   \n",
      "off              0         3     0   0     0    0  102    1      0     0    1   \n",
      "on               0        13     0   1     0    0    6  102      0     0    3   \n",
      "right            0         9     0   0     2    0    0    0    107     0    0   \n",
      "stop             0         8     0   0     0    0    0    1      0    99    4   \n",
      "up               0         3     0   0     1    0    4    0      0     1  106   \n",
      "yes              0         6     0   0     2    0    0    0      0     0    0   \n",
      "\n",
      "preds     yes  \n",
      "actuals        \n",
      "_silence    0  \n",
      "_unknown    1  \n",
      "down        0  \n",
      "go          1  \n",
      "left        1  \n",
      "no          0  \n",
      "off         0  \n",
      "on          0  \n",
      "right       0  \n",
      "stop        1  \n",
      "up          0  \n",
      "yes       119  \n",
      "\n",
      " -------------------------- \n",
      "\n",
      "             precision    recall  f1-score   support\n",
      "\n",
      "   _silence       1.00      0.80      0.89         5\n",
      "   _unknown       0.96      0.97      0.97      2076\n",
      "       down       0.91      0.88      0.90       122\n",
      "         go       0.86      0.86      0.86        98\n",
      "       left       0.95      0.93      0.94       117\n",
      "         no       0.93      0.84      0.88       120\n",
      "        off       0.86      0.95      0.90       107\n",
      "         on       0.92      0.82      0.86       125\n",
      "      right       0.94      0.91      0.92       118\n",
      "       stop       0.89      0.88      0.88       113\n",
      "         up       0.85      0.92      0.88       115\n",
      "        yes       0.97      0.94      0.95       127\n",
      "\n",
      "avg / total       0.94      0.94      0.94      3243\n",
      "\n"
     ]
    }
   ],
   "source": [
    "preds = [LABELS[i] for i in np.argmax(preds_proba, axis=1)]\n",
    "actuals = [LABELS[i] for i in np.argmax(y_valid, axis=1)]\n",
    "print('* 정확도 : %.5f' % (np.sum(np.array(actuals) == np.array(preds)) / float(len(actuals))))\n",
    "preds = pd.Categorical(preds, categories=LABELS)\n",
    "actuals = pd.Categorical(actuals, categories=LABELS)\n",
    "print('\\n -------------------------- \\n')\n",
    "print(pd.crosstab(actuals, preds, rownames=['actuals'], colnames=['preds']))\n",
    "print('\\n -------------------------- \\n')\n",
    "print(classification_report(actuals, preds))"
   ]
  },
  {
   "cell_type": "code",
   "execution_count": 179,
   "metadata": {
    "scrolled": false
   },
   "outputs": [
    {
     "name": "stdout",
     "output_type": "stream",
     "text": [
      "* 정확도 : 0.90166\n",
      "\n",
      " -------------------------- \n",
      "\n",
      "preds     _silence  _unknown  down   go  left   no  off   on  right  stop  \\\n",
      "actuals                                                                     \n",
      "_silence        12        23     0    0     0    0    0    0      0     0   \n",
      "_unknown         0     11922    32   28    16   16   12   45     96    58   \n",
      "down             1       120   512    7     0   23    0    1      0    17   \n",
      "go               0       144    30  412     0   65    0    0      1    11   \n",
      "left             0        92     0    0   547    0    1    0      8     0   \n",
      "no               0        97    24   18     0  553    3    0      0     6   \n",
      "off              0        53     0    1     0    0  547   11      0     2   \n",
      "on               0       127     0    1     0    0   17  544      0     1   \n",
      "right            0        67     0    0     4    0    0    2    615     0   \n",
      "stop             0        46     1    0     0    0    1    0      0   602   \n",
      "up               0        36     0    0     1    0    4    0      0     7   \n",
      "yes              0        72     1    0     6    2    0    0      0     0   \n",
      "\n",
      "preds      up  yes  \n",
      "actuals             \n",
      "_silence    1    0  \n",
      "_unknown  145   10  \n",
      "down        5    1  \n",
      "go         16    1  \n",
      "left       22   10  \n",
      "no          4    5  \n",
      "off       140    0  \n",
      "on         19    0  \n",
      "right       2    0  \n",
      "stop       72    0  \n",
      "up        666    0  \n",
      "yes         2  608  \n",
      "\n",
      " -------------------------- \n",
      "\n",
      "             precision    recall  f1-score   support\n",
      "\n",
      "   _silence       0.92      0.33      0.49        36\n",
      "   _unknown       0.93      0.96      0.95     12380\n",
      "       down       0.85      0.75      0.80       687\n",
      "         go       0.88      0.61      0.72       680\n",
      "       left       0.95      0.80      0.87       680\n",
      "         no       0.84      0.78      0.81       710\n",
      "        off       0.94      0.73      0.82       754\n",
      "         on       0.90      0.77      0.83       709\n",
      "      right       0.85      0.89      0.87       690\n",
      "       stop       0.86      0.83      0.84       722\n",
      "         up       0.61      0.93      0.74       714\n",
      "        yes       0.96      0.88      0.92       691\n",
      "\n",
      "avg / total       0.91      0.90      0.90     19453\n",
      "\n"
     ]
    }
   ],
   "source": [
    "preds = [LABELS[i] for i in np.argmax(preds_proba, axis=1)]\n",
    "actuals = [LABELS[i] for i in np.argmax(y_valid, axis=1)]\n",
    "print('* 정확도 : %.5f' % (np.sum(np.array(actuals) == np.array(preds)) / float(len(actuals))))\n",
    "preds = pd.Categorical(preds, categories=LABELS)\n",
    "actuals = pd.Categorical(actuals, categories=LABELS)\n",
    "print('\\n -------------------------- \\n')\n",
    "print(pd.crosstab(actuals, preds, rownames=['actuals'], colnames=['preds']))\n",
    "print('\\n -------------------------- \\n')\n",
    "print(classification_report(actuals, preds))"
   ]
  },
  {
   "cell_type": "code",
   "execution_count": null,
   "metadata": {
    "collapsed": true
   },
   "outputs": [],
   "source": []
  },
  {
   "cell_type": "code",
   "execution_count": 38,
   "metadata": {},
   "outputs": [
    {
     "name": "stdout",
     "output_type": "stream",
     "text": [
      "CPU times: user 2min 27s, sys: 3.75 s, total: 2min 30s\n",
      "Wall time: 2min 28s\n"
     ]
    }
   ],
   "source": [
    "%%time\n",
    "X = []\n",
    "submission_fpaths = sorted(glob(os.path.join(TEST_PATH, r'*wav')))\n",
    "for fpath in submission_fpaths:\n",
    "    sample_rate, samples = wavfile.read(fpath)\n",
    "    samples = pad_audio(samples)\n",
    "    if len(samples) > 16000:\n",
    "        n_samples = chop_audio(samples)\n",
    "    else: \n",
    "        n_samples = [samples]\n",
    "    for samples in n_samples:\n",
    "        resampled = signal.resample(samples, int(new_sample_rate / sample_rate * samples.shape[0]))\n",
    "        _, _, specgram = log_specgram(resampled, sample_rate=new_sample_rate)\n",
    "        X.append(specgram)\n",
    "        \n",
    "X = np.array(X)\n",
    "X = X.reshape(tuple(list(X.shape) + [1]))"
   ]
  },
  {
   "cell_type": "code",
   "execution_count": 45,
   "metadata": {
    "scrolled": true
   },
   "outputs": [
    {
     "name": "stdout",
     "output_type": "stream",
     "text": [
      "158208/158538 [============================>.] - ETA: 0s"
     ]
    }
   ],
   "source": [
    "preds_proba = model.predict(X, batch_size=512, verbose=1)\n",
    "preds = [[L.replace('_', '') for L in LABELS][i] for i in np.argmax(preds_proba, axis=1)]"
   ]
  },
  {
   "cell_type": "code",
   "execution_count": 46,
   "metadata": {
    "collapsed": true
   },
   "outputs": [],
   "source": [
    "df = pd.DataFrame({'fname': submission_fpaths, 'label': preds})\n",
    "df['fname'] = df['fname'].apply(lambda p: p.split('/')[-1])\n",
    "df.to_csv(os.path.join(OUTPUT_PATH, 'sub_' + MODEL_NAME.split('.')[0] + '.csv'), index=False)"
   ]
  },
  {
   "cell_type": "code",
   "execution_count": 47,
   "metadata": {},
   "outputs": [
    {
     "data": {
      "text/plain": [
       "unknown    80458\n",
       "on         15762\n",
       "silence     7437\n",
       "off         6784\n",
       "no          6350\n",
       "left        6336\n",
       "go          6198\n",
       "stop        6151\n",
       "right       5991\n",
       "up          5991\n",
       "yes         5779\n",
       "down        5301\n",
       "Name: label, dtype: int64"
      ]
     },
     "execution_count": 47,
     "metadata": {},
     "output_type": "execute_result"
    }
   ],
   "source": [
    "df['label'].value_counts()"
   ]
  },
  {
   "cell_type": "code",
   "execution_count": null,
   "metadata": {
    "collapsed": true
   },
   "outputs": [],
   "source": []
  },
  {
   "cell_type": "code",
   "execution_count": 23,
   "metadata": {},
   "outputs": [
    {
     "data": {
      "text/plain": [
       "unknown    90829\n",
       "on          7469\n",
       "no          7168\n",
       "silence     7137\n",
       "off         6684\n",
       "go          6179\n",
       "down        6035\n",
       "yes         5821\n",
       "up          5658\n",
       "left        5269\n",
       "stop        5199\n",
       "right       5090\n",
       "Name: label, dtype: int64"
      ]
     },
     "execution_count": 23,
     "metadata": {},
     "output_type": "execute_result"
    }
   ],
   "source": [
    "df['label'].value_counts()"
   ]
  },
  {
   "cell_type": "code",
   "execution_count": null,
   "metadata": {
    "collapsed": true
   },
   "outputs": [],
   "source": []
  }
 ],
 "metadata": {
  "kernelspec": {
   "display_name": "Python 3",
   "language": "python",
   "name": "python3"
  },
  "language_info": {
   "codemirror_mode": {
    "name": "ipython",
    "version": 3
   },
   "file_extension": ".py",
   "mimetype": "text/x-python",
   "name": "python",
   "nbconvert_exporter": "python",
   "pygments_lexer": "ipython3",
   "version": "3.5.3"
  }
 },
 "nbformat": 4,
 "nbformat_minor": 2
}
