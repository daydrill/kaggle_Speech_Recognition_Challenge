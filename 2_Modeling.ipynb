{
 "cells": [
  {
   "cell_type": "code",
   "execution_count": 6,
   "metadata": {},
   "outputs": [
    {
     "name": "stderr",
     "output_type": "stream",
     "text": [
      "reuse old logger (id:140259387955800, log_path:/home/chi/workspace/kaggle_speech_recognition_challenge/babel_speech/kaggle_speech_recognition_challenge/CNN_new), level:20\n"
     ]
    }
   ],
   "source": [
    "import os\n",
    "import sys\n",
    "import time\n",
    "import logging\n",
    "import numpy as np\n",
    "from scipy.fftpack import fft\n",
    "from scipy.io import wavfile\n",
    "from scipy import signal\n",
    "from glob import glob\n",
    "import re\n",
    "import pandas as pd\n",
    "import gc\n",
    "from scipy.io import wavfile\n",
    "import pickle\n",
    "from collections import OrderedDict\n",
    "from keras.layers import ZeroPadding2D, Conv2D, MaxPooling2D, Reshape\n",
    "\n",
    "from librosa.feature import melspectrogram\n",
    "import librosa\n",
    "\n",
    "import matplotlib.pyplot as plt\n",
    "%matplotlib inline\n",
    "\n",
    "from sklearn.preprocessing import LabelEncoder, StandardScaler\n",
    "from sklearn.metrics import classification_report\n",
    "from sklearn.model_selection import train_test_split\n",
    "\n",
    "import tensorflow as tf\n",
    "import keras\n",
    "from keras import regularizers\n",
    "from keras.models import load_model, Sequential\n",
    "from keras.utils.np_utils import to_categorical\n",
    "from keras import optimizers, losses, activations, models\n",
    "from keras.utils.vis_utils import plot_model\n",
    "from keras.layers import Convolution2D, Dense, Flatten, Dropout, MaxPooling2D, BatchNormalization, Merge, ELU, GRU\n",
    "from keras.callbacks import ModelCheckpoint, Callback, EarlyStopping\n",
    "\n",
    "from config import TRAIN_PATH, TEST_PATH, INPUT_PATH, OUTPUT_PATH, LABELS\n",
    "from preprocess_utils import list_wavs_fname, pad_audio, log_specgram, mel_specgram, label_transform\n",
    "from log_util import LogUtil\n",
    "log = LogUtil.get_logger(os.path.join(os.getcwd(),'CNN_new'), level=logging.INFO, console_mode=True)"
   ]
  },
  {
   "cell_type": "code",
   "execution_count": 17,
   "metadata": {
    "collapsed": true
   },
   "outputs": [],
   "source": [
    "MODEL_FILE = 'mel_crnn.h5'\n",
    "AUDIO_MAX_LEN= 16000\n",
    "AUDIO_SR = 16000"
   ]
  },
  {
   "cell_type": "code",
   "execution_count": 10,
   "metadata": {},
   "outputs": [],
   "source": [
    "# gpu_options = tf.GPUOptions(per_process_gpu_memory_fraction=0.3)\n",
    "# sess = tf.Session(config=tf.ConfigProto(\n",
    "#   allow_soft_placement=True, log_device_placement=True))"
   ]
  },
  {
   "cell_type": "code",
   "execution_count": null,
   "metadata": {
    "collapsed": true
   },
   "outputs": [],
   "source": []
  },
  {
   "cell_type": "markdown",
   "metadata": {},
   "source": [
    "# 모델 생성"
   ]
  },
  {
   "cell_type": "code",
   "execution_count": 19,
   "metadata": {
    "collapsed": true
   },
   "outputs": [],
   "source": [
    "def preprocess(labels, fnames, feature_func, replace=False):\n",
    "    start_time = time.time()\n",
    "    data_file = os.path.join(TRAIN_PATH, 'Xy_train_'+MODEL_FILE.split('_')[0]+'.pkl') # # Xy_train_(피쳐추출알고리즘).pkl\n",
    "    log.info(data_file)\n",
    "    if (not replace) and os.path.exists(data_file):\n",
    "        X, y = pickle.load(open(data_file, 'rb'))\n",
    "    else:\n",
    "        ## load & Preprocess Data\n",
    "        y = []\n",
    "        X = []\n",
    "        for i, (label, fname) in enumerate(zip(labels, fnames)):\n",
    "            samples, sample_rate = librosa.load(os.path.join(TRAIN_PATH, label, fname), sr=AUDIO_SR)\n",
    "            if len(samples) > AUDIO_MAX_LEN:\n",
    "                pass\n",
    "            else:\n",
    "                samples = pad_audio(samples)\n",
    "                specgram = feature_func(samples, sample_rate)\n",
    "                y.append(label)\n",
    "                X.append(specgram)\n",
    "        X = np.array(X)\n",
    "        X = X.reshape(list(X.shape)+[1])\n",
    "        y = to_categorical(label_transform(y))\n",
    "        pickle.dump((X, y), open(data_file, 'wb'), protocol=4)\n",
    "\n",
    "    ## Data Split\n",
    "    X_train, X_valid, y_train, y_valid = train_test_split(X, y, test_size=0.05, random_state=0) # 9:1로 train, valid 셋 나눔.    \n",
    "    log.info('Shape of X_train : {}'.format(X_train.shape))\n",
    "    log.info('Preprocessing Complete - {:.2f} sec'.format(time.time()-start_time))\n",
    "    return X_train, X_valid, y_train, y_valid"
   ]
  },
  {
   "cell_type": "code",
   "execution_count": 20,
   "metadata": {
    "collapsed": true
   },
   "outputs": [],
   "source": [
    "def eval_model(X_valid, y_valid, model):\n",
    "    preds_proba = model.predict(X_valid, batch_size=256, verbose=1)\n",
    "    preds = [LABELS[i] for i in np.argmax(preds_proba, axis=1)]\n",
    "    actuals = [LABELS[i] for i in np.argmax(y_valid, axis=1)]\n",
    "    log.info('* 정확도 : %.5f' % (np.sum(np.array(actuals) == np.array(preds)) / float(len(actuals))))\n",
    "    preds = pd.Categorical(preds, categories=LABELS)\n",
    "    actuals = pd.Categorical(actuals, categories=LABELS)\n",
    "    log.info('\\n -------------------------- \\n')\n",
    "    log.info(pd.crosstab(actuals, preds, rownames=['actuals'], colnames=['preds']))\n",
    "    log.info('\\n -------------------------- \\n')\n",
    "    log.info(classification_report(actuals, preds))"
   ]
  },
  {
   "cell_type": "code",
   "execution_count": null,
   "metadata": {
    "collapsed": true
   },
   "outputs": [],
   "source": []
  },
  {
   "cell_type": "code",
   "execution_count": 21,
   "metadata": {
    "collapsed": true
   },
   "outputs": [],
   "source": [
    "## MEL CRNN MODEL\n",
    "def get_model(input_shape, replace=False):\n",
    "    if (not replace) and os.path.exists(os.path.join(OUTPUT_PATH, MODEL_FILE)):\n",
    "        log.info('Load Model')\n",
    "        model = load_model(os.path.join(OUTPUT_PATH, MODEL_FILE))\n",
    "    else:\n",
    "        # CNN Layers\n",
    "        model = Sequential()\n",
    "        model.add(BatchNormalization(input_shape=input_shape))\n",
    "\n",
    "        model.add(Convolution2D(32, kernel_size=3, activation='elu'))\n",
    "        model.add(MaxPooling2D(pool_size=(3,3), strides=(3,3)))\n",
    "        model.add(Dropout(0.2))\n",
    "\n",
    "        model.add(Convolution2D(32, kernel_size=3, activation='elu'))\n",
    "        model.add(MaxPooling2D(pool_size=(3,2), strides=(3,2)))\n",
    "        model.add(Dropout(0.2))\n",
    "\n",
    "        model.add(Convolution2D(64, kernel_size=4, activation='elu'))\n",
    "        model.add(MaxPooling2D(pool_size=(3,1), strides=(3,1)))\n",
    "        model.add(Dropout(0.2))\n",
    "\n",
    "        model.add(Convolution2D(128, kernel_size=4, activation='elu'))\n",
    "        model.add(MaxPooling2D(pool_size=(2,1), strides=(2,1)))\n",
    "        model.add(Dropout(0.2))\n",
    "\n",
    "        model.add(Reshape(target_shape=(37, 128)))\n",
    "\n",
    "        # GRU Layers\n",
    "\n",
    "        model.add(GRU(128, return_sequences=True))\n",
    "        model.add(BatchNormalization())\n",
    "        model.add(GRU(128, return_sequences=False))\n",
    "        model.add(BatchNormalization())\n",
    "\n",
    "        model.add(Dense(len(LABELS), activation='softmax'))\n",
    "\n",
    "        opt = optimizers.Adam(lr=0.001)\n",
    "        model.compile(optimizer=opt, loss=losses.binary_crossentropy, metrics=['categorical_accuracy'])\n",
    "\n",
    "    log.info('\\n')\n",
    "    log.info('\\tMODEL : {}'.format(MODEL_FILE))\n",
    "    model.summary(print_fn=log.info)\n",
    "    return model"
   ]
  },
  {
   "cell_type": "code",
   "execution_count": 22,
   "metadata": {},
   "outputs": [
    {
     "name": "stdout",
     "output_type": "stream",
     "text": [
      "../../input/train/audio/\n"
     ]
    }
   ],
   "source": [
    "labels, fnames = list_wavs_fname(TRAIN_PATH)"
   ]
  },
  {
   "cell_type": "code",
   "execution_count": 23,
   "metadata": {
    "scrolled": true
   },
   "outputs": [
    {
     "name": "stdout",
     "output_type": "stream",
     "text": [
      "../../input/train/audio/Xy_train_mel.pkl\n"
     ]
    },
    {
     "ename": "MemoryError",
     "evalue": "",
     "output_type": "error",
     "traceback": [
      "\u001b[1;31m---------------------------------------------------------------------------\u001b[0m",
      "\u001b[1;31mMemoryError\u001b[0m                               Traceback (most recent call last)",
      "\u001b[1;32m<ipython-input-23-f47978b22c1d>\u001b[0m in \u001b[0;36m<module>\u001b[1;34m()\u001b[0m\n\u001b[1;32m----> 1\u001b[1;33m \u001b[0mX_train\u001b[0m\u001b[1;33m,\u001b[0m \u001b[0mX_valid\u001b[0m\u001b[1;33m,\u001b[0m \u001b[0my_train\u001b[0m\u001b[1;33m,\u001b[0m \u001b[0my_valid\u001b[0m \u001b[1;33m=\u001b[0m \u001b[0mpreprocess\u001b[0m\u001b[1;33m(\u001b[0m\u001b[0mlabels\u001b[0m\u001b[1;33m,\u001b[0m \u001b[0mfnames\u001b[0m\u001b[1;33m,\u001b[0m \u001b[0mmel_specgram\u001b[0m\u001b[1;33m,\u001b[0m \u001b[0mreplace\u001b[0m\u001b[1;33m=\u001b[0m\u001b[1;32mTrue\u001b[0m\u001b[1;33m)\u001b[0m\u001b[1;33m\u001b[0m\u001b[0m\n\u001b[0m",
      "\u001b[1;32m<ipython-input-19-686ccb174fa2>\u001b[0m in \u001b[0;36mpreprocess\u001b[1;34m(labels, fnames, feature_func, replace)\u001b[0m\n\u001b[0;32m     21\u001b[0m         \u001b[0mX\u001b[0m \u001b[1;33m=\u001b[0m \u001b[0mX\u001b[0m\u001b[1;33m.\u001b[0m\u001b[0mreshape\u001b[0m\u001b[1;33m(\u001b[0m\u001b[0mlist\u001b[0m\u001b[1;33m(\u001b[0m\u001b[0mX\u001b[0m\u001b[1;33m.\u001b[0m\u001b[0mshape\u001b[0m\u001b[1;33m)\u001b[0m\u001b[1;33m+\u001b[0m\u001b[1;33m[\u001b[0m\u001b[1;36m1\u001b[0m\u001b[1;33m]\u001b[0m\u001b[1;33m)\u001b[0m\u001b[1;33m\u001b[0m\u001b[0m\n\u001b[0;32m     22\u001b[0m         \u001b[0my\u001b[0m \u001b[1;33m=\u001b[0m \u001b[0mto_categorical\u001b[0m\u001b[1;33m(\u001b[0m\u001b[0mlabel_transform\u001b[0m\u001b[1;33m(\u001b[0m\u001b[0my\u001b[0m\u001b[1;33m)\u001b[0m\u001b[1;33m)\u001b[0m\u001b[1;33m\u001b[0m\u001b[0m\n\u001b[1;32m---> 23\u001b[1;33m         \u001b[0mpickle\u001b[0m\u001b[1;33m.\u001b[0m\u001b[0mdump\u001b[0m\u001b[1;33m(\u001b[0m\u001b[1;33m(\u001b[0m\u001b[0mX\u001b[0m\u001b[1;33m,\u001b[0m \u001b[0my\u001b[0m\u001b[1;33m)\u001b[0m\u001b[1;33m,\u001b[0m \u001b[0mopen\u001b[0m\u001b[1;33m(\u001b[0m\u001b[0mdata_file\u001b[0m\u001b[1;33m,\u001b[0m \u001b[1;34m'wb'\u001b[0m\u001b[1;33m)\u001b[0m\u001b[1;33m,\u001b[0m \u001b[0mprotocol\u001b[0m\u001b[1;33m=\u001b[0m\u001b[1;36m4\u001b[0m\u001b[1;33m)\u001b[0m\u001b[1;33m\u001b[0m\u001b[0m\n\u001b[0m\u001b[0;32m     24\u001b[0m \u001b[1;33m\u001b[0m\u001b[0m\n\u001b[0;32m     25\u001b[0m     \u001b[1;31m## Data Split\u001b[0m\u001b[1;33m\u001b[0m\u001b[1;33m\u001b[0m\u001b[0m\n",
      "\u001b[1;31mMemoryError\u001b[0m: "
     ]
    }
   ],
   "source": [
    "X_train, X_valid, y_train, y_valid = preprocess(labels, fnames, mel_specgram, replace=True)"
   ]
  },
  {
   "cell_type": "code",
   "execution_count": 24,
   "metadata": {
    "scrolled": false
   },
   "outputs": [
    {
     "ename": "NameError",
     "evalue": "name 'X_train' is not defined",
     "output_type": "error",
     "traceback": [
      "\u001b[1;31m---------------------------------------------------------------------------\u001b[0m",
      "\u001b[1;31mNameError\u001b[0m                                 Traceback (most recent call last)",
      "\u001b[1;32m<ipython-input-24-19252df24c59>\u001b[0m in \u001b[0;36m<module>\u001b[1;34m()\u001b[0m\n\u001b[1;32m----> 1\u001b[1;33m \u001b[0mmodel\u001b[0m \u001b[1;33m=\u001b[0m \u001b[0mget_model\u001b[0m\u001b[1;33m(\u001b[0m\u001b[0minput_shape\u001b[0m\u001b[1;33m=\u001b[0m\u001b[0mX_train\u001b[0m\u001b[1;33m.\u001b[0m\u001b[0mshape\u001b[0m\u001b[1;33m[\u001b[0m\u001b[1;36m1\u001b[0m\u001b[1;33m:\u001b[0m\u001b[1;33m]\u001b[0m\u001b[1;33m)\u001b[0m\u001b[1;33m\u001b[0m\u001b[0m\n\u001b[0m",
      "\u001b[1;31mNameError\u001b[0m: name 'X_train' is not defined"
     ]
    }
   ],
   "source": [
    "model = get_model(input_shape=X_train.shape[1:])"
   ]
  },
  {
   "cell_type": "code",
   "execution_count": null,
   "metadata": {
    "collapsed": true
   },
   "outputs": [],
   "source": [
    "def get_callbacks(filepath, patience=2):\n",
    "#     es = EarlyStopping('val_loss', patience=patience, mode=\"min\")\n",
    "    msave = ModelCheckpoint(filepath, save_best_only=True)\n",
    "#     return [es, msave]\n",
    "    return [msave]\n",
    "callbacks = get_callbacks(filepath=os.path.join(OUTPUT_PATH, MODEL_FILE), patience=5)"
   ]
  },
  {
   "cell_type": "code",
   "execution_count": null,
   "metadata": {
    "collapsed": true,
    "scrolled": false
   },
   "outputs": [],
   "source": [
    "# model = load_model(os.path.join(OUTPUT_PATH, MODEL_FILE))\n",
    "history = model.fit(x=X_train, y=y_train, batch_size=128, validation_data=(X_valid, y_valid), callbacks=callbacks, \\\n",
    "                    class_weight=class_weight, epochs=50, shuffle=True, verbose=1)\n",
    "log.info(pd.DataFrame(history.history).round(decimals=3))\n",
    "log.info('- Model save : {}'.format(os.path.join(OUTPUT_PATH, MODEL_FILE)))\n",
    "model.save(os.path.join(OUTPUT_PATH, MODEL_FILE))"
   ]
  },
  {
   "cell_type": "code",
   "execution_count": 30,
   "metadata": {},
   "outputs": [
    {
     "name": "stdout",
     "output_type": "stream",
     "text": [
      "3312/3312 [==============================] - 3s 987us/step\n",
      "* 정확도 : 0.97222\n",
      "\n",
      " -------------------------- \n",
      "\n",
      "preds    silence  unknown  down   go  left   no  off   on  right  stop   up  \\\n",
      "actuals                                                                       \n",
      "silence       80        0     0    0     0    0    0    0      0     0    2   \n",
      "unknown        0     1970     4    9     2   14    1    6      0     1   13   \n",
      "down           0        1   117    0     0    3    0    0      0     0    0   \n",
      "go             0        0     1  122     0    3    0    1      0     0    0   \n",
      "left           0        2     0    0   132    0    0    0      0     0    1   \n",
      "no             0        0     0    0     1  106    0    0      0     1    0   \n",
      "off            0        1     0    0     0    0  109    0      0     0    3   \n",
      "on             0        2     0    0     0    0    2  113      1     0    2   \n",
      "right          0        3     0    0     0    1    0    0    107     0    1   \n",
      "stop           0        1     0    0     0    0    0    0      0   136    0   \n",
      "up             0        3     0    0     0    0    0    0      0     0  119   \n",
      "yes            0        2     0    0     0    0    0    0      0     0    0   \n",
      "\n",
      "preds    yes  \n",
      "actuals       \n",
      "silence    0  \n",
      "unknown    1  \n",
      "down       0  \n",
      "go         1  \n",
      "left       1  \n",
      "no         0  \n",
      "off        0  \n",
      "on         0  \n",
      "right      0  \n",
      "stop       0  \n",
      "up         1  \n",
      "yes      109  \n",
      "\n",
      " -------------------------- \n",
      "\n",
      "             precision    recall  f1-score   support\n",
      "\n",
      "       down       0.96      0.97      0.96       121\n",
      "         go       0.93      0.95      0.94       128\n",
      "       left       0.98      0.97      0.97       136\n",
      "         no       0.83      0.98      0.90       108\n",
      "        off       0.97      0.96      0.97       113\n",
      "         on       0.94      0.94      0.94       120\n",
      "      right       0.99      0.96      0.97       112\n",
      "    silence       1.00      0.98      0.99        82\n",
      "       stop       0.99      0.99      0.99       137\n",
      "    unknown       0.99      0.97      0.98      2021\n",
      "         up       0.84      0.97      0.90       123\n",
      "        yes       0.96      0.98      0.97       111\n",
      "\n",
      "avg / total       0.97      0.97      0.97      3312\n",
      "\n"
     ]
    }
   ],
   "source": [
    "eval_model(X_valid, y_valid, model)"
   ]
  },
  {
   "cell_type": "code",
   "execution_count": null,
   "metadata": {
    "collapsed": true
   },
   "outputs": [],
   "source": []
  },
  {
   "cell_type": "code",
   "execution_count": null,
   "metadata": {
    "collapsed": true
   },
   "outputs": [],
   "source": []
  },
  {
   "cell_type": "markdown",
   "metadata": {
    "collapsed": true
   },
   "source": [
    "# 제출파일 생성"
   ]
  },
  {
   "cell_type": "code",
   "execution_count": null,
   "metadata": {
    "collapsed": true
   },
   "outputs": [],
   "source": []
  },
  {
   "cell_type": "code",
   "execution_count": 33,
   "metadata": {
    "collapsed": true
   },
   "outputs": [],
   "source": [
    "def preprocess_sub(submission_fpaths, replace=False):\n",
    "    start_time = time.time()\n",
    "    data_file = os.path.join(INPUT_PATH, 'X_test_'+MODEL_FILE.split('_')[0]+'.pkl') # X_test_(피쳐추출알고리즘).pkl\n",
    "    if (not replace) and os.path.exists(data_file):\n",
    "        X_test = pickle.load(open(data_file, 'rb'))\n",
    "    else:\n",
    "        ## load & Preprocess Data\n",
    "        X_test = []\n",
    "        for fpath in submission_fpaths:\n",
    "            samples, sample_rate = librosa.load(fpath, sr=AUDIO_SR)\n",
    "            specgram = log_specgram(samples)\n",
    "            X_test.append(specgram)\n",
    "        X_test = np.array(X_test)\n",
    "        X_test = X_test.reshape(tuple(list(X_test.shape) + [1]))   \n",
    "        pickle.dump(X_test, open(data_file, 'wb'), protocol=4)\n",
    "    log.info('Shape of X_test : {}'.format(X_test.shape))\n",
    "    log.info('Preprocessing Submission files Complete - {:.2f} sec'.format(time.time()-start_time))\n",
    "    return X_test"
   ]
  },
  {
   "cell_type": "code",
   "execution_count": 34,
   "metadata": {},
   "outputs": [
    {
     "name": "stdout",
     "output_type": "stream",
     "text": [
      "Shape of X_test : (158538, 121, 267, 1)\n",
      "Preprocessing Submission files Complete - 911.89 sec\n",
      "CPU times: user 9min 19s, sys: 5min 43s, total: 15min 3s\n",
      "Wall time: 15min 12s\n"
     ]
    }
   ],
   "source": [
    "%%time\n",
    "submission_fpaths = sorted(glob(os.path.join(TEST_PATH, r'*wav')))\n",
    "X_test = preprocess_sub(submission_fpaths)"
   ]
  },
  {
   "cell_type": "code",
   "execution_count": 36,
   "metadata": {},
   "outputs": [
    {
     "name": "stdout",
     "output_type": "stream",
     "text": [
      "158538/158538 [==============================] - 122s 769us/step\n"
     ]
    }
   ],
   "source": [
    "preds_proba = model.predict(X_test, batch_size=256, verbose=1)\n",
    "pickle.dump(preds_proba, open(os.path.join(OUTPUT_PATH, 'sub_' + MODEL_FILE.split('.')[0] + '_proba.pkl'), 'wb'))\n",
    "preds = [[L.replace('_', '') for L in LABELS][i] for i in np.argmax(preds_proba, axis=1)]"
   ]
  },
  {
   "cell_type": "code",
   "execution_count": 37,
   "metadata": {},
   "outputs": [
    {
     "name": "stdout",
     "output_type": "stream",
     "text": [
      "unknown    90685\n",
      "no          8679\n",
      "up          7313\n",
      "on          6511\n",
      "silence     6340\n",
      "left        6163\n",
      "off         5624\n",
      "stop        5503\n",
      "down        5483\n",
      "right       5449\n",
      "go          5417\n",
      "yes         5371\n",
      "Name: label, dtype: int64\n",
      "Save File : ./output/sub_spect_rcnn2.csv\n"
     ]
    }
   ],
   "source": [
    "d = OrderedDict()\n",
    "d['fname'] = submission_fpaths\n",
    "d['label'] = preds\n",
    "for l in LABELS:\n",
    "    d['{}'.format(l)]=preds_proba[:,LABELS.index(l)]\n",
    "    \n",
    "df = pd.DataFrame(d) \n",
    "df['fname'] = df['fname'].apply(lambda p: p.split('/')[-1]) \n",
    "\n",
    "log.info(df['label'].value_counts())\n",
    "\n",
    "df[['fname','label']].to_csv(os.path.join(OUTPUT_PATH, 'sub_' + MODEL_FILE.split('.')[0] + '.csv'), index=False) \n",
    "log.info('Save File : {}'.format(os.path.join(OUTPUT_PATH, 'sub_' + MODEL_FILE.split('.')[0] + '.csv')))"
   ]
  },
  {
   "cell_type": "code",
   "execution_count": null,
   "metadata": {
    "collapsed": true
   },
   "outputs": [],
   "source": []
  },
  {
   "cell_type": "code",
   "execution_count": 39,
   "metadata": {
    "collapsed": true
   },
   "outputs": [],
   "source": [
    "from scipy.io import wavfile\n",
    "import IPython.display as ipd\n",
    "from scipy.stats import entropy\n",
    "%matplotlib inline"
   ]
  },
  {
   "cell_type": "code",
   "execution_count": 40,
   "metadata": {
    "collapsed": true
   },
   "outputs": [],
   "source": [
    "def softmax(x):\n",
    "    \"\"\"Compute softmax values for each sets of scores in x.\"\"\"\n",
    "    e_x = np.exp(x - np.max(x))\n",
    "    return e_x / e_x.sum(axis=0)"
   ]
  },
  {
   "cell_type": "code",
   "execution_count": 47,
   "metadata": {},
   "outputs": [
    {
     "name": "stdout",
     "output_type": "stream",
     "text": [
      "          l     p\n",
      "0   silence  0.00\n",
      "1   unknown  0.09\n",
      "2      down  0.00\n",
      "3        go  0.00\n",
      "4      left  0.00\n",
      "5        no  0.91\n",
      "6       off  0.00\n",
      "7        on  0.00\n",
      "8     right  0.00\n",
      "9      stop  0.00\n",
      "10       up  0.00\n",
      "11      yes  0.00\n",
      "\n",
      "entropy :  0.3025378\n",
      "\n",
      "voice_entropy :  0.3025378\n"
     ]
    },
    {
     "data": {
      "text/html": [
       "\n",
       "                <audio controls=\"controls\" >\n",
       "                    <source src=\"data:audio/wav;base64,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\" type=\"audio/wav\" />\n",
       "                    Your browser does not support the audio element.\n",
       "                </audio>\n",
       "              "
      ],
      "text/plain": [
       "<IPython.lib.display.Audio object>"
      ]
     },
     "execution_count": 47,
     "metadata": {},
     "output_type": "execute_result"
    }
   ],
   "source": [
    "i=87\n",
    "label = 'no'\n",
    "\n",
    "temp_fname = df[df['label']==label]['fname'].tolist()[i]\n",
    "idx = df[df['label']==label]['fname'].index[i]\n",
    "file_path = os.path.join(TEST_PATH, temp_fname)\n",
    "t = pd.DataFrame({'p':preds_proba[idx].round(decimals=2), 'l':LABELS})\n",
    "print(t)\n",
    "print('\\nentropy : ', entropy(t['p']))\n",
    "print('\\nvoice_entropy : ', entropy(t['p'][1:]))\n",
    "sample_rate, samples = wavfile.read(file_path)\n",
    "ipd.Audio(samples, rate=sample_rate)"
   ]
  },
  {
   "cell_type": "code",
   "execution_count": 1,
   "metadata": {},
   "outputs": [
    {
     "ename": "NameError",
     "evalue": "name 'df' is not defined",
     "output_type": "error",
     "traceback": [
      "\u001b[1;31m---------------------------------------------------------------------------\u001b[0m",
      "\u001b[1;31mNameError\u001b[0m                                 Traceback (most recent call last)",
      "\u001b[1;32m<ipython-input-1-4e3e85646d73>\u001b[0m in \u001b[0;36m<module>\u001b[1;34m()\u001b[0m\n\u001b[1;32m----> 1\u001b[1;33m \u001b[0mget_ipython\u001b[0m\u001b[1;33m(\u001b[0m\u001b[1;33m)\u001b[0m\u001b[1;33m.\u001b[0m\u001b[0mrun_cell_magic\u001b[0m\u001b[1;33m(\u001b[0m\u001b[1;34m'time'\u001b[0m\u001b[1;33m,\u001b[0m \u001b[1;34m''\u001b[0m\u001b[1;33m,\u001b[0m \u001b[1;34m\"label_n = []\\nfor i, row in df.iterrows():\\n    if row['label'] in ['down','go','left','no','off','on', 'right', 'stop', 'up', 'yes']:\\n        ent = entropy(row[LABELS].tolist())\\n        if ent > 1.5:\\n            correct_l = 'silence'\\n        elif ent > 0.4:\\n            correct_l = 'unknown'\\n        else: \\n            correct_l = row['label']\\n    else:\\n        correct_l = row['label']\\n    label_n.append(correct_l)\"\u001b[0m\u001b[1;33m)\u001b[0m\u001b[1;33m\u001b[0m\u001b[0m\n\u001b[0m",
      "\u001b[1;32m/home/chi/anaconda3/lib/python3.5/site-packages/IPython/core/interactiveshell.py\u001b[0m in \u001b[0;36mrun_cell_magic\u001b[1;34m(self, magic_name, line, cell)\u001b[0m\n\u001b[0;32m   2291\u001b[0m             \u001b[0mmagic_arg_s\u001b[0m \u001b[1;33m=\u001b[0m \u001b[0mself\u001b[0m\u001b[1;33m.\u001b[0m\u001b[0mvar_expand\u001b[0m\u001b[1;33m(\u001b[0m\u001b[0mline\u001b[0m\u001b[1;33m,\u001b[0m \u001b[0mstack_depth\u001b[0m\u001b[1;33m)\u001b[0m\u001b[1;33m\u001b[0m\u001b[0m\n\u001b[0;32m   2292\u001b[0m             \u001b[1;32mwith\u001b[0m \u001b[0mself\u001b[0m\u001b[1;33m.\u001b[0m\u001b[0mbuiltin_trap\u001b[0m\u001b[1;33m:\u001b[0m\u001b[1;33m\u001b[0m\u001b[0m\n\u001b[1;32m-> 2293\u001b[1;33m                 \u001b[0mresult\u001b[0m \u001b[1;33m=\u001b[0m \u001b[0mfn\u001b[0m\u001b[1;33m(\u001b[0m\u001b[0mmagic_arg_s\u001b[0m\u001b[1;33m,\u001b[0m \u001b[0mcell\u001b[0m\u001b[1;33m)\u001b[0m\u001b[1;33m\u001b[0m\u001b[0m\n\u001b[0m\u001b[0;32m   2294\u001b[0m             \u001b[1;32mreturn\u001b[0m \u001b[0mresult\u001b[0m\u001b[1;33m\u001b[0m\u001b[0m\n\u001b[0;32m   2295\u001b[0m \u001b[1;33m\u001b[0m\u001b[0m\n",
      "\u001b[1;32m<decorator-gen-60>\u001b[0m in \u001b[0;36mtime\u001b[1;34m(self, line, cell, local_ns)\u001b[0m\n",
      "\u001b[1;32m/home/chi/anaconda3/lib/python3.5/site-packages/IPython/core/magic.py\u001b[0m in \u001b[0;36m<lambda>\u001b[1;34m(f, *a, **k)\u001b[0m\n\u001b[0;32m    191\u001b[0m     \u001b[1;31m# but it's overkill for just that one bit of state.\u001b[0m\u001b[1;33m\u001b[0m\u001b[1;33m\u001b[0m\u001b[0m\n\u001b[0;32m    192\u001b[0m     \u001b[1;32mdef\u001b[0m \u001b[0mmagic_deco\u001b[0m\u001b[1;33m(\u001b[0m\u001b[0marg\u001b[0m\u001b[1;33m)\u001b[0m\u001b[1;33m:\u001b[0m\u001b[1;33m\u001b[0m\u001b[0m\n\u001b[1;32m--> 193\u001b[1;33m         \u001b[0mcall\u001b[0m \u001b[1;33m=\u001b[0m \u001b[1;32mlambda\u001b[0m \u001b[0mf\u001b[0m\u001b[1;33m,\u001b[0m \u001b[1;33m*\u001b[0m\u001b[0ma\u001b[0m\u001b[1;33m,\u001b[0m \u001b[1;33m**\u001b[0m\u001b[0mk\u001b[0m\u001b[1;33m:\u001b[0m \u001b[0mf\u001b[0m\u001b[1;33m(\u001b[0m\u001b[1;33m*\u001b[0m\u001b[0ma\u001b[0m\u001b[1;33m,\u001b[0m \u001b[1;33m**\u001b[0m\u001b[0mk\u001b[0m\u001b[1;33m)\u001b[0m\u001b[1;33m\u001b[0m\u001b[0m\n\u001b[0m\u001b[0;32m    194\u001b[0m \u001b[1;33m\u001b[0m\u001b[0m\n\u001b[0;32m    195\u001b[0m         \u001b[1;32mif\u001b[0m \u001b[0mcallable\u001b[0m\u001b[1;33m(\u001b[0m\u001b[0marg\u001b[0m\u001b[1;33m)\u001b[0m\u001b[1;33m:\u001b[0m\u001b[1;33m\u001b[0m\u001b[0m\n",
      "\u001b[1;32m/home/chi/anaconda3/lib/python3.5/site-packages/IPython/core/magics/execution.py\u001b[0m in \u001b[0;36mtime\u001b[1;34m(self, line, cell, local_ns)\u001b[0m\n\u001b[0;32m   1165\u001b[0m         \u001b[1;32melse\u001b[0m\u001b[1;33m:\u001b[0m\u001b[1;33m\u001b[0m\u001b[0m\n\u001b[0;32m   1166\u001b[0m             \u001b[0mst\u001b[0m \u001b[1;33m=\u001b[0m \u001b[0mclock2\u001b[0m\u001b[1;33m(\u001b[0m\u001b[1;33m)\u001b[0m\u001b[1;33m\u001b[0m\u001b[0m\n\u001b[1;32m-> 1167\u001b[1;33m             \u001b[0mexec\u001b[0m\u001b[1;33m(\u001b[0m\u001b[0mcode\u001b[0m\u001b[1;33m,\u001b[0m \u001b[0mglob\u001b[0m\u001b[1;33m,\u001b[0m \u001b[0mlocal_ns\u001b[0m\u001b[1;33m)\u001b[0m\u001b[1;33m\u001b[0m\u001b[0m\n\u001b[0m\u001b[0;32m   1168\u001b[0m             \u001b[0mend\u001b[0m \u001b[1;33m=\u001b[0m \u001b[0mclock2\u001b[0m\u001b[1;33m(\u001b[0m\u001b[1;33m)\u001b[0m\u001b[1;33m\u001b[0m\u001b[0m\n\u001b[0;32m   1169\u001b[0m             \u001b[0mout\u001b[0m \u001b[1;33m=\u001b[0m \u001b[1;32mNone\u001b[0m\u001b[1;33m\u001b[0m\u001b[0m\n",
      "\u001b[1;32m<timed exec>\u001b[0m in \u001b[0;36m<module>\u001b[1;34m()\u001b[0m\n",
      "\u001b[1;31mNameError\u001b[0m: name 'df' is not defined"
     ]
    }
   ],
   "source": [
    "%%time\n",
    "label_n = []\n",
    "for i, row in df.iterrows():\n",
    "    if row['label'] in ['down','go','left','no','off','on', 'right', 'stop', 'up', 'yes']:\n",
    "        ent = entropy(row[LABELS].tolist())\n",
    "        if ent > 1.5:\n",
    "            correct_l = 'silence'\n",
    "        elif ent > 0.4:\n",
    "            correct_l = 'unknown'\n",
    "        else: \n",
    "            correct_l = row['label']\n",
    "    else:\n",
    "        correct_l = row['label']\n",
    "    label_n.append(correct_l)"
   ]
  },
  {
   "cell_type": "code",
   "execution_count": null,
   "metadata": {
    "collapsed": true
   },
   "outputs": [],
   "source": [
    "df['label_n'] = label_n\n",
    "df['label_n'].value_counts()"
   ]
  },
  {
   "cell_type": "code",
   "execution_count": null,
   "metadata": {
    "collapsed": true
   },
   "outputs": [],
   "source": [
    "df_n = df.copy()\n",
    "df_n['label']=df_n['label_n']\n",
    "df_n[['fname','label']].to_csv(os.path.join(OUTPUT_PATH, 'sub_' + MODEL_FILE.split('.')[0] + '_cor.csv'), index=False) "
   ]
  },
  {
   "cell_type": "code",
   "execution_count": null,
   "metadata": {
    "collapsed": true
   },
   "outputs": [],
   "source": []
  },
  {
   "cell_type": "code",
   "execution_count": null,
   "metadata": {
    "collapsed": true
   },
   "outputs": [],
   "source": []
  },
  {
   "cell_type": "code",
   "execution_count": null,
   "metadata": {
    "collapsed": true
   },
   "outputs": [],
   "source": []
  },
  {
   "cell_type": "code",
   "execution_count": null,
   "metadata": {
    "collapsed": true
   },
   "outputs": [],
   "source": []
  },
  {
   "cell_type": "code",
   "execution_count": null,
   "metadata": {
    "collapsed": true
   },
   "outputs": [],
   "source": []
  },
  {
   "cell_type": "code",
   "execution_count": null,
   "metadata": {
    "collapsed": true
   },
   "outputs": [],
   "source": []
  },
  {
   "cell_type": "code",
   "execution_count": null,
   "metadata": {
    "collapsed": true
   },
   "outputs": [],
   "source": []
  }
 ],
 "metadata": {
  "kernelspec": {
   "display_name": "Python 3",
   "language": "python",
   "name": "python3"
  },
  "language_info": {
   "codemirror_mode": {
    "name": "ipython",
    "version": 3
   },
   "file_extension": ".py",
   "mimetype": "text/x-python",
   "name": "python",
   "nbconvert_exporter": "python",
   "pygments_lexer": "ipython3",
   "version": "3.5.3"
  }
 },
 "nbformat": 4,
 "nbformat_minor": 1
}
